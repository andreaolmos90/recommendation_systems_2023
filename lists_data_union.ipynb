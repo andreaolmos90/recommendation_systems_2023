{
 "cells": [
  {
   "cell_type": "code",
   "execution_count": 2,
   "metadata": {},
   "outputs": [
    {
     "data": {
      "text/plain": [
       "'/Users/andreaolmos/Documents/personal/maestria_dm/recommendation_systems_2023'"
      ]
     },
     "execution_count": 2,
     "metadata": {},
     "output_type": "execute_result"
    }
   ],
   "source": [
    "import csv\n",
    "import pandas as pd\n",
    "import os \n",
    "import glob\n",
    "\n"
   ]
  },
  {
   "cell_type": "markdown",
   "metadata": {},
   "source": [
    "# Unión de la data de todas las listas"
   ]
  },
  {
   "cell_type": "markdown",
   "metadata": {},
   "source": [
    "traigo y trato las listas originales"
   ]
  },
  {
   "cell_type": "code",
   "execution_count": 149,
   "metadata": {},
   "outputs": [],
   "source": [
    "all_the_lists = pd.read_csv(\"letterboxd_project/data/lists_data/all_the_lists/lists_complete.csv\")"
   ]
  },
  {
   "cell_type": "code",
   "execution_count": null,
   "metadata": {},
   "outputs": [],
   "source": [
    "#tratamiento de la extensión de la lista\n",
    "all_the_lists[\"extension\"] = all_the_lists[\"list_extension\"].replace('films', '', regex=True)\n",
    "all_the_lists[\"extension\"] = all_the_lists[\"extension\"].replace(' film', '', regex=True)\n",
    "all_the_lists[\"extension\"] = all_the_lists[\"extension\"].replace(',', '', regex=True)\n",
    "all_the_lists[\"extension\"] = all_the_lists[\"extension\"].replace('\\xa0film', '', regex=True)\n",
    "\n",
    "extensions = []\n",
    "for i in range(0, len(all_the_lists[\"extension\"])):\n",
    "    try:\n",
    "       extensions.append(int(all_the_lists[\"extension\"][i]))\n",
    "\n",
    "    except:\n",
    "       extensions.append(0)\n",
    "\n",
    "all_the_lists[\"extension\"] = extensions\n"
   ]
  },
  {
   "cell_type": "markdown",
   "metadata": {},
   "source": [
    "uno todos los archivos con datos de las listas"
   ]
  },
  {
   "cell_type": "code",
   "execution_count": 33,
   "metadata": {},
   "outputs": [
    {
     "data": {
      "text/plain": [
       "['letterboxd_project/data/lists_data/lists_data_2_b.csv',\n",
       " 'letterboxd_project/data/lists_data/lists_data_4_b.csv',\n",
       " 'letterboxd_project/data/lists_data/lists_data_8.csv',\n",
       " 'letterboxd_project/data/lists_data/lists_data_6.csv',\n",
       " 'letterboxd_project/data/lists_data/lists_data_4.csv',\n",
       " 'letterboxd_project/data/lists_data/lists_data_1.csv',\n",
       " 'letterboxd_project/data/lists_data/lists_data_3.csv',\n",
       " 'letterboxd_project/data/lists_data/lists_data_2.csv']"
      ]
     },
     "execution_count": 33,
     "metadata": {},
     "output_type": "execute_result"
    }
   ],
   "source": [
    "glob.glob(\"letterboxd_project/data/lists_data/*.csv\")"
   ]
  },
  {
   "cell_type": "code",
   "execution_count": 76,
   "metadata": {},
   "outputs": [
    {
     "name": "stdout",
     "output_type": "stream",
     "text": [
      "letterboxd_project/data/lists_data/lists_data_2_b.csv\n",
      "letterboxd_project/data/lists_data/lists_data_4_b.csv\n",
      "letterboxd_project/data/lists_data/lists_data_8.csv\n",
      "letterboxd_project/data/lists_data/lists_data_6.csv\n",
      "letterboxd_project/data/lists_data/lists_data_4.csv\n",
      "letterboxd_project/data/lists_data/lists_data_1.csv\n",
      "letterboxd_project/data/lists_data/lists_data_3.csv\n",
      "letterboxd_project/data/lists_data/lists_data_2.csv\n"
     ]
    }
   ],
   "source": [
    "csv_files = glob.glob(\"letterboxd_project/data/lists_data/*.csv\")\n",
    "df = pd.DataFrame()  \n",
    "  \n",
    "# loop over the list of csv files\n",
    "for f in csv_files:\n",
    "    print(f)\n",
    "    # read the csv file\n",
    "    temp_df = pd.read_csv(f)\n",
    "    #print(temp_df.head())\n",
    "    df = pd.concat([df, temp_df])\n",
    "      "
   ]
  },
  {
   "cell_type": "code",
   "execution_count": 77,
   "metadata": {},
   "outputs": [
    {
     "data": {
      "text/plain": [
       "(350806, 4)"
      ]
     },
     "execution_count": 77,
     "metadata": {},
     "output_type": "execute_result"
    }
   ],
   "source": [
    "df.shape"
   ]
  },
  {
   "cell_type": "code",
   "execution_count": 79,
   "metadata": {},
   "outputs": [],
   "source": [
    "#limpio repetidos\n",
    "df = df.drop_duplicates()"
   ]
  },
  {
   "cell_type": "code",
   "execution_count": 83,
   "metadata": {},
   "outputs": [],
   "source": [
    "#busco los que no están en las listas (ids de listas que no se descargaron)\n",
    "df_to_recover = all_the_lists[~all_the_lists['list_id'].isin(df.list_id)]"
   ]
  },
  {
   "cell_type": "markdown",
   "metadata": {},
   "source": [
    "guardo la data de las listas en un solo archivo"
   ]
  },
  {
   "cell_type": "code",
   "execution_count": 270,
   "metadata": {},
   "outputs": [],
   "source": [
    "df.to_csv(\"letterboxd_project/data/lists_data/all_the_lists/all_the_lists_data.csv\")"
   ]
  },
  {
   "cell_type": "markdown",
   "metadata": {},
   "source": [
    "# movies and lists ( interacciones )"
   ]
  },
  {
   "cell_type": "markdown",
   "metadata": {},
   "source": [
    "uno todos los archivos de películas en listas"
   ]
  },
  {
   "cell_type": "code",
   "execution_count": 85,
   "metadata": {},
   "outputs": [
    {
     "data": {
      "text/plain": [
       "['letterboxd_project/data/movies_lists_data/movies_lists_6.csv',\n",
       " 'letterboxd_project/data/movies_lists_data/movies_lists_4.csv',\n",
       " 'letterboxd_project/data/movies_lists_data/movies_lists_1.csv',\n",
       " 'letterboxd_project/data/movies_lists_data/movies_lists_2.csv',\n",
       " 'letterboxd_project/data/movies_lists_data/movies_lists_3.csv',\n",
       " 'letterboxd_project/data/movies_lists_data/movies_lists_2_b.csv',\n",
       " 'letterboxd_project/data/movies_lists_data/movies_lists_8.csv',\n",
       " 'letterboxd_project/data/movies_lists_data/movies_lists_4_b.csv',\n",
       " 'letterboxd_project/data/movies_lists_data/movies_lists_3_b.csv']"
      ]
     },
     "execution_count": 85,
     "metadata": {},
     "output_type": "execute_result"
    }
   ],
   "source": [
    "glob.glob(\"letterboxd_project/data/movies_lists_data/*.csv\")"
   ]
  },
  {
   "cell_type": "code",
   "execution_count": 230,
   "metadata": {},
   "outputs": [
    {
     "name": "stdout",
     "output_type": "stream",
     "text": [
      "letterboxd_project/data/movies_lists_data/movies_lists_6.csv\n",
      "letterboxd_project/data/movies_lists_data/movies_lists_4.csv\n",
      "letterboxd_project/data/movies_lists_data/movies_lists_1.csv\n",
      "letterboxd_project/data/movies_lists_data/movies_lists_2.csv\n",
      "letterboxd_project/data/movies_lists_data/movies_lists_3.csv\n",
      "letterboxd_project/data/movies_lists_data/movies_lists_2_b.csv\n",
      "letterboxd_project/data/movies_lists_data/movies_lists_8.csv\n",
      "letterboxd_project/data/movies_lists_data/movies_lists_4_b.csv\n",
      "letterboxd_project/data/movies_lists_data/movies_lists_3_b.csv\n"
     ]
    }
   ],
   "source": [
    "csv_files = glob.glob(\"letterboxd_project/data/movies_lists_data/*.csv\")\n",
    "movies = pd.DataFrame()  \n",
    "  \n",
    "# loop over the list of csv files\n",
    "for f in csv_files:\n",
    "    print(f)\n",
    "    # read the csv file\n",
    "    temp_df = pd.read_csv(f)\n",
    "    #print(temp_df.head())\n",
    "    movies = pd.concat([movies, temp_df])\n",
    "      "
   ]
  },
  {
   "cell_type": "code",
   "execution_count": 231,
   "metadata": {},
   "outputs": [
    {
     "data": {
      "text/plain": [
       "(17616562, 5)"
      ]
     },
     "execution_count": 231,
     "metadata": {},
     "output_type": "execute_result"
    }
   ],
   "source": [
    "movies.shape"
   ]
  },
  {
   "cell_type": "code",
   "execution_count": 232,
   "metadata": {},
   "outputs": [],
   "source": [
    "movies = movies.drop_duplicates()"
   ]
  },
  {
   "cell_type": "code",
   "execution_count": 233,
   "metadata": {},
   "outputs": [
    {
     "data": {
      "text/plain": [
       "(17051045, 5)"
      ]
     },
     "execution_count": 233,
     "metadata": {},
     "output_type": "execute_result"
    }
   ],
   "source": [
    "movies.shape"
   ]
  },
  {
   "cell_type": "code",
   "execution_count": 234,
   "metadata": {},
   "outputs": [
    {
     "data": {
      "text/html": [
       "<div>\n",
       "<style scoped>\n",
       "    .dataframe tbody tr th:only-of-type {\n",
       "        vertical-align: middle;\n",
       "    }\n",
       "\n",
       "    .dataframe tbody tr th {\n",
       "        vertical-align: top;\n",
       "    }\n",
       "\n",
       "    .dataframe thead th {\n",
       "        text-align: right;\n",
       "    }\n",
       "</style>\n",
       "<table border=\"1\" class=\"dataframe\">\n",
       "  <thead>\n",
       "    <tr style=\"text-align: right;\">\n",
       "      <th></th>\n",
       "      <th>list_id</th>\n",
       "      <th>movie_link</th>\n",
       "      <th>movie_stars</th>\n",
       "      <th>movie_calification</th>\n",
       "      <th>movie_position</th>\n",
       "    </tr>\n",
       "  </thead>\n",
       "  <tbody>\n",
       "    <tr>\n",
       "      <th>0</th>\n",
       "      <td>5679698</td>\n",
       "      <td>/film/do-the-right-thing/</td>\n",
       "      <td>★★★★★</td>\n",
       "      <td>5.0</td>\n",
       "      <td>1.0</td>\n",
       "    </tr>\n",
       "    <tr>\n",
       "      <th>1</th>\n",
       "      <td>5679698</td>\n",
       "      <td>/film/singin-in-the-rain/</td>\n",
       "      <td>★★★★★</td>\n",
       "      <td>5.0</td>\n",
       "      <td>2.0</td>\n",
       "    </tr>\n",
       "    <tr>\n",
       "      <th>2</th>\n",
       "      <td>5679698</td>\n",
       "      <td>/film/nashville/</td>\n",
       "      <td>★★★★★</td>\n",
       "      <td>5.0</td>\n",
       "      <td>3.0</td>\n",
       "    </tr>\n",
       "    <tr>\n",
       "      <th>3</th>\n",
       "      <td>5679698</td>\n",
       "      <td>/film/the-wizard-of-oz-1939/</td>\n",
       "      <td>★★★★★</td>\n",
       "      <td>5.0</td>\n",
       "      <td>4.0</td>\n",
       "    </tr>\n",
       "    <tr>\n",
       "      <th>4</th>\n",
       "      <td>5679698</td>\n",
       "      <td>/film/the-apartment/</td>\n",
       "      <td>★★★★★</td>\n",
       "      <td>5.0</td>\n",
       "      <td>5.0</td>\n",
       "    </tr>\n",
       "  </tbody>\n",
       "</table>\n",
       "</div>"
      ],
      "text/plain": [
       "   list_id                    movie_link movie_stars  movie_calification  \\\n",
       "0  5679698     /film/do-the-right-thing/      ★★★★★                  5.0   \n",
       "1  5679698     /film/singin-in-the-rain/      ★★★★★                  5.0   \n",
       "2  5679698              /film/nashville/      ★★★★★                  5.0   \n",
       "3  5679698  /film/the-wizard-of-oz-1939/      ★★★★★                  5.0   \n",
       "4  5679698          /film/the-apartment/      ★★★★★                  5.0   \n",
       "\n",
       "   movie_position  \n",
       "0             1.0  \n",
       "1             2.0  \n",
       "2             3.0  \n",
       "3             4.0  \n",
       "4             5.0  "
      ]
     },
     "execution_count": 234,
     "metadata": {},
     "output_type": "execute_result"
    }
   ],
   "source": [
    "movies.head()"
   ]
  },
  {
   "cell_type": "markdown",
   "metadata": {},
   "source": [
    "guardo el archivo de interacciones"
   ]
  },
  {
   "cell_type": "code",
   "execution_count": 267,
   "metadata": {},
   "outputs": [],
   "source": [
    "movies.to_csv(\"letterboxd_project/data/movies_lists_data/all_movies_lists_interactions.csv\")"
   ]
  },
  {
   "cell_type": "markdown",
   "metadata": {},
   "source": [
    "control: están todas las películas de las listas?"
   ]
  },
  {
   "cell_type": "code",
   "execution_count": 187,
   "metadata": {},
   "outputs": [],
   "source": [
    "# tengo que ver si bajé todas las películas de las listas\n",
    "# voy a contar las películas que tengo por lista y ver si coinciden con la extension de la lista\n",
    "movies_counts = pd.DataFrame(movies[\"list_id\"].value_counts()).reset_index()\n",
    "movies_counts.columns = ['list_id', 'counts']\n",
    "merged_count = all_the_lists.merge(movies_counts, how=\"left\")"
   ]
  },
  {
   "cell_type": "code",
   "execution_count": 236,
   "metadata": {},
   "outputs": [],
   "source": [
    "volver_a_descargar = merged_count[merged_count[\"extension\"] != merged_count[\"counts\"]]"
   ]
  },
  {
   "cell_type": "markdown",
   "metadata": {},
   "source": [
    "uno las listas que no se descargaron + las listas incompletas"
   ]
  },
  {
   "cell_type": "code",
   "execution_count": 254,
   "metadata": {},
   "outputs": [],
   "source": [
    "recover = pd.concat([volver_a_descargar.iloc[:,:-2], df_to_recover]).drop_duplicates()"
   ]
  },
  {
   "cell_type": "code",
   "execution_count": 255,
   "metadata": {},
   "outputs": [],
   "source": [
    "recover.to_csv(\"letterboxd_project/data/volver_a_descargar.csv\")"
   ]
  },
  {
   "cell_type": "markdown",
   "metadata": {},
   "source": [
    "veo cuántas películas hay y guardo esa data para empezar a descargar"
   ]
  },
  {
   "cell_type": "code",
   "execution_count": 271,
   "metadata": {},
   "outputs": [],
   "source": [
    "movies_to_download = movies[\"movie_link\"].drop_duplicates()\n",
    "movies_to_download.to_csv(\"letterboxd_project/data/all_the_movies.csv\", index=False)"
   ]
  },
  {
   "cell_type": "code",
   "execution_count": null,
   "metadata": {},
   "outputs": [],
   "source": []
  }
 ],
 "metadata": {
  "kernelspec": {
   "display_name": "sr_2023",
   "language": "python",
   "name": "python3"
  },
  "language_info": {
   "codemirror_mode": {
    "name": "ipython",
    "version": 3
   },
   "file_extension": ".py",
   "mimetype": "text/x-python",
   "name": "python",
   "nbconvert_exporter": "python",
   "pygments_lexer": "ipython3",
   "version": "3.11.4"
  },
  "orig_nbformat": 4
 },
 "nbformat": 4,
 "nbformat_minor": 2
}
