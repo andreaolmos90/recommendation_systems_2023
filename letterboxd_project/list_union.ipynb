{
 "cells": [
  {
   "cell_type": "code",
   "execution_count": 5,
   "metadata": {},
   "outputs": [],
   "source": [
    "import csv\n",
    "import pandas as pd\n",
    "import os "
   ]
  },
  {
   "cell_type": "code",
   "execution_count": 6,
   "metadata": {},
   "outputs": [
    {
     "data": {
      "text/plain": [
       "'/Users/andreaolmos/Documents/personal/maestria_dm/recommendation_systems_2023'"
      ]
     },
     "execution_count": 6,
     "metadata": {},
     "output_type": "execute_result"
    }
   ],
   "source": [
    "os.getcwd()"
   ]
  },
  {
   "cell_type": "code",
   "execution_count": 10,
   "metadata": {},
   "outputs": [],
   "source": [
    "lists_1 = pd.read_csv(\"letterboxd_project/data/lists.csv\")\n",
    "lists_2 = pd.read_csv(\"letterboxd_project/data/lists_2.csv\")\n",
    "lists_3 = pd.read_csv(\"letterboxd_project/data/lists_3.csv\")\n",
    "lists_4 = pd.read_csv(\"letterboxd_project/data/lists_4.csv\")"
   ]
  },
  {
   "cell_type": "code",
   "execution_count": 16,
   "metadata": {},
   "outputs": [
    {
     "data": {
      "text/plain": [
       "(344694, 4)"
      ]
     },
     "execution_count": 16,
     "metadata": {},
     "output_type": "execute_result"
    }
   ],
   "source": [
    "lists = pd.concat([lists_1, lists_2,lists_3, lists_4])\n",
    "lists.shape"
   ]
  },
  {
   "cell_type": "code",
   "execution_count": 17,
   "metadata": {},
   "outputs": [],
   "source": [
    "lists = lists.drop_duplicates()"
   ]
  },
  {
   "cell_type": "code",
   "execution_count": 19,
   "metadata": {},
   "outputs": [
    {
     "data": {
      "text/html": [
       "<div>\n",
       "<style scoped>\n",
       "    .dataframe tbody tr th:only-of-type {\n",
       "        vertical-align: middle;\n",
       "    }\n",
       "\n",
       "    .dataframe tbody tr th {\n",
       "        vertical-align: top;\n",
       "    }\n",
       "\n",
       "    .dataframe thead th {\n",
       "        text-align: right;\n",
       "    }\n",
       "</style>\n",
       "<table border=\"1\" class=\"dataframe\">\n",
       "  <thead>\n",
       "    <tr style=\"text-align: right;\">\n",
       "      <th></th>\n",
       "      <th>user_id</th>\n",
       "      <th>list_id</th>\n",
       "      <th>list_link</th>\n",
       "      <th>list_extension</th>\n",
       "    </tr>\n",
       "  </thead>\n",
       "  <tbody>\n",
       "    <tr>\n",
       "      <th>0</th>\n",
       "      <td>Schaffrillas</td>\n",
       "      <td>15183950</td>\n",
       "      <td>/schaffrillas/list/every-dreamworks-movie-ranked/</td>\n",
       "      <td>42 films</td>\n",
       "    </tr>\n",
       "    <tr>\n",
       "      <th>1</th>\n",
       "      <td>Schaffrillas</td>\n",
       "      <td>18997068</td>\n",
       "      <td>/schaffrillas/list/pixar-ranking/</td>\n",
       "      <td>27 films</td>\n",
       "    </tr>\n",
       "    <tr>\n",
       "      <th>2</th>\n",
       "      <td>Schaffrillas</td>\n",
       "      <td>4494803</td>\n",
       "      <td>/schaffrillas/list/every-best-animated-feature...</td>\n",
       "      <td>22 films</td>\n",
       "    </tr>\n",
       "    <tr>\n",
       "      <th>3</th>\n",
       "      <td>Schaffrillas</td>\n",
       "      <td>31553594</td>\n",
       "      <td>/schaffrillas/list/2022-movies-ranked/</td>\n",
       "      <td>42 films</td>\n",
       "    </tr>\n",
       "    <tr>\n",
       "      <th>4</th>\n",
       "      <td>Schaffrillas</td>\n",
       "      <td>31845238</td>\n",
       "      <td>/schaffrillas/list/2023-best-picture-nominees-...</td>\n",
       "      <td>10 films</td>\n",
       "    </tr>\n",
       "    <tr>\n",
       "      <th>...</th>\n",
       "      <td>...</td>\n",
       "      <td>...</td>\n",
       "      <td>...</td>\n",
       "      <td>...</td>\n",
       "    </tr>\n",
       "    <tr>\n",
       "      <th>24216</th>\n",
       "      <td>filmboyjake</td>\n",
       "      <td>31902639</td>\n",
       "      <td>/filmboyjake/list/scream-ranked-1/</td>\n",
       "      <td>6 films</td>\n",
       "    </tr>\n",
       "    <tr>\n",
       "      <th>24217</th>\n",
       "      <td>filmboyjake</td>\n",
       "      <td>28764558</td>\n",
       "      <td>/filmboyjake/list/kubrick-ranked/</td>\n",
       "      <td>8 films</td>\n",
       "    </tr>\n",
       "    <tr>\n",
       "      <th>24218</th>\n",
       "      <td>filmboyjake</td>\n",
       "      <td>7846658</td>\n",
       "      <td>/filmboyjake/list/harry-potter-ranked/</td>\n",
       "      <td>11 films</td>\n",
       "    </tr>\n",
       "    <tr>\n",
       "      <th>24219</th>\n",
       "      <td>filmboyjake</td>\n",
       "      <td>28761723</td>\n",
       "      <td>/filmboyjake/list/bong-ranked/</td>\n",
       "      <td>6 films</td>\n",
       "    </tr>\n",
       "    <tr>\n",
       "      <th>24220</th>\n",
       "      <td>filmboyjake</td>\n",
       "      <td>24842718</td>\n",
       "      <td>/filmboyjake/list/jurassic-franchise-ranked/</td>\n",
       "      <td>6 films</td>\n",
       "    </tr>\n",
       "  </tbody>\n",
       "</table>\n",
       "<p>344283 rows × 4 columns</p>\n",
       "</div>"
      ],
      "text/plain": [
       "            user_id   list_id  \\\n",
       "0      Schaffrillas  15183950   \n",
       "1      Schaffrillas  18997068   \n",
       "2      Schaffrillas   4494803   \n",
       "3      Schaffrillas  31553594   \n",
       "4      Schaffrillas  31845238   \n",
       "...             ...       ...   \n",
       "24216   filmboyjake  31902639   \n",
       "24217   filmboyjake  28764558   \n",
       "24218   filmboyjake   7846658   \n",
       "24219   filmboyjake  28761723   \n",
       "24220   filmboyjake  24842718   \n",
       "\n",
       "                                               list_link list_extension  \n",
       "0      /schaffrillas/list/every-dreamworks-movie-ranked/       42 films  \n",
       "1                      /schaffrillas/list/pixar-ranking/       27 films  \n",
       "2      /schaffrillas/list/every-best-animated-feature...       22 films  \n",
       "3                 /schaffrillas/list/2022-movies-ranked/       42 films  \n",
       "4      /schaffrillas/list/2023-best-picture-nominees-...       10 films  \n",
       "...                                                  ...            ...  \n",
       "24216                 /filmboyjake/list/scream-ranked-1/        6 films  \n",
       "24217                  /filmboyjake/list/kubrick-ranked/        8 films  \n",
       "24218             /filmboyjake/list/harry-potter-ranked/       11 films  \n",
       "24219                     /filmboyjake/list/bong-ranked/        6 films  \n",
       "24220       /filmboyjake/list/jurassic-franchise-ranked/        6 films  \n",
       "\n",
       "[344283 rows x 4 columns]"
      ]
     },
     "execution_count": 19,
     "metadata": {},
     "output_type": "execute_result"
    }
   ],
   "source": [
    "lists"
   ]
  },
  {
   "cell_type": "code",
   "execution_count": 18,
   "metadata": {},
   "outputs": [],
   "source": [
    "lists.to_csv(\"letterboxd_project/data/lists_complete.csv\")"
   ]
  }
 ],
 "metadata": {
  "kernelspec": {
   "display_name": "sr_2023",
   "language": "python",
   "name": "python3"
  },
  "language_info": {
   "codemirror_mode": {
    "name": "ipython",
    "version": 3
   },
   "file_extension": ".py",
   "mimetype": "text/x-python",
   "name": "python",
   "nbconvert_exporter": "python",
   "pygments_lexer": "ipython3",
   "version": "3.11.4"
  },
  "orig_nbformat": 4
 },
 "nbformat": 4,
 "nbformat_minor": 2
}
