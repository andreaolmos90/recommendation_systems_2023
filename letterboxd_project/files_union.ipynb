{
 "cells": [
  {
   "cell_type": "code",
   "execution_count": 1,
   "metadata": {},
   "outputs": [],
   "source": [
    "import csv\n",
    "import pandas as pd\n",
    "import os \n",
    "import glob\n",
    "import numpy as np"
   ]
  },
  {
   "cell_type": "code",
   "execution_count": null,
   "metadata": {},
   "outputs": [],
   "source": [
    "def csv_files_to_folder(csv_files, to_folder):\n",
    "  df = pd.DataFrame()  \n",
    "# loop over the list of csv files\n",
    "  for f in csv_files:\n",
    "      print(f)\n",
    "      # read the csv file\n",
    "      temp_df = pd.read_csv(f)\n",
    "      #print(temp_df.head())\n",
    "      df = pd.concat([df, temp_df])\n",
    "        #limpio repetidos\n",
    "      df = df.drop_duplicates()\n",
    "  \n",
    "  print(df.shape)\n",
    "  df.to_csv(to_folder)"
   ]
  },
  {
   "cell_type": "code",
   "execution_count": 6,
   "metadata": {},
   "outputs": [],
   "source": [
    "csv_files = glob.glob(\"data/movies_data/*.csv\")\n",
    "to_folder = (\"data/movies_data/movies_data.csv\")\n",
    "csv_files_to_folder(csv_files, to_folder)"
   ]
  },
  {
   "cell_type": "code",
   "execution_count": 11,
   "metadata": {},
   "outputs": [
    {
     "name": "stdout",
     "output_type": "stream",
     "text": [
      "data/prod_data/prod_3.csv\n",
      "data/prod_data/prod_2.csv\n",
      "data/prod_data/prod_0.csv\n",
      "data/prod_data/prod_1.csv\n",
      "(544511, 4)\n"
     ]
    }
   ],
   "source": [
    "csv_files = glob.glob(\"data/prod_data/*.csv\")\n",
    "to_folder = (\"data/prod_data/prod_data.csv\")\n",
    "csv_files_to_folder(csv_files, to_folder)"
   ]
  },
  {
   "cell_type": "code",
   "execution_count": 12,
   "metadata": {},
   "outputs": [
    {
     "name": "stdout",
     "output_type": "stream",
     "text": [
      "data/genres_data/genres_0.csv\n",
      "data/genres_data/genres_1.csv\n",
      "data/genres_data/genres_3.csv\n",
      "data/genres_data/genres_2.csv\n",
      "(1030421, 3)\n"
     ]
    }
   ],
   "source": [
    "csv_files = glob.glob(\"data/genres_data/*.csv\")\n",
    "to_folder = (\"data/genres_data/genres_data.csv\")\n",
    "csv_files_to_folder(csv_files, to_folder)"
   ]
  },
  {
   "cell_type": "code",
   "execution_count": 13,
   "metadata": {},
   "outputs": [
    {
     "name": "stdout",
     "output_type": "stream",
     "text": [
      "data/dir_data/dir_1.csv\n",
      "data/dir_data/dir_3.csv\n",
      "data/dir_data/dir_2.csv\n",
      "(1995753, 3)\n"
     ]
    }
   ],
   "source": [
    "csv_files = glob.glob(\"data/dir_data/*.csv\")\n",
    "to_folder = (\"data/dir_data/dir_data.csv\")\n",
    "csv_files_to_folder(csv_files, to_folder)"
   ]
  }
 ],
 "metadata": {
  "kernelspec": {
   "display_name": "Python 3",
   "language": "python",
   "name": "python3"
  },
  "language_info": {
   "codemirror_mode": {
    "name": "ipython",
    "version": 3
   },
   "file_extension": ".py",
   "mimetype": "text/x-python",
   "name": "python",
   "nbconvert_exporter": "python",
   "pygments_lexer": "ipython3",
   "version": "3.11.5"
  }
 },
 "nbformat": 4,
 "nbformat_minor": 2
}
