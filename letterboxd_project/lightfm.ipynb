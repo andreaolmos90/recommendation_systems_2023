{
  "cells": [
    {
      "cell_type": "code",
      "execution_count": 1,
      "metadata": {
        "id": "XKS_XLNXKabY"
      },
      "outputs": [],
      "source": [
        "! pip install lightfm > /dev/null"
      ]
    },
    {
      "cell_type": "code",
      "execution_count": 2,
      "metadata": {
        "id": "z_TESDAIK0yX"
      },
      "outputs": [
        {
          "name": "stderr",
          "output_type": "stream",
          "text": [
            "/Users/andreaolmos/opt/anaconda3/envs/sr_2023/lib/python3.11/site-packages/lightfm/_lightfm_fast.py:9: UserWarning: LightFM was compiled without OpenMP support. Only a single thread will be used.\n",
            "  warnings.warn(\n"
          ]
        }
      ],
      "source": [
        "import pandas as pd\n",
        "import lightfm as lfm\n",
        "from lightfm import data\n",
        "from lightfm import cross_validation\n",
        "from lightfm import evaluation"
      ]
    },
    {
      "cell_type": "code",
      "execution_count": 3,
      "metadata": {
        "colab": {
          "base_uri": "https://localhost:8080/",
          "height": 206
        },
        "id": "11QnUaxOKzJy",
        "outputId": "af9d8eac-6a67-4e79-aff0-06bd11c30993"
      },
      "outputs": [
        {
          "data": {
            "text/html": [
              "<div>\n",
              "<style scoped>\n",
              "    .dataframe tbody tr th:only-of-type {\n",
              "        vertical-align: middle;\n",
              "    }\n",
              "\n",
              "    .dataframe tbody tr th {\n",
              "        vertical-align: top;\n",
              "    }\n",
              "\n",
              "    .dataframe thead th {\n",
              "        text-align: right;\n",
              "    }\n",
              "</style>\n",
              "<table border=\"1\" class=\"dataframe\">\n",
              "  <thead>\n",
              "    <tr style=\"text-align: right;\">\n",
              "      <th></th>\n",
              "      <th>Unnamed: 0</th>\n",
              "      <th>list_id</th>\n",
              "      <th>movie_link</th>\n",
              "      <th>movie_stars</th>\n",
              "      <th>movie_calification</th>\n",
              "      <th>movie_position</th>\n",
              "    </tr>\n",
              "  </thead>\n",
              "  <tbody>\n",
              "    <tr>\n",
              "      <th>0</th>\n",
              "      <td>0</td>\n",
              "      <td>5679698</td>\n",
              "      <td>/film/do-the-right-thing/</td>\n",
              "      <td>★★★★★</td>\n",
              "      <td>5.0</td>\n",
              "      <td>1.0</td>\n",
              "    </tr>\n",
              "    <tr>\n",
              "      <th>1</th>\n",
              "      <td>1</td>\n",
              "      <td>5679698</td>\n",
              "      <td>/film/singin-in-the-rain/</td>\n",
              "      <td>★★★★★</td>\n",
              "      <td>5.0</td>\n",
              "      <td>2.0</td>\n",
              "    </tr>\n",
              "    <tr>\n",
              "      <th>2</th>\n",
              "      <td>2</td>\n",
              "      <td>5679698</td>\n",
              "      <td>/film/nashville/</td>\n",
              "      <td>★★★★★</td>\n",
              "      <td>5.0</td>\n",
              "      <td>3.0</td>\n",
              "    </tr>\n",
              "    <tr>\n",
              "      <th>3</th>\n",
              "      <td>3</td>\n",
              "      <td>5679698</td>\n",
              "      <td>/film/the-wizard-of-oz-1939/</td>\n",
              "      <td>★★★★★</td>\n",
              "      <td>5.0</td>\n",
              "      <td>4.0</td>\n",
              "    </tr>\n",
              "    <tr>\n",
              "      <th>4</th>\n",
              "      <td>4</td>\n",
              "      <td>5679698</td>\n",
              "      <td>/film/the-apartment/</td>\n",
              "      <td>★★★★★</td>\n",
              "      <td>5.0</td>\n",
              "      <td>5.0</td>\n",
              "    </tr>\n",
              "  </tbody>\n",
              "</table>\n",
              "</div>"
            ],
            "text/plain": [
              "   Unnamed: 0  list_id                    movie_link movie_stars  \\\n",
              "0           0  5679698     /film/do-the-right-thing/      ★★★★★    \n",
              "1           1  5679698     /film/singin-in-the-rain/      ★★★★★    \n",
              "2           2  5679698              /film/nashville/      ★★★★★    \n",
              "3           3  5679698  /film/the-wizard-of-oz-1939/      ★★★★★    \n",
              "4           4  5679698          /film/the-apartment/      ★★★★★    \n",
              "\n",
              "   movie_calification  movie_position  \n",
              "0                 5.0             1.0  \n",
              "1                 5.0             2.0  \n",
              "2                 5.0             3.0  \n",
              "3                 5.0             4.0  \n",
              "4                 5.0             5.0  "
            ]
          },
          "execution_count": 3,
          "metadata": {},
          "output_type": "execute_result"
        }
      ],
      "source": [
        "df_int = pd.read_csv(\"data/movies_lists_data/all_movies_lists_interactions.csv\")\n",
        "df_int.head()"
      ]
    },
    {
      "cell_type": "code",
      "execution_count": 4,
      "metadata": {
        "colab": {
          "base_uri": "https://localhost:8080/"
        },
        "id": "8mE127MfK9I7",
        "outputId": "01804737-73be-4e71-a0ad-39eae01729df"
      },
      "outputs": [
        {
          "data": {
            "text/plain": [
              "(332406, 650368)"
            ]
          },
          "execution_count": 4,
          "metadata": {},
          "output_type": "execute_result"
        }
      ],
      "source": [
        "ds = lfm.data.Dataset()\n",
        "ds.fit(users=df_int[\"list_id\"].unique(), items=df_int[\"movie_link\"].unique())\n",
        "ds.interactions_shape()"
      ]
    },
    {
      "cell_type": "code",
      "execution_count": 5,
      "metadata": {
        "id": "pF5vPnOKL0Yg"
      },
      "outputs": [],
      "source": [
        "(interactions, weights) = ds.build_interactions(df_int[[\"list_id\", \"movie_link\", \"movie_calification\"]].itertuples(index=False))"
      ]
    },
    {
      "cell_type": "code",
      "execution_count": 6,
      "metadata": {
        "colab": {
          "base_uri": "https://localhost:8080/"
        },
        "id": "8X15OfjRNLHo",
        "outputId": "807814d2-442a-46bd-d3e5-22da84f2578f"
      },
      "outputs": [
        {
          "data": {
            "text/plain": [
              "<lightfm.lightfm.LightFM at 0x2abaade10>"
            ]
          },
          "execution_count": 6,
          "metadata": {},
          "output_type": "execute_result"
        }
      ],
      "source": [
        "(train, test) = lfm.cross_validation.random_train_test_split(interactions, test_percentage=0.2, random_state=42)\n",
        "(train_w, test_w) = lfm.cross_validation.random_train_test_split(weights, test_percentage=0.2, random_state=42)\n",
        "\n",
        "\n",
        "model = lfm.LightFM(no_components=10, k=5, n=10, learning_schedule='adagrad', loss='logistic', learning_rate=0.05, rho=0.95, epsilon=1e-06, item_alpha=0.0, user_alpha=0.0, max_sampled=10, random_state=42)\n",
        "model.fit(train, sample_weight=train_w, epochs=10, num_threads=2)"
      ]
    },
    {
      "cell_type": "code",
      "execution_count": 7,
      "metadata": {
        "colab": {
          "base_uri": "https://localhost:8080/"
        },
        "id": "mQD4PRwGOAKL",
        "outputId": "5e761260-f928-44e0-bc91-1446bbfaac62"
      },
      "outputs": [],
      "source": [
        "train_precision = lfm.evaluation.precision_at_k(model, train, k=10, num_threads=2)\n",
        "test_precision = lfm.evaluation.precision_at_k(model, test, k=10, num_threads=2)\n",
        "\n",
        "print(\"Precision@10 en training:\", train_precision.mean())\n",
        "print(\"Precision@10 en testing:\", test_precision.mean())"
      ]
    },
    {
      "cell_type": "markdown",
      "metadata": {
        "id": "cfVL5sP-PUuy"
      },
      "source": [
        "# Item features"
      ]
    },
    {
      "cell_type": "code",
      "execution_count": null,
      "metadata": {
        "colab": {
          "base_uri": "https://localhost:8080/",
          "height": 206
        },
        "id": "HiFaDBKWPkSo",
        "outputId": "143f39dc-2345-4797-abb5-8b0734b59c89"
      },
      "outputs": [
        {
          "data": {
            "text/html": [
              "\n",
              "  <div id=\"df-bc8a7b8e-8ca8-4ba5-ad21-80fe56e7b3e6\" class=\"colab-df-container\">\n",
              "    <div>\n",
              "<style scoped>\n",
              "    .dataframe tbody tr th:only-of-type {\n",
              "        vertical-align: middle;\n",
              "    }\n",
              "\n",
              "    .dataframe tbody tr th {\n",
              "        vertical-align: top;\n",
              "    }\n",
              "\n",
              "    .dataframe thead th {\n",
              "        text-align: right;\n",
              "    }\n",
              "</style>\n",
              "<table border=\"1\" class=\"dataframe\">\n",
              "  <thead>\n",
              "    <tr style=\"text-align: right;\">\n",
              "      <th></th>\n",
              "      <th>id_libro</th>\n",
              "      <th>autor</th>\n",
              "      <th>genero</th>\n",
              "    </tr>\n",
              "  </thead>\n",
              "  <tbody>\n",
              "    <tr>\n",
              "      <th>0</th>\n",
              "      <td>las-particulas-elementales</td>\n",
              "      <td>HOUELLEBECQ, MICHEL</td>\n",
              "      <td>Narrativa</td>\n",
              "    </tr>\n",
              "    <tr>\n",
              "      <th>1</th>\n",
              "      <td>quien-domina-el-mundo</td>\n",
              "      <td>CHOMSKY, NOAM</td>\n",
              "      <td>Ensayo</td>\n",
              "    </tr>\n",
              "    <tr>\n",
              "      <th>2</th>\n",
              "      <td>antimanual-de-filosofia</td>\n",
              "      <td>ONFRAY, MICHEL</td>\n",
              "      <td>Ensayo</td>\n",
              "    </tr>\n",
              "    <tr>\n",
              "      <th>3</th>\n",
              "      <td>momentos-estelares-de-la-humanidad-catorce-min...</td>\n",
              "      <td>ZWEIG, STEFAN</td>\n",
              "      <td>Histórica y aventuras</td>\n",
              "    </tr>\n",
              "    <tr>\n",
              "      <th>4</th>\n",
              "      <td>la-invencion-del-pasado</td>\n",
              "      <td>MURADO, MIGUEL-ANXO</td>\n",
              "      <td>Lecturas complementarias</td>\n",
              "    </tr>\n",
              "  </tbody>\n",
              "</table>\n",
              "</div>\n",
              "    <div class=\"colab-df-buttons\">\n",
              "\n",
              "  <div class=\"colab-df-container\">\n",
              "    <button class=\"colab-df-convert\" onclick=\"convertToInteractive('df-bc8a7b8e-8ca8-4ba5-ad21-80fe56e7b3e6')\"\n",
              "            title=\"Convert this dataframe to an interactive table.\"\n",
              "            style=\"display:none;\">\n",
              "\n",
              "  <svg xmlns=\"http://www.w3.org/2000/svg\" height=\"24px\" viewBox=\"0 -960 960 960\">\n",
              "    <path d=\"M120-120v-720h720v720H120Zm60-500h600v-160H180v160Zm220 220h160v-160H400v160Zm0 220h160v-160H400v160ZM180-400h160v-160H180v160Zm440 0h160v-160H620v160ZM180-180h160v-160H180v160Zm440 0h160v-160H620v160Z\"/>\n",
              "  </svg>\n",
              "    </button>\n",
              "\n",
              "  <style>\n",
              "    .colab-df-container {\n",
              "      display:flex;\n",
              "      gap: 12px;\n",
              "    }\n",
              "\n",
              "    .colab-df-convert {\n",
              "      background-color: #E8F0FE;\n",
              "      border: none;\n",
              "      border-radius: 50%;\n",
              "      cursor: pointer;\n",
              "      display: none;\n",
              "      fill: #1967D2;\n",
              "      height: 32px;\n",
              "      padding: 0 0 0 0;\n",
              "      width: 32px;\n",
              "    }\n",
              "\n",
              "    .colab-df-convert:hover {\n",
              "      background-color: #E2EBFA;\n",
              "      box-shadow: 0px 1px 2px rgba(60, 64, 67, 0.3), 0px 1px 3px 1px rgba(60, 64, 67, 0.15);\n",
              "      fill: #174EA6;\n",
              "    }\n",
              "\n",
              "    .colab-df-buttons div {\n",
              "      margin-bottom: 4px;\n",
              "    }\n",
              "\n",
              "    [theme=dark] .colab-df-convert {\n",
              "      background-color: #3B4455;\n",
              "      fill: #D2E3FC;\n",
              "    }\n",
              "\n",
              "    [theme=dark] .colab-df-convert:hover {\n",
              "      background-color: #434B5C;\n",
              "      box-shadow: 0px 1px 3px 1px rgba(0, 0, 0, 0.15);\n",
              "      filter: drop-shadow(0px 1px 2px rgba(0, 0, 0, 0.3));\n",
              "      fill: #FFFFFF;\n",
              "    }\n",
              "  </style>\n",
              "\n",
              "    <script>\n",
              "      const buttonEl =\n",
              "        document.querySelector('#df-bc8a7b8e-8ca8-4ba5-ad21-80fe56e7b3e6 button.colab-df-convert');\n",
              "      buttonEl.style.display =\n",
              "        google.colab.kernel.accessAllowed ? 'block' : 'none';\n",
              "\n",
              "      async function convertToInteractive(key) {\n",
              "        const element = document.querySelector('#df-bc8a7b8e-8ca8-4ba5-ad21-80fe56e7b3e6');\n",
              "        const dataTable =\n",
              "          await google.colab.kernel.invokeFunction('convertToInteractive',\n",
              "                                                    [key], {});\n",
              "        if (!dataTable) return;\n",
              "\n",
              "        const docLinkHtml = 'Like what you see? Visit the ' +\n",
              "          '<a target=\"_blank\" href=https://colab.research.google.com/notebooks/data_table.ipynb>data table notebook</a>'\n",
              "          + ' to learn more about interactive tables.';\n",
              "        element.innerHTML = '';\n",
              "        dataTable['output_type'] = 'display_data';\n",
              "        await google.colab.output.renderOutput(dataTable, element);\n",
              "        const docLink = document.createElement('div');\n",
              "        docLink.innerHTML = docLinkHtml;\n",
              "        element.appendChild(docLink);\n",
              "      }\n",
              "    </script>\n",
              "  </div>\n",
              "\n",
              "\n",
              "<div id=\"df-7af84bb7-3483-4ac4-aa9e-157b971938c5\">\n",
              "  <button class=\"colab-df-quickchart\" onclick=\"quickchart('df-7af84bb7-3483-4ac4-aa9e-157b971938c5')\"\n",
              "            title=\"Suggest charts.\"\n",
              "            style=\"display:none;\">\n",
              "\n",
              "<svg xmlns=\"http://www.w3.org/2000/svg\" height=\"24px\"viewBox=\"0 0 24 24\"\n",
              "     width=\"24px\">\n",
              "    <g>\n",
              "        <path d=\"M19 3H5c-1.1 0-2 .9-2 2v14c0 1.1.9 2 2 2h14c1.1 0 2-.9 2-2V5c0-1.1-.9-2-2-2zM9 17H7v-7h2v7zm4 0h-2V7h2v10zm4 0h-2v-4h2v4z\"/>\n",
              "    </g>\n",
              "</svg>\n",
              "  </button>\n",
              "\n",
              "<style>\n",
              "  .colab-df-quickchart {\n",
              "      --bg-color: #E8F0FE;\n",
              "      --fill-color: #1967D2;\n",
              "      --hover-bg-color: #E2EBFA;\n",
              "      --hover-fill-color: #174EA6;\n",
              "      --disabled-fill-color: #AAA;\n",
              "      --disabled-bg-color: #DDD;\n",
              "  }\n",
              "\n",
              "  [theme=dark] .colab-df-quickchart {\n",
              "      --bg-color: #3B4455;\n",
              "      --fill-color: #D2E3FC;\n",
              "      --hover-bg-color: #434B5C;\n",
              "      --hover-fill-color: #FFFFFF;\n",
              "      --disabled-bg-color: #3B4455;\n",
              "      --disabled-fill-color: #666;\n",
              "  }\n",
              "\n",
              "  .colab-df-quickchart {\n",
              "    background-color: var(--bg-color);\n",
              "    border: none;\n",
              "    border-radius: 50%;\n",
              "    cursor: pointer;\n",
              "    display: none;\n",
              "    fill: var(--fill-color);\n",
              "    height: 32px;\n",
              "    padding: 0;\n",
              "    width: 32px;\n",
              "  }\n",
              "\n",
              "  .colab-df-quickchart:hover {\n",
              "    background-color: var(--hover-bg-color);\n",
              "    box-shadow: 0 1px 2px rgba(60, 64, 67, 0.3), 0 1px 3px 1px rgba(60, 64, 67, 0.15);\n",
              "    fill: var(--button-hover-fill-color);\n",
              "  }\n",
              "\n",
              "  .colab-df-quickchart-complete:disabled,\n",
              "  .colab-df-quickchart-complete:disabled:hover {\n",
              "    background-color: var(--disabled-bg-color);\n",
              "    fill: var(--disabled-fill-color);\n",
              "    box-shadow: none;\n",
              "  }\n",
              "\n",
              "  .colab-df-spinner {\n",
              "    border: 2px solid var(--fill-color);\n",
              "    border-color: transparent;\n",
              "    border-bottom-color: var(--fill-color);\n",
              "    animation:\n",
              "      spin 1s steps(1) infinite;\n",
              "  }\n",
              "\n",
              "  @keyframes spin {\n",
              "    0% {\n",
              "      border-color: transparent;\n",
              "      border-bottom-color: var(--fill-color);\n",
              "      border-left-color: var(--fill-color);\n",
              "    }\n",
              "    20% {\n",
              "      border-color: transparent;\n",
              "      border-left-color: var(--fill-color);\n",
              "      border-top-color: var(--fill-color);\n",
              "    }\n",
              "    30% {\n",
              "      border-color: transparent;\n",
              "      border-left-color: var(--fill-color);\n",
              "      border-top-color: var(--fill-color);\n",
              "      border-right-color: var(--fill-color);\n",
              "    }\n",
              "    40% {\n",
              "      border-color: transparent;\n",
              "      border-right-color: var(--fill-color);\n",
              "      border-top-color: var(--fill-color);\n",
              "    }\n",
              "    60% {\n",
              "      border-color: transparent;\n",
              "      border-right-color: var(--fill-color);\n",
              "    }\n",
              "    80% {\n",
              "      border-color: transparent;\n",
              "      border-right-color: var(--fill-color);\n",
              "      border-bottom-color: var(--fill-color);\n",
              "    }\n",
              "    90% {\n",
              "      border-color: transparent;\n",
              "      border-bottom-color: var(--fill-color);\n",
              "    }\n",
              "  }\n",
              "</style>\n",
              "\n",
              "  <script>\n",
              "    async function quickchart(key) {\n",
              "      const quickchartButtonEl =\n",
              "        document.querySelector('#' + key + ' button');\n",
              "      quickchartButtonEl.disabled = true;  // To prevent multiple clicks.\n",
              "      quickchartButtonEl.classList.add('colab-df-spinner');\n",
              "      try {\n",
              "        const charts = await google.colab.kernel.invokeFunction(\n",
              "            'suggestCharts', [key], {});\n",
              "      } catch (error) {\n",
              "        console.error('Error during call to suggestCharts:', error);\n",
              "      }\n",
              "      quickchartButtonEl.classList.remove('colab-df-spinner');\n",
              "      quickchartButtonEl.classList.add('colab-df-quickchart-complete');\n",
              "    }\n",
              "    (() => {\n",
              "      let quickchartButtonEl =\n",
              "        document.querySelector('#df-7af84bb7-3483-4ac4-aa9e-157b971938c5 button');\n",
              "      quickchartButtonEl.style.display =\n",
              "        google.colab.kernel.accessAllowed ? 'block' : 'none';\n",
              "    })();\n",
              "  </script>\n",
              "</div>\n",
              "    </div>\n",
              "  </div>\n"
            ],
            "text/plain": [
              "                                            id_libro                autor  \\\n",
              "0                         las-particulas-elementales  HOUELLEBECQ, MICHEL   \n",
              "1                              quien-domina-el-mundo        CHOMSKY, NOAM   \n",
              "2                            antimanual-de-filosofia       ONFRAY, MICHEL   \n",
              "3  momentos-estelares-de-la-humanidad-catorce-min...        ZWEIG, STEFAN   \n",
              "4                            la-invencion-del-pasado  MURADO, MIGUEL-ANXO   \n",
              "\n",
              "                     genero  \n",
              "0                 Narrativa  \n",
              "1                    Ensayo  \n",
              "2                    Ensayo  \n",
              "3     Histórica y aventuras  \n",
              "4  Lecturas complementarias  "
            ]
          },
          "execution_count": 33,
          "metadata": {},
          "output_type": "execute_result"
        }
      ],
      "source": [
        "df_items = pd.read_csv(\"libros.csv\", usecols=[\"id_libro\", \"autor\", \"genero\"])\n",
        "df_items.head()"
      ]
    },
    {
      "cell_type": "code",
      "execution_count": null,
      "metadata": {
        "colab": {
          "base_uri": "https://localhost:8080/"
        },
        "id": "6IORPysHPx_Q",
        "outputId": "6cdc0bc9-477b-4817-a8c1-6086e3969d32"
      },
      "outputs": [
        {
          "data": {
            "text/plain": [
              "9628"
            ]
          },
          "execution_count": 40,
          "metadata": {},
          "output_type": "execute_result"
        }
      ],
      "source": [
        "ds = lfm.data.Dataset()\n",
        "item_features = df_items[\"autor\"].unique().tolist() + df_items[\"genero\"].unique().tolist()\n",
        "ds.fit(users=df_int[\"id_lector\"].unique(), items=df_int[\"id_libro\"].unique(), item_features=item_features)\n",
        "len(item_features)"
      ]
    },
    {
      "cell_type": "code",
      "execution_count": null,
      "metadata": {
        "colab": {
          "base_uri": "https://localhost:8080/"
        },
        "id": "c1IY76ubQqPH",
        "outputId": "807e0360-9e45-4f64-ea1d-4b57532f4842"
      },
      "outputs": [
        {
          "data": {
            "text/plain": [
              "<22269x31896 sparse matrix of type '<class 'numpy.float32'>'\n",
              "\twith 66770 stored elements in Compressed Sparse Row format>"
            ]
          },
          "execution_count": 54,
          "metadata": {},
          "output_type": "execute_result"
        }
      ],
      "source": [
        "ifs = []\n",
        "\n",
        "for index, row in df_items.iterrows():\n",
        "    ifs.append( (row[\"id_libro\"], (row[\"autor\"], row[\"genero\"]))  )\n",
        "    #ifs.append( (row[\"id_libro\"], {row[\"autor\"]:0.1, row[\"genero\"]: 0.9} )  )\n",
        "\n",
        "item_features = ds.build_item_features(ifs)\n",
        "item_features"
      ]
    },
    {
      "cell_type": "code",
      "execution_count": null,
      "metadata": {
        "id": "4W0_AQAYSCdv"
      },
      "outputs": [],
      "source": [
        "(interactions, weights) = ds.build_interactions(df_int[[\"id_lector\", \"id_libro\", \"rating\"]].itertuples(index=False))"
      ]
    },
    {
      "cell_type": "code",
      "execution_count": null,
      "metadata": {
        "colab": {
          "base_uri": "https://localhost:8080/"
        },
        "id": "Iuy88jnaSX7n",
        "outputId": "6f6d3d2b-f95d-452a-ceee-1ce573d4e34c"
      },
      "outputs": [
        {
          "data": {
            "text/plain": [
              "<lightfm.lightfm.LightFM at 0x7dc91d42b670>"
            ]
          },
          "execution_count": 56,
          "metadata": {},
          "output_type": "execute_result"
        }
      ],
      "source": [
        "(train, test) = lfm.cross_validation.random_train_test_split(interactions, test_percentage=0.2, random_state=42)\n",
        "(train_w, test_w) = lfm.cross_validation.random_train_test_split(weights, test_percentage=0.2, random_state=42)\n",
        "\n",
        "model = lfm.LightFM(no_components=10, k=5, n=10, learning_schedule='adagrad', loss='logistic', learning_rate=0.05, rho=0.95, epsilon=1e-06, item_alpha=0.0, user_alpha=0.0, max_sampled=10, random_state=42)\n",
        "model.fit(train, sample_weight=train_w, item_features=item_features, epochs=10, num_threads=2)"
      ]
    },
    {
      "cell_type": "code",
      "execution_count": null,
      "metadata": {
        "colab": {
          "base_uri": "https://localhost:8080/"
        },
        "id": "i5HTRPaSSiIA",
        "outputId": "09fb1b95-c467-4987-85e0-c133a03b2040"
      },
      "outputs": [
        {
          "name": "stdout",
          "output_type": "stream",
          "text": [
            "Precision@10 en training: 0.19017199\n",
            "Precision@10 en testing: 0.049333338\n"
          ]
        }
      ],
      "source": [
        "train_precision = lfm.evaluation.precision_at_k(model, train, item_features=item_features, k=10, num_threads=2)\n",
        "test_precision  = lfm.evaluation.precision_at_k(model, test,  item_features=item_features, k=10, num_threads=2)\n",
        "\n",
        "print(\"Precision@10 en training:\", train_precision.mean())\n",
        "print(\"Precision@10 en testing:\", test_precision.mean())"
      ]
    },
    {
      "cell_type": "markdown",
      "metadata": {
        "id": "4OFWRMj5TQyX"
      },
      "source": [
        "# Predicción"
      ]
    },
    {
      "cell_type": "code",
      "execution_count": null,
      "metadata": {
        "id": "VoUyc_O0TVG3"
      },
      "outputs": [],
      "source": [
        "user_id_map, user_feature_map, item_id_map, item_feature_map = ds.mapping()\n",
        "user_id_map"
      ]
    },
    {
      "cell_type": "code",
      "execution_count": null,
      "metadata": {
        "colab": {
          "base_uri": "https://localhost:8080/"
        },
        "id": "oadEGOlOToUP",
        "outputId": "cbf52cd9-26b7-4116-de49-00881f867d48"
      },
      "outputs": [
        {
          "data": {
            "text/plain": [
              "<lightfm.lightfm.LightFM at 0x7dc91d363ac0>"
            ]
          },
          "execution_count": 85,
          "metadata": {},
          "output_type": "execute_result"
        }
      ],
      "source": [
        "model = lfm.LightFM(no_components=20, random_state=42)\n",
        "model.fit(interactions, sample_weight=weights, item_features=item_features, epochs=10, num_threads=2)"
      ]
    },
    {
      "cell_type": "code",
      "execution_count": null,
      "metadata": {
        "colab": {
          "base_uri": "https://localhost:8080/"
        },
        "id": "P3pf5x1bT3Rv",
        "outputId": "ef64f203-9ac5-4fd5-beb3-0ebee19d95bf"
      },
      "outputs": [
        {
          "data": {
            "text/plain": [
              "array([ 7.5560455, 10.598244 , 10.365233 ], dtype=float32)"
            ]
          },
          "execution_count": 68,
          "metadata": {},
          "output_type": "execute_result"
        }
      ],
      "source": [
        "id_lector = \"popocito\"\n",
        "id_libros = [\"yerma\", \"el-hobbit\", \"el-silmarillion\"]\n",
        "\n",
        "model.predict(user_id_map[id_lector], [item_id_map[l] for l in id_libros], item_features=item_features, num_threads=2)"
      ]
    },
    {
      "cell_type": "code",
      "execution_count": null,
      "metadata": {
        "colab": {
          "base_uri": "https://localhost:8080/"
        },
        "id": "MB3ncJ7TVr5o",
        "outputId": "dba17e2a-9f03-40ea-eb45-78c5857fb759"
      },
      "outputs": [
        {
          "data": {
            "text/plain": [
              "[(15.678148, 'stoner'),\n",
              " (15.670301, 'la-edad-de-la-ira'),\n",
              " (14.598097, 'africanus-el-hijo-del-consul'),\n",
              " (13.218816, 'el-nino-con-el-pijama-de-rayas'),\n",
              " (12.853111, 'reina-roja'),\n",
              " (12.831611, 'la-novia-gitana'),\n",
              " (12.807747, 'la-red-purpura'),\n",
              " (12.798654, 'el-silencio-de-la-ciudad-blanca-trilogia-de-la-ciudad-blanca-1'),\n",
              " (12.787656, 'el-psicoanalista'),\n",
              " (12.779596, 'el-paciente')]"
            ]
          },
          "execution_count": 84,
          "metadata": {},
          "output_type": "execute_result"
        }
      ],
      "source": [
        "libros_leidos = df_int.loc[df_int[\"id_lector\"] == id_lector, \"id_libro\"].tolist()\n",
        "todos_los_libros = df_items[\"id_libro\"].tolist()\n",
        "\n",
        "libros_no_leidos = set(todos_los_libros).difference(libros_leidos)\n",
        "predicciones = model.predict(user_id_map[id_lector], [item_id_map[l] for l in libros_no_leidos], item_features=item_features, num_threads=2)\n",
        "\n",
        "sorted([(p, l) for (p, l) in zip(predicciones, libros_no_leidos)], reverse=True)[:10]\n",
        "# for libro in unique():\n",
        "#     df_int[\"\"]"
      ]
    }
  ],
  "metadata": {
    "colab": {
      "provenance": []
    },
    "kernelspec": {
      "display_name": "Python 3",
      "name": "python3"
    },
    "language_info": {
      "codemirror_mode": {
        "name": "ipython",
        "version": 3
      },
      "file_extension": ".py",
      "mimetype": "text/x-python",
      "name": "python",
      "nbconvert_exporter": "python",
      "pygments_lexer": "ipython3",
      "version": "3.11.4"
    }
  },
  "nbformat": 4,
  "nbformat_minor": 0
}
