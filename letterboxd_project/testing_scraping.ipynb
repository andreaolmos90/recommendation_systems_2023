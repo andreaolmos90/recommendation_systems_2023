{
 "cells": [
  {
   "cell_type": "markdown",
   "metadata": {},
   "source": [
    "# Scrapping de letterboxd\n",
    "\n",
    "Pasos a seguir:\n",
    "1. extraer todos los usuarios que tengan listas armadas y armar un csv de usuarios: id_usuario, link_usuario\n",
    "2. para cada usuario, extraer los links a sus las listas y armar un csv de listas: id_usuario, id_lista, link_lista\n",
    "3. para cada lista, exportar a un csv con las interacciones: id_lista, id_pelicula, posicion, link_pelicula\n",
    "4. para cada link_pelicula, obtener los datos de las peliculas\n",
    "\n",
    "al final hay que tener 3 archivos:\n",
    "interacciones (listas-peliculas)\n",
    "peliculas\n",
    "listas"
   ]
  },
  {
   "cell_type": "code",
   "execution_count": 2,
   "metadata": {},
   "outputs": [],
   "source": [
    "import requests\n",
    "import lxml\n",
    "from lxml import etree\n",
    "from lxml import html\n",
    "import xml.etree.ElementTree as ET\n",
    "import pandas as pd\n",
    "import os\n",
    "from pathlib import Path\n",
    "import csv\n"
   ]
  },
  {
   "cell_type": "markdown",
   "metadata": {},
   "source": [
    " Paso 1: extraer todos los usuarios que tengan listas armadas y armar un csv de usuarios: id_usuario, link_usuario\n"
   ]
  },
  {
   "cell_type": "code",
   "execution_count": 102,
   "metadata": {},
   "outputs": [],
   "source": [
    "for number in range(1,1000):\n",
    "    r = requests.get(f\"https://letterboxd.com/members/popular/this/week/page/{number}/\")\n",
    "    tree = lxml.html.fromstring(r.text)\n",
    "    table = tree.xpath('//*[@id=\"content\"]/div/div/section/table/tbody')\n",
    "    \n",
    "    # si la tabla no está vacía de filas\n",
    "    if len(table[0].findall(\"tr\")) != 0:\n",
    "        # guardo las variables\n",
    "        user_link = [element.attrib[\"href\"] for element in table[0].findall(\".//*[@class='title-3']/a\")]\n",
    "        user_lists_link = [element.attrib[\"href\"] for element in table[0].findall(\".//*[@class='has-icon icon-16 icon-list']\")]\n",
    "        user_watched_num = [int(element.text.replace(\",\", \"\")) for element in table[0].findall(\".//*[@class='has-icon icon-16 icon-watched']\")]\n",
    "        user_lists_num = [int(element.text.replace(\",\", \"\")) for element in table[0].findall(\".//*[@class='has-icon icon-16 icon-list']\")]\n",
    "        user_likes_num = [int(element.text.replace(\",\", \"\")) for element in table[0].findall(\".//*[@class='has-icon icon-16 icon-liked']\")]\n",
    "        \n",
    "        #armo el dataframe\n",
    "        df_to_append = pd.DataFrame()\n",
    "        df_to_append = pd.DataFrame(\n",
    "            {'user_link': user_link,\n",
    "            'user_lists_link': user_lists_link,\n",
    "            'user_watched_num': user_watched_num,\n",
    "            'user_lists_num': user_lists_num,\n",
    "            'user_likes_num': user_likes_num\n",
    "            })\n",
    "        #header del csv\n",
    "        header = [\"user_link\", \"user_lists_link\", \"user_watched_num\", \"user_lists_num\", \"user_likes_num\"]\n",
    "        \n",
    "        # si no existe el csv, se crea con el header\n",
    "        if os.path.isfile(path)==False:\n",
    "            with open(file, 'a') as f:\n",
    "                writer = csv.writer(f)\n",
    "                writer.writerow(header)\n",
    "                df_to_append.to_csv(f, header=False, index=False)\n",
    "                f.flush()\n",
    "        \n",
    "        # si existe el csv, se appendea el dataframe\n",
    "        else:\n",
    "            with open(file, 'a') as f:\n",
    "                df_to_append.to_csv(f, header=False, index=False)\n",
    "                f.flush()\n",
    "    \n",
    "    else:\n",
    "        break\n",
    "\n",
    "\n"
   ]
  },
  {
   "cell_type": "markdown",
   "metadata": {},
   "source": [
    "2. para cada usuario, extraer los links a sus las listas y armar un csv de listas: id_usuario, id_lista, link_lista"
   ]
  },
  {
   "cell_type": "code",
   "execution_count": 3,
   "metadata": {},
   "outputs": [],
   "source": [
    "#para cada usuario\n",
    "#loopear sobre páginas hasta que no se devuelva ninguna película\n",
    "\n",
    "r = requests.get(\"https://letterboxd.com/angienoexiste/lists/page/2\")\n",
    "tree = lxml.html.fromstring(r.text)\n",
    "table = tree.xpath('//*[@id=\"content\"]/div/div/section/section')"
   ]
  },
  {
   "cell_type": "code",
   "execution_count": 11,
   "metadata": {},
   "outputs": [
    {
     "data": {
      "text/plain": [
       "['/angienoexiste/list/michael-haneke-ranked/',\n",
       " '/angienoexiste/list/alfred-hitchcock-ranked/',\n",
       " '/angienoexiste/list/christopher-nolan-ranked/',\n",
       " '/angienoexiste/list/denis-villeneuve-ranked/',\n",
       " '/angienoexiste/list/oriol-paulo-ranked/',\n",
       " '/angienoexiste/list/jean-marc-vallee-ranked/',\n",
       " '/angienoexiste/list/martin-scorsese-ranked/']"
      ]
     },
     "execution_count": 11,
     "metadata": {},
     "output_type": "execute_result"
    }
   ],
   "source": [
    "list_link = [element.attrib[\"href\"] for element in table[0].findall(\".//*[@class='list-link']\")]\n",
    "list_id = [element.attrib['data-film-list-id'] for element in table[0].findall(\".//*[@class='list -overlapped -summary ']\")]\n",
    "user_id = [element.attrib['data-person'] for element in table[0].findall(\".//*[@class='list -overlapped -summary ']\")]"
   ]
  },
  {
   "cell_type": "code",
   "execution_count": 81,
   "metadata": {},
   "outputs": [],
   "source": [
    "#importar datos de usuarios\n",
    "\n",
    "users = pd.read_csv(\"data/users.csv\")"
   ]
  },
  {
   "cell_type": "code",
   "execution_count": 92,
   "metadata": {},
   "outputs": [],
   "source": [
    "users_list_links = \"https://letterboxd.com\" + users.user_lists_link + \"page/\""
   ]
  },
  {
   "cell_type": "code",
   "execution_count": 98,
   "metadata": {},
   "outputs": [
    {
     "name": "stdout",
     "output_type": "stream",
     "text": [
      "https://letterboxd.com/schaffrillas/lists/page/1\n"
     ]
    }
   ],
   "source": [
    "number = 1\n",
    "for i in users_list_links:\n",
    "    print(f\"{i}{number}\")\n",
    "    break"
   ]
  }
 ],
 "metadata": {
  "kernelspec": {
   "display_name": "sr_2023",
   "language": "python",
   "name": "python3"
  },
  "language_info": {
   "codemirror_mode": {
    "name": "ipython",
    "version": 3
   },
   "file_extension": ".py",
   "mimetype": "text/x-python",
   "name": "python",
   "nbconvert_exporter": "python",
   "pygments_lexer": "ipython3",
   "version": "3.11.4"
  },
  "orig_nbformat": 4
 },
 "nbformat": 4,
 "nbformat_minor": 2
}
