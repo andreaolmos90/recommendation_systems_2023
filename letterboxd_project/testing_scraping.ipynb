{
 "cells": [
  {
   "cell_type": "markdown",
   "metadata": {},
   "source": [
    "# Scrapping de letterboxd\n",
    "\n",
    "Pasos a seguir:\n",
    "1. extraer todos los usuarios que tengan listas armadas y armar un csv de usuarios: id_usuario, link_usuario\n",
    "2. para cada usuario, extraer los links a sus las listas y armar un csv de listas: id_usuario, id_lista, link_lista\n",
    "3. para cada lista, exportar a un csv con las interacciones: id_lista, id_pelicula, posicion, link_pelicula\n",
    "4. para cada link_pelicula, obtener los datos de las peliculas\n",
    "\n",
    "al final hay que tener 3 archivos:\n",
    "interacciones (listas-peliculas)\n",
    "peliculas\n",
    "listas"
   ]
  },
  {
   "cell_type": "code",
   "execution_count": 150,
   "metadata": {},
   "outputs": [],
   "source": [
    "import requests\n",
    "import lxml\n",
    "from lxml import etree\n",
    "from lxml import html\n",
    "import xml.etree.ElementTree as ET\n",
    "import pandas as pd\n",
    "import os\n",
    "from pathlib import Path\n",
    "import csv\n",
    "import random\n",
    "import json\n"
   ]
  },
  {
   "cell_type": "markdown",
   "metadata": {},
   "source": [
    " Paso 1: extraer todos los usuarios que tengan listas armadas y armar un csv de usuarios: id_usuario, link_usuario\n"
   ]
  },
  {
   "cell_type": "code",
   "execution_count": 2,
   "metadata": {},
   "outputs": [
    {
     "ename": "KeyboardInterrupt",
     "evalue": "",
     "output_type": "error",
     "traceback": [
      "\u001b[0;31m---------------------------------------------------------------------------\u001b[0m",
      "\u001b[0;31mKeyboardInterrupt\u001b[0m                         Traceback (most recent call last)",
      "Cell \u001b[0;32mIn[2], line 5\u001b[0m\n\u001b[1;32m      2\u001b[0m file \u001b[39m=\u001b[39m \u001b[39m\"\u001b[39m\u001b[39musers.csv\u001b[39m\u001b[39m\"\u001b[39m\n\u001b[1;32m      4\u001b[0m \u001b[39mfor\u001b[39;00m number \u001b[39min\u001b[39;00m \u001b[39mrange\u001b[39m(\u001b[39m1\u001b[39m,\u001b[39m1000\u001b[39m):\n\u001b[0;32m----> 5\u001b[0m     r \u001b[39m=\u001b[39m requests\u001b[39m.\u001b[39;49mget(\u001b[39mf\u001b[39;49m\u001b[39m\"\u001b[39;49m\u001b[39mhttps://letterboxd.com/members/popular/this/week/page/\u001b[39;49m\u001b[39m{\u001b[39;49;00mnumber\u001b[39m}\u001b[39;49;00m\u001b[39m/\u001b[39;49m\u001b[39m\"\u001b[39;49m)\n\u001b[1;32m      6\u001b[0m     tree \u001b[39m=\u001b[39m lxml\u001b[39m.\u001b[39mhtml\u001b[39m.\u001b[39mfromstring(r\u001b[39m.\u001b[39mtext)\n\u001b[1;32m      7\u001b[0m     table \u001b[39m=\u001b[39m tree\u001b[39m.\u001b[39mxpath(\u001b[39m'\u001b[39m\u001b[39m//*[@id=\u001b[39m\u001b[39m\"\u001b[39m\u001b[39mcontent\u001b[39m\u001b[39m\"\u001b[39m\u001b[39m]/div/div/section/table/tbody\u001b[39m\u001b[39m'\u001b[39m)\n",
      "File \u001b[0;32m~/opt/anaconda3/envs/sr_2023/lib/python3.11/site-packages/requests/api.py:73\u001b[0m, in \u001b[0;36mget\u001b[0;34m(url, params, **kwargs)\u001b[0m\n\u001b[1;32m     62\u001b[0m \u001b[39mdef\u001b[39;00m \u001b[39mget\u001b[39m(url, params\u001b[39m=\u001b[39m\u001b[39mNone\u001b[39;00m, \u001b[39m*\u001b[39m\u001b[39m*\u001b[39mkwargs):\n\u001b[1;32m     63\u001b[0m \u001b[39m    \u001b[39m\u001b[39mr\u001b[39m\u001b[39m\"\"\"Sends a GET request.\u001b[39;00m\n\u001b[1;32m     64\u001b[0m \n\u001b[1;32m     65\u001b[0m \u001b[39m    :param url: URL for the new :class:`Request` object.\u001b[39;00m\n\u001b[0;32m   (...)\u001b[0m\n\u001b[1;32m     70\u001b[0m \u001b[39m    :rtype: requests.Response\u001b[39;00m\n\u001b[1;32m     71\u001b[0m \u001b[39m    \"\"\"\u001b[39;00m\n\u001b[0;32m---> 73\u001b[0m     \u001b[39mreturn\u001b[39;00m request(\u001b[39m\"\u001b[39;49m\u001b[39mget\u001b[39;49m\u001b[39m\"\u001b[39;49m, url, params\u001b[39m=\u001b[39;49mparams, \u001b[39m*\u001b[39;49m\u001b[39m*\u001b[39;49mkwargs)\n",
      "File \u001b[0;32m~/opt/anaconda3/envs/sr_2023/lib/python3.11/site-packages/requests/api.py:59\u001b[0m, in \u001b[0;36mrequest\u001b[0;34m(method, url, **kwargs)\u001b[0m\n\u001b[1;32m     55\u001b[0m \u001b[39m# By using the 'with' statement we are sure the session is closed, thus we\u001b[39;00m\n\u001b[1;32m     56\u001b[0m \u001b[39m# avoid leaving sockets open which can trigger a ResourceWarning in some\u001b[39;00m\n\u001b[1;32m     57\u001b[0m \u001b[39m# cases, and look like a memory leak in others.\u001b[39;00m\n\u001b[1;32m     58\u001b[0m \u001b[39mwith\u001b[39;00m sessions\u001b[39m.\u001b[39mSession() \u001b[39mas\u001b[39;00m session:\n\u001b[0;32m---> 59\u001b[0m     \u001b[39mreturn\u001b[39;00m session\u001b[39m.\u001b[39;49mrequest(method\u001b[39m=\u001b[39;49mmethod, url\u001b[39m=\u001b[39;49murl, \u001b[39m*\u001b[39;49m\u001b[39m*\u001b[39;49mkwargs)\n",
      "File \u001b[0;32m~/opt/anaconda3/envs/sr_2023/lib/python3.11/site-packages/requests/sessions.py:589\u001b[0m, in \u001b[0;36mSession.request\u001b[0;34m(self, method, url, params, data, headers, cookies, files, auth, timeout, allow_redirects, proxies, hooks, stream, verify, cert, json)\u001b[0m\n\u001b[1;32m    584\u001b[0m send_kwargs \u001b[39m=\u001b[39m {\n\u001b[1;32m    585\u001b[0m     \u001b[39m\"\u001b[39m\u001b[39mtimeout\u001b[39m\u001b[39m\"\u001b[39m: timeout,\n\u001b[1;32m    586\u001b[0m     \u001b[39m\"\u001b[39m\u001b[39mallow_redirects\u001b[39m\u001b[39m\"\u001b[39m: allow_redirects,\n\u001b[1;32m    587\u001b[0m }\n\u001b[1;32m    588\u001b[0m send_kwargs\u001b[39m.\u001b[39mupdate(settings)\n\u001b[0;32m--> 589\u001b[0m resp \u001b[39m=\u001b[39m \u001b[39mself\u001b[39;49m\u001b[39m.\u001b[39;49msend(prep, \u001b[39m*\u001b[39;49m\u001b[39m*\u001b[39;49msend_kwargs)\n\u001b[1;32m    591\u001b[0m \u001b[39mreturn\u001b[39;00m resp\n",
      "File \u001b[0;32m~/opt/anaconda3/envs/sr_2023/lib/python3.11/site-packages/requests/sessions.py:703\u001b[0m, in \u001b[0;36mSession.send\u001b[0;34m(self, request, **kwargs)\u001b[0m\n\u001b[1;32m    700\u001b[0m start \u001b[39m=\u001b[39m preferred_clock()\n\u001b[1;32m    702\u001b[0m \u001b[39m# Send the request\u001b[39;00m\n\u001b[0;32m--> 703\u001b[0m r \u001b[39m=\u001b[39m adapter\u001b[39m.\u001b[39;49msend(request, \u001b[39m*\u001b[39;49m\u001b[39m*\u001b[39;49mkwargs)\n\u001b[1;32m    705\u001b[0m \u001b[39m# Total elapsed time of the request (approximately)\u001b[39;00m\n\u001b[1;32m    706\u001b[0m elapsed \u001b[39m=\u001b[39m preferred_clock() \u001b[39m-\u001b[39m start\n",
      "File \u001b[0;32m~/opt/anaconda3/envs/sr_2023/lib/python3.11/site-packages/requests/adapters.py:486\u001b[0m, in \u001b[0;36mHTTPAdapter.send\u001b[0;34m(self, request, stream, timeout, verify, cert, proxies)\u001b[0m\n\u001b[1;32m    483\u001b[0m     timeout \u001b[39m=\u001b[39m TimeoutSauce(connect\u001b[39m=\u001b[39mtimeout, read\u001b[39m=\u001b[39mtimeout)\n\u001b[1;32m    485\u001b[0m \u001b[39mtry\u001b[39;00m:\n\u001b[0;32m--> 486\u001b[0m     resp \u001b[39m=\u001b[39m conn\u001b[39m.\u001b[39;49murlopen(\n\u001b[1;32m    487\u001b[0m         method\u001b[39m=\u001b[39;49mrequest\u001b[39m.\u001b[39;49mmethod,\n\u001b[1;32m    488\u001b[0m         url\u001b[39m=\u001b[39;49murl,\n\u001b[1;32m    489\u001b[0m         body\u001b[39m=\u001b[39;49mrequest\u001b[39m.\u001b[39;49mbody,\n\u001b[1;32m    490\u001b[0m         headers\u001b[39m=\u001b[39;49mrequest\u001b[39m.\u001b[39;49mheaders,\n\u001b[1;32m    491\u001b[0m         redirect\u001b[39m=\u001b[39;49m\u001b[39mFalse\u001b[39;49;00m,\n\u001b[1;32m    492\u001b[0m         assert_same_host\u001b[39m=\u001b[39;49m\u001b[39mFalse\u001b[39;49;00m,\n\u001b[1;32m    493\u001b[0m         preload_content\u001b[39m=\u001b[39;49m\u001b[39mFalse\u001b[39;49;00m,\n\u001b[1;32m    494\u001b[0m         decode_content\u001b[39m=\u001b[39;49m\u001b[39mFalse\u001b[39;49;00m,\n\u001b[1;32m    495\u001b[0m         retries\u001b[39m=\u001b[39;49m\u001b[39mself\u001b[39;49m\u001b[39m.\u001b[39;49mmax_retries,\n\u001b[1;32m    496\u001b[0m         timeout\u001b[39m=\u001b[39;49mtimeout,\n\u001b[1;32m    497\u001b[0m         chunked\u001b[39m=\u001b[39;49mchunked,\n\u001b[1;32m    498\u001b[0m     )\n\u001b[1;32m    500\u001b[0m \u001b[39mexcept\u001b[39;00m (ProtocolError, \u001b[39mOSError\u001b[39;00m) \u001b[39mas\u001b[39;00m err:\n\u001b[1;32m    501\u001b[0m     \u001b[39mraise\u001b[39;00m \u001b[39mConnectionError\u001b[39;00m(err, request\u001b[39m=\u001b[39mrequest)\n",
      "File \u001b[0;32m~/opt/anaconda3/envs/sr_2023/lib/python3.11/site-packages/urllib3/connectionpool.py:790\u001b[0m, in \u001b[0;36mHTTPConnectionPool.urlopen\u001b[0;34m(self, method, url, body, headers, retries, redirect, assert_same_host, timeout, pool_timeout, release_conn, chunked, body_pos, preload_content, decode_content, **response_kw)\u001b[0m\n\u001b[1;32m    787\u001b[0m response_conn \u001b[39m=\u001b[39m conn \u001b[39mif\u001b[39;00m \u001b[39mnot\u001b[39;00m release_conn \u001b[39melse\u001b[39;00m \u001b[39mNone\u001b[39;00m\n\u001b[1;32m    789\u001b[0m \u001b[39m# Make the request on the HTTPConnection object\u001b[39;00m\n\u001b[0;32m--> 790\u001b[0m response \u001b[39m=\u001b[39m \u001b[39mself\u001b[39;49m\u001b[39m.\u001b[39;49m_make_request(\n\u001b[1;32m    791\u001b[0m     conn,\n\u001b[1;32m    792\u001b[0m     method,\n\u001b[1;32m    793\u001b[0m     url,\n\u001b[1;32m    794\u001b[0m     timeout\u001b[39m=\u001b[39;49mtimeout_obj,\n\u001b[1;32m    795\u001b[0m     body\u001b[39m=\u001b[39;49mbody,\n\u001b[1;32m    796\u001b[0m     headers\u001b[39m=\u001b[39;49mheaders,\n\u001b[1;32m    797\u001b[0m     chunked\u001b[39m=\u001b[39;49mchunked,\n\u001b[1;32m    798\u001b[0m     retries\u001b[39m=\u001b[39;49mretries,\n\u001b[1;32m    799\u001b[0m     response_conn\u001b[39m=\u001b[39;49mresponse_conn,\n\u001b[1;32m    800\u001b[0m     preload_content\u001b[39m=\u001b[39;49mpreload_content,\n\u001b[1;32m    801\u001b[0m     decode_content\u001b[39m=\u001b[39;49mdecode_content,\n\u001b[1;32m    802\u001b[0m     \u001b[39m*\u001b[39;49m\u001b[39m*\u001b[39;49mresponse_kw,\n\u001b[1;32m    803\u001b[0m )\n\u001b[1;32m    805\u001b[0m \u001b[39m# Everything went great!\u001b[39;00m\n\u001b[1;32m    806\u001b[0m clean_exit \u001b[39m=\u001b[39m \u001b[39mTrue\u001b[39;00m\n",
      "File \u001b[0;32m~/opt/anaconda3/envs/sr_2023/lib/python3.11/site-packages/urllib3/connectionpool.py:536\u001b[0m, in \u001b[0;36mHTTPConnectionPool._make_request\u001b[0;34m(self, conn, method, url, body, headers, retries, timeout, chunked, response_conn, preload_content, decode_content, enforce_content_length)\u001b[0m\n\u001b[1;32m    534\u001b[0m \u001b[39m# Receive the response from the server\u001b[39;00m\n\u001b[1;32m    535\u001b[0m \u001b[39mtry\u001b[39;00m:\n\u001b[0;32m--> 536\u001b[0m     response \u001b[39m=\u001b[39m conn\u001b[39m.\u001b[39;49mgetresponse()\n\u001b[1;32m    537\u001b[0m \u001b[39mexcept\u001b[39;00m (BaseSSLError, \u001b[39mOSError\u001b[39;00m) \u001b[39mas\u001b[39;00m e:\n\u001b[1;32m    538\u001b[0m     \u001b[39mself\u001b[39m\u001b[39m.\u001b[39m_raise_timeout(err\u001b[39m=\u001b[39me, url\u001b[39m=\u001b[39murl, timeout_value\u001b[39m=\u001b[39mread_timeout)\n",
      "File \u001b[0;32m~/opt/anaconda3/envs/sr_2023/lib/python3.11/site-packages/urllib3/connection.py:461\u001b[0m, in \u001b[0;36mHTTPConnection.getresponse\u001b[0;34m(self)\u001b[0m\n\u001b[1;32m    458\u001b[0m \u001b[39mfrom\u001b[39;00m \u001b[39m.\u001b[39;00m\u001b[39mresponse\u001b[39;00m \u001b[39mimport\u001b[39;00m HTTPResponse\n\u001b[1;32m    460\u001b[0m \u001b[39m# Get the response from http.client.HTTPConnection\u001b[39;00m\n\u001b[0;32m--> 461\u001b[0m httplib_response \u001b[39m=\u001b[39m \u001b[39msuper\u001b[39;49m()\u001b[39m.\u001b[39;49mgetresponse()\n\u001b[1;32m    463\u001b[0m \u001b[39mtry\u001b[39;00m:\n\u001b[1;32m    464\u001b[0m     assert_header_parsing(httplib_response\u001b[39m.\u001b[39mmsg)\n",
      "File \u001b[0;32m~/opt/anaconda3/envs/sr_2023/lib/python3.11/http/client.py:1378\u001b[0m, in \u001b[0;36mHTTPConnection.getresponse\u001b[0;34m(self)\u001b[0m\n\u001b[1;32m   1376\u001b[0m \u001b[39mtry\u001b[39;00m:\n\u001b[1;32m   1377\u001b[0m     \u001b[39mtry\u001b[39;00m:\n\u001b[0;32m-> 1378\u001b[0m         response\u001b[39m.\u001b[39;49mbegin()\n\u001b[1;32m   1379\u001b[0m     \u001b[39mexcept\u001b[39;00m \u001b[39mConnectionError\u001b[39;00m:\n\u001b[1;32m   1380\u001b[0m         \u001b[39mself\u001b[39m\u001b[39m.\u001b[39mclose()\n",
      "File \u001b[0;32m~/opt/anaconda3/envs/sr_2023/lib/python3.11/http/client.py:318\u001b[0m, in \u001b[0;36mHTTPResponse.begin\u001b[0;34m(self)\u001b[0m\n\u001b[1;32m    316\u001b[0m \u001b[39m# read until we get a non-100 response\u001b[39;00m\n\u001b[1;32m    317\u001b[0m \u001b[39mwhile\u001b[39;00m \u001b[39mTrue\u001b[39;00m:\n\u001b[0;32m--> 318\u001b[0m     version, status, reason \u001b[39m=\u001b[39m \u001b[39mself\u001b[39;49m\u001b[39m.\u001b[39;49m_read_status()\n\u001b[1;32m    319\u001b[0m     \u001b[39mif\u001b[39;00m status \u001b[39m!=\u001b[39m CONTINUE:\n\u001b[1;32m    320\u001b[0m         \u001b[39mbreak\u001b[39;00m\n",
      "File \u001b[0;32m~/opt/anaconda3/envs/sr_2023/lib/python3.11/http/client.py:279\u001b[0m, in \u001b[0;36mHTTPResponse._read_status\u001b[0;34m(self)\u001b[0m\n\u001b[1;32m    278\u001b[0m \u001b[39mdef\u001b[39;00m \u001b[39m_read_status\u001b[39m(\u001b[39mself\u001b[39m):\n\u001b[0;32m--> 279\u001b[0m     line \u001b[39m=\u001b[39m \u001b[39mstr\u001b[39m(\u001b[39mself\u001b[39;49m\u001b[39m.\u001b[39;49mfp\u001b[39m.\u001b[39;49mreadline(_MAXLINE \u001b[39m+\u001b[39;49m \u001b[39m1\u001b[39;49m), \u001b[39m\"\u001b[39m\u001b[39miso-8859-1\u001b[39m\u001b[39m\"\u001b[39m)\n\u001b[1;32m    280\u001b[0m     \u001b[39mif\u001b[39;00m \u001b[39mlen\u001b[39m(line) \u001b[39m>\u001b[39m _MAXLINE:\n\u001b[1;32m    281\u001b[0m         \u001b[39mraise\u001b[39;00m LineTooLong(\u001b[39m\"\u001b[39m\u001b[39mstatus line\u001b[39m\u001b[39m\"\u001b[39m)\n",
      "File \u001b[0;32m~/opt/anaconda3/envs/sr_2023/lib/python3.11/socket.py:706\u001b[0m, in \u001b[0;36mSocketIO.readinto\u001b[0;34m(self, b)\u001b[0m\n\u001b[1;32m    704\u001b[0m \u001b[39mwhile\u001b[39;00m \u001b[39mTrue\u001b[39;00m:\n\u001b[1;32m    705\u001b[0m     \u001b[39mtry\u001b[39;00m:\n\u001b[0;32m--> 706\u001b[0m         \u001b[39mreturn\u001b[39;00m \u001b[39mself\u001b[39;49m\u001b[39m.\u001b[39;49m_sock\u001b[39m.\u001b[39;49mrecv_into(b)\n\u001b[1;32m    707\u001b[0m     \u001b[39mexcept\u001b[39;00m timeout:\n\u001b[1;32m    708\u001b[0m         \u001b[39mself\u001b[39m\u001b[39m.\u001b[39m_timeout_occurred \u001b[39m=\u001b[39m \u001b[39mTrue\u001b[39;00m\n",
      "File \u001b[0;32m~/opt/anaconda3/envs/sr_2023/lib/python3.11/ssl.py:1278\u001b[0m, in \u001b[0;36mSSLSocket.recv_into\u001b[0;34m(self, buffer, nbytes, flags)\u001b[0m\n\u001b[1;32m   1274\u001b[0m     \u001b[39mif\u001b[39;00m flags \u001b[39m!=\u001b[39m \u001b[39m0\u001b[39m:\n\u001b[1;32m   1275\u001b[0m         \u001b[39mraise\u001b[39;00m \u001b[39mValueError\u001b[39;00m(\n\u001b[1;32m   1276\u001b[0m           \u001b[39m\"\u001b[39m\u001b[39mnon-zero flags not allowed in calls to recv_into() on \u001b[39m\u001b[39m%s\u001b[39;00m\u001b[39m\"\u001b[39m \u001b[39m%\u001b[39m\n\u001b[1;32m   1277\u001b[0m           \u001b[39mself\u001b[39m\u001b[39m.\u001b[39m\u001b[39m__class__\u001b[39m)\n\u001b[0;32m-> 1278\u001b[0m     \u001b[39mreturn\u001b[39;00m \u001b[39mself\u001b[39;49m\u001b[39m.\u001b[39;49mread(nbytes, buffer)\n\u001b[1;32m   1279\u001b[0m \u001b[39melse\u001b[39;00m:\n\u001b[1;32m   1280\u001b[0m     \u001b[39mreturn\u001b[39;00m \u001b[39msuper\u001b[39m()\u001b[39m.\u001b[39mrecv_into(buffer, nbytes, flags)\n",
      "File \u001b[0;32m~/opt/anaconda3/envs/sr_2023/lib/python3.11/ssl.py:1134\u001b[0m, in \u001b[0;36mSSLSocket.read\u001b[0;34m(self, len, buffer)\u001b[0m\n\u001b[1;32m   1132\u001b[0m \u001b[39mtry\u001b[39;00m:\n\u001b[1;32m   1133\u001b[0m     \u001b[39mif\u001b[39;00m buffer \u001b[39mis\u001b[39;00m \u001b[39mnot\u001b[39;00m \u001b[39mNone\u001b[39;00m:\n\u001b[0;32m-> 1134\u001b[0m         \u001b[39mreturn\u001b[39;00m \u001b[39mself\u001b[39;49m\u001b[39m.\u001b[39;49m_sslobj\u001b[39m.\u001b[39;49mread(\u001b[39mlen\u001b[39;49m, buffer)\n\u001b[1;32m   1135\u001b[0m     \u001b[39melse\u001b[39;00m:\n\u001b[1;32m   1136\u001b[0m         \u001b[39mreturn\u001b[39;00m \u001b[39mself\u001b[39m\u001b[39m.\u001b[39m_sslobj\u001b[39m.\u001b[39mread(\u001b[39mlen\u001b[39m)\n",
      "\u001b[0;31mKeyboardInterrupt\u001b[0m: "
     ]
    }
   ],
   "source": [
    "path = \"data/users.csv\"\n",
    "file = \"users.csv\"\n",
    "\n",
    "for number in range(1,1000):\n",
    "    r = requests.get(f\"https://letterboxd.com/members/popular/this/week/page/{number}/\")\n",
    "    tree = lxml.html.fromstring(r.text)\n",
    "    table = tree.xpath('//*[@id=\"content\"]/div/div/section/table/tbody')\n",
    "    \n",
    "    # si la tabla no está vacía de filas\n",
    "    if len(table[0].findall(\"tr\")) != 0:\n",
    "        # guardo las variables\n",
    "        user_link = [element.attrib[\"href\"] for element in table[0].findall(\".//*[@class='title-3']/a\")]\n",
    "        user_lists_link = [element.attrib[\"href\"] for element in table[0].findall(\".//*[@class='has-icon icon-16 icon-list']\")]\n",
    "        user_watched_num = [int(element.text.replace(\",\", \"\")) for element in table[0].findall(\".//*[@class='has-icon icon-16 icon-watched']\")]\n",
    "        user_lists_num = [int(element.text.replace(\",\", \"\")) for element in table[0].findall(\".//*[@class='has-icon icon-16 icon-list']\")]\n",
    "        user_likes_num = [int(element.text.replace(\",\", \"\")) for element in table[0].findall(\".//*[@class='has-icon icon-16 icon-liked']\")]\n",
    "        \n",
    "        #armo el dataframe\n",
    "        df_to_append = pd.DataFrame()\n",
    "        df_to_append = pd.DataFrame(\n",
    "            {'user_link': user_link,\n",
    "            'user_lists_link': user_lists_link,\n",
    "            'user_watched_num': user_watched_num,\n",
    "            'user_lists_num': user_lists_num,\n",
    "            'user_likes_num': user_likes_num\n",
    "            })\n",
    "        #header del csv\n",
    "        header = [\"user_link\", \"user_lists_link\", \"user_watched_num\", \"user_lists_num\", \"user_likes_num\"]\n",
    "        \n",
    "        # si no existe el csv, se crea con el header\n",
    "        if os.path.isfile(path)==False:\n",
    "            with open(file, 'a') as f:\n",
    "                writer = csv.writer(f)\n",
    "                writer.writerow(header)\n",
    "                df_to_append.to_csv(f, header=False, index=False)\n",
    "                f.flush()\n",
    "        \n",
    "        # si existe el csv, se appendea el dataframe\n",
    "        else:\n",
    "            with open(file, 'a') as f:\n",
    "                df_to_append.to_csv(f, header=False, index=False)\n",
    "                f.flush()\n",
    "    \n",
    "    else:\n",
    "        break\n",
    "\n",
    "\n"
   ]
  },
  {
   "cell_type": "markdown",
   "metadata": {},
   "source": [
    "2. para cada usuario, extraer los links a sus las listas y armar un csv de listas: id_usuario, id_lista, link_lista"
   ]
  },
  {
   "cell_type": "code",
   "execution_count": null,
   "metadata": {},
   "outputs": [],
   "source": [
    "#importar datos de usuarios\n",
    "users = pd.read_csv(users)\n",
    "\n",
    "users_list_links = \"https://letterboxd.com\" + users.user_lists_link + \"page/\""
   ]
  },
  {
   "cell_type": "code",
   "execution_count": 134,
   "metadata": {},
   "outputs": [
    {
     "ename": "KeyboardInterrupt",
     "evalue": "",
     "output_type": "error",
     "traceback": [
      "\u001b[0;31m---------------------------------------------------------------------------\u001b[0m",
      "\u001b[0;31mKeyboardInterrupt\u001b[0m                         Traceback (most recent call last)",
      "Cell \u001b[0;32mIn[134], line 8\u001b[0m\n\u001b[1;32m      5\u001b[0m \u001b[39mfor\u001b[39;00m user \u001b[39min\u001b[39;00m users_list_links:\n\u001b[1;32m      6\u001b[0m     \u001b[39m#tengo que ver todas sus páginas\u001b[39;00m\n\u001b[1;32m      7\u001b[0m     \u001b[39mfor\u001b[39;00m number \u001b[39min\u001b[39;00m \u001b[39mrange\u001b[39m(\u001b[39m1\u001b[39m, \u001b[39m10000\u001b[39m):\n\u001b[0;32m----> 8\u001b[0m         r \u001b[39m=\u001b[39m requests\u001b[39m.\u001b[39;49mget(\u001b[39mf\u001b[39;49m\u001b[39m\"\u001b[39;49m\u001b[39m{\u001b[39;49;00muser\u001b[39m}\u001b[39;49;00m\u001b[39m{\u001b[39;49;00mnumber\u001b[39m}\u001b[39;49;00m\u001b[39m\"\u001b[39;49m)\n\u001b[1;32m      9\u001b[0m         tree \u001b[39m=\u001b[39m lxml\u001b[39m.\u001b[39mhtml\u001b[39m.\u001b[39mfromstring(r\u001b[39m.\u001b[39mtext)\n\u001b[1;32m     10\u001b[0m         table \u001b[39m=\u001b[39m tree\u001b[39m.\u001b[39mxpath(\u001b[39m'\u001b[39m\u001b[39m//*[@id=\u001b[39m\u001b[39m\"\u001b[39m\u001b[39mcontent\u001b[39m\u001b[39m\"\u001b[39m\u001b[39m]/div/div/section/section\u001b[39m\u001b[39m'\u001b[39m)\n",
      "File \u001b[0;32m~/opt/anaconda3/envs/sr_2023/lib/python3.11/site-packages/requests/api.py:73\u001b[0m, in \u001b[0;36mget\u001b[0;34m(url, params, **kwargs)\u001b[0m\n\u001b[1;32m     62\u001b[0m \u001b[39mdef\u001b[39;00m \u001b[39mget\u001b[39m(url, params\u001b[39m=\u001b[39m\u001b[39mNone\u001b[39;00m, \u001b[39m*\u001b[39m\u001b[39m*\u001b[39mkwargs):\n\u001b[1;32m     63\u001b[0m \u001b[39m    \u001b[39m\u001b[39mr\u001b[39m\u001b[39m\"\"\"Sends a GET request.\u001b[39;00m\n\u001b[1;32m     64\u001b[0m \n\u001b[1;32m     65\u001b[0m \u001b[39m    :param url: URL for the new :class:`Request` object.\u001b[39;00m\n\u001b[0;32m   (...)\u001b[0m\n\u001b[1;32m     70\u001b[0m \u001b[39m    :rtype: requests.Response\u001b[39;00m\n\u001b[1;32m     71\u001b[0m \u001b[39m    \"\"\"\u001b[39;00m\n\u001b[0;32m---> 73\u001b[0m     \u001b[39mreturn\u001b[39;00m request(\u001b[39m\"\u001b[39;49m\u001b[39mget\u001b[39;49m\u001b[39m\"\u001b[39;49m, url, params\u001b[39m=\u001b[39;49mparams, \u001b[39m*\u001b[39;49m\u001b[39m*\u001b[39;49mkwargs)\n",
      "File \u001b[0;32m~/opt/anaconda3/envs/sr_2023/lib/python3.11/site-packages/requests/api.py:59\u001b[0m, in \u001b[0;36mrequest\u001b[0;34m(method, url, **kwargs)\u001b[0m\n\u001b[1;32m     55\u001b[0m \u001b[39m# By using the 'with' statement we are sure the session is closed, thus we\u001b[39;00m\n\u001b[1;32m     56\u001b[0m \u001b[39m# avoid leaving sockets open which can trigger a ResourceWarning in some\u001b[39;00m\n\u001b[1;32m     57\u001b[0m \u001b[39m# cases, and look like a memory leak in others.\u001b[39;00m\n\u001b[1;32m     58\u001b[0m \u001b[39mwith\u001b[39;00m sessions\u001b[39m.\u001b[39mSession() \u001b[39mas\u001b[39;00m session:\n\u001b[0;32m---> 59\u001b[0m     \u001b[39mreturn\u001b[39;00m session\u001b[39m.\u001b[39;49mrequest(method\u001b[39m=\u001b[39;49mmethod, url\u001b[39m=\u001b[39;49murl, \u001b[39m*\u001b[39;49m\u001b[39m*\u001b[39;49mkwargs)\n",
      "File \u001b[0;32m~/opt/anaconda3/envs/sr_2023/lib/python3.11/site-packages/requests/sessions.py:589\u001b[0m, in \u001b[0;36mSession.request\u001b[0;34m(self, method, url, params, data, headers, cookies, files, auth, timeout, allow_redirects, proxies, hooks, stream, verify, cert, json)\u001b[0m\n\u001b[1;32m    584\u001b[0m send_kwargs \u001b[39m=\u001b[39m {\n\u001b[1;32m    585\u001b[0m     \u001b[39m\"\u001b[39m\u001b[39mtimeout\u001b[39m\u001b[39m\"\u001b[39m: timeout,\n\u001b[1;32m    586\u001b[0m     \u001b[39m\"\u001b[39m\u001b[39mallow_redirects\u001b[39m\u001b[39m\"\u001b[39m: allow_redirects,\n\u001b[1;32m    587\u001b[0m }\n\u001b[1;32m    588\u001b[0m send_kwargs\u001b[39m.\u001b[39mupdate(settings)\n\u001b[0;32m--> 589\u001b[0m resp \u001b[39m=\u001b[39m \u001b[39mself\u001b[39;49m\u001b[39m.\u001b[39;49msend(prep, \u001b[39m*\u001b[39;49m\u001b[39m*\u001b[39;49msend_kwargs)\n\u001b[1;32m    591\u001b[0m \u001b[39mreturn\u001b[39;00m resp\n",
      "File \u001b[0;32m~/opt/anaconda3/envs/sr_2023/lib/python3.11/site-packages/requests/sessions.py:725\u001b[0m, in \u001b[0;36mSession.send\u001b[0;34m(self, request, **kwargs)\u001b[0m\n\u001b[1;32m    722\u001b[0m \u001b[39mif\u001b[39;00m allow_redirects:\n\u001b[1;32m    723\u001b[0m     \u001b[39m# Redirect resolving generator.\u001b[39;00m\n\u001b[1;32m    724\u001b[0m     gen \u001b[39m=\u001b[39m \u001b[39mself\u001b[39m\u001b[39m.\u001b[39mresolve_redirects(r, request, \u001b[39m*\u001b[39m\u001b[39m*\u001b[39mkwargs)\n\u001b[0;32m--> 725\u001b[0m     history \u001b[39m=\u001b[39m [resp \u001b[39mfor\u001b[39;49;00m resp \u001b[39min\u001b[39;49;00m gen]\n\u001b[1;32m    726\u001b[0m \u001b[39melse\u001b[39;00m:\n\u001b[1;32m    727\u001b[0m     history \u001b[39m=\u001b[39m []\n",
      "File \u001b[0;32m~/opt/anaconda3/envs/sr_2023/lib/python3.11/site-packages/requests/sessions.py:725\u001b[0m, in \u001b[0;36m<listcomp>\u001b[0;34m(.0)\u001b[0m\n\u001b[1;32m    722\u001b[0m \u001b[39mif\u001b[39;00m allow_redirects:\n\u001b[1;32m    723\u001b[0m     \u001b[39m# Redirect resolving generator.\u001b[39;00m\n\u001b[1;32m    724\u001b[0m     gen \u001b[39m=\u001b[39m \u001b[39mself\u001b[39m\u001b[39m.\u001b[39mresolve_redirects(r, request, \u001b[39m*\u001b[39m\u001b[39m*\u001b[39mkwargs)\n\u001b[0;32m--> 725\u001b[0m     history \u001b[39m=\u001b[39m [resp \u001b[39mfor\u001b[39;00m resp \u001b[39min\u001b[39;00m gen]\n\u001b[1;32m    726\u001b[0m \u001b[39melse\u001b[39;00m:\n\u001b[1;32m    727\u001b[0m     history \u001b[39m=\u001b[39m []\n",
      "File \u001b[0;32m~/opt/anaconda3/envs/sr_2023/lib/python3.11/site-packages/requests/sessions.py:266\u001b[0m, in \u001b[0;36mSessionRedirectMixin.resolve_redirects\u001b[0;34m(self, resp, req, stream, timeout, verify, cert, proxies, yield_requests, **adapter_kwargs)\u001b[0m\n\u001b[1;32m    263\u001b[0m     \u001b[39myield\u001b[39;00m req\n\u001b[1;32m    264\u001b[0m \u001b[39melse\u001b[39;00m:\n\u001b[0;32m--> 266\u001b[0m     resp \u001b[39m=\u001b[39m \u001b[39mself\u001b[39;49m\u001b[39m.\u001b[39;49msend(\n\u001b[1;32m    267\u001b[0m         req,\n\u001b[1;32m    268\u001b[0m         stream\u001b[39m=\u001b[39;49mstream,\n\u001b[1;32m    269\u001b[0m         timeout\u001b[39m=\u001b[39;49mtimeout,\n\u001b[1;32m    270\u001b[0m         verify\u001b[39m=\u001b[39;49mverify,\n\u001b[1;32m    271\u001b[0m         cert\u001b[39m=\u001b[39;49mcert,\n\u001b[1;32m    272\u001b[0m         proxies\u001b[39m=\u001b[39;49mproxies,\n\u001b[1;32m    273\u001b[0m         allow_redirects\u001b[39m=\u001b[39;49m\u001b[39mFalse\u001b[39;49;00m,\n\u001b[1;32m    274\u001b[0m         \u001b[39m*\u001b[39;49m\u001b[39m*\u001b[39;49madapter_kwargs,\n\u001b[1;32m    275\u001b[0m     )\n\u001b[1;32m    277\u001b[0m     extract_cookies_to_jar(\u001b[39mself\u001b[39m\u001b[39m.\u001b[39mcookies, prepared_request, resp\u001b[39m.\u001b[39mraw)\n\u001b[1;32m    279\u001b[0m     \u001b[39m# extract redirect url, if any, for the next loop\u001b[39;00m\n",
      "File \u001b[0;32m~/opt/anaconda3/envs/sr_2023/lib/python3.11/site-packages/requests/sessions.py:747\u001b[0m, in \u001b[0;36mSession.send\u001b[0;34m(self, request, **kwargs)\u001b[0m\n\u001b[1;32m    744\u001b[0m         \u001b[39mpass\u001b[39;00m\n\u001b[1;32m    746\u001b[0m \u001b[39mif\u001b[39;00m \u001b[39mnot\u001b[39;00m stream:\n\u001b[0;32m--> 747\u001b[0m     r\u001b[39m.\u001b[39;49mcontent\n\u001b[1;32m    749\u001b[0m \u001b[39mreturn\u001b[39;00m r\n",
      "File \u001b[0;32m~/opt/anaconda3/envs/sr_2023/lib/python3.11/site-packages/requests/models.py:899\u001b[0m, in \u001b[0;36mResponse.content\u001b[0;34m(self)\u001b[0m\n\u001b[1;32m    897\u001b[0m         \u001b[39mself\u001b[39m\u001b[39m.\u001b[39m_content \u001b[39m=\u001b[39m \u001b[39mNone\u001b[39;00m\n\u001b[1;32m    898\u001b[0m     \u001b[39melse\u001b[39;00m:\n\u001b[0;32m--> 899\u001b[0m         \u001b[39mself\u001b[39m\u001b[39m.\u001b[39m_content \u001b[39m=\u001b[39m \u001b[39mb\u001b[39m\u001b[39m\"\u001b[39m\u001b[39m\"\u001b[39m\u001b[39m.\u001b[39mjoin(\u001b[39mself\u001b[39m\u001b[39m.\u001b[39miter_content(CONTENT_CHUNK_SIZE)) \u001b[39mor\u001b[39;00m \u001b[39mb\u001b[39m\u001b[39m\"\u001b[39m\u001b[39m\"\u001b[39m\n\u001b[1;32m    901\u001b[0m \u001b[39mself\u001b[39m\u001b[39m.\u001b[39m_content_consumed \u001b[39m=\u001b[39m \u001b[39mTrue\u001b[39;00m\n\u001b[1;32m    902\u001b[0m \u001b[39m# don't need to release the connection; that's been handled by urllib3\u001b[39;00m\n\u001b[1;32m    903\u001b[0m \u001b[39m# since we exhausted the data.\u001b[39;00m\n",
      "File \u001b[0;32m~/opt/anaconda3/envs/sr_2023/lib/python3.11/site-packages/requests/models.py:816\u001b[0m, in \u001b[0;36mResponse.iter_content.<locals>.generate\u001b[0;34m()\u001b[0m\n\u001b[1;32m    814\u001b[0m \u001b[39mif\u001b[39;00m \u001b[39mhasattr\u001b[39m(\u001b[39mself\u001b[39m\u001b[39m.\u001b[39mraw, \u001b[39m\"\u001b[39m\u001b[39mstream\u001b[39m\u001b[39m\"\u001b[39m):\n\u001b[1;32m    815\u001b[0m     \u001b[39mtry\u001b[39;00m:\n\u001b[0;32m--> 816\u001b[0m         \u001b[39myield from\u001b[39;00m \u001b[39mself\u001b[39m\u001b[39m.\u001b[39mraw\u001b[39m.\u001b[39mstream(chunk_size, decode_content\u001b[39m=\u001b[39m\u001b[39mTrue\u001b[39;00m)\n\u001b[1;32m    817\u001b[0m     \u001b[39mexcept\u001b[39;00m ProtocolError \u001b[39mas\u001b[39;00m e:\n\u001b[1;32m    818\u001b[0m         \u001b[39mraise\u001b[39;00m ChunkedEncodingError(e)\n",
      "File \u001b[0;32m~/opt/anaconda3/envs/sr_2023/lib/python3.11/site-packages/urllib3/response.py:937\u001b[0m, in \u001b[0;36mHTTPResponse.stream\u001b[0;34m(self, amt, decode_content)\u001b[0m\n\u001b[1;32m    921\u001b[0m \u001b[39m\u001b[39m\u001b[39m\"\"\"\u001b[39;00m\n\u001b[1;32m    922\u001b[0m \u001b[39mA generator wrapper for the read() method. A call will block until\u001b[39;00m\n\u001b[1;32m    923\u001b[0m \u001b[39m``amt`` bytes have been read from the connection or until the\u001b[39;00m\n\u001b[0;32m   (...)\u001b[0m\n\u001b[1;32m    934\u001b[0m \u001b[39m    'content-encoding' header.\u001b[39;00m\n\u001b[1;32m    935\u001b[0m \u001b[39m\"\"\"\u001b[39;00m\n\u001b[1;32m    936\u001b[0m \u001b[39mif\u001b[39;00m \u001b[39mself\u001b[39m\u001b[39m.\u001b[39mchunked \u001b[39mand\u001b[39;00m \u001b[39mself\u001b[39m\u001b[39m.\u001b[39msupports_chunked_reads():\n\u001b[0;32m--> 937\u001b[0m     \u001b[39myield from\u001b[39;00m \u001b[39mself\u001b[39m\u001b[39m.\u001b[39mread_chunked(amt, decode_content\u001b[39m=\u001b[39mdecode_content)\n\u001b[1;32m    938\u001b[0m \u001b[39melse\u001b[39;00m:\n\u001b[1;32m    939\u001b[0m     \u001b[39mwhile\u001b[39;00m \u001b[39mnot\u001b[39;00m is_fp_closed(\u001b[39mself\u001b[39m\u001b[39m.\u001b[39m_fp) \u001b[39mor\u001b[39;00m \u001b[39mlen\u001b[39m(\u001b[39mself\u001b[39m\u001b[39m.\u001b[39m_decoded_buffer) \u001b[39m>\u001b[39m \u001b[39m0\u001b[39m:\n",
      "File \u001b[0;32m~/opt/anaconda3/envs/sr_2023/lib/python3.11/site-packages/urllib3/response.py:1077\u001b[0m, in \u001b[0;36mHTTPResponse.read_chunked\u001b[0;34m(self, amt, decode_content)\u001b[0m\n\u001b[1;32m   1074\u001b[0m     \u001b[39mreturn\u001b[39;00m \u001b[39mNone\u001b[39;00m\n\u001b[1;32m   1076\u001b[0m \u001b[39mwhile\u001b[39;00m \u001b[39mTrue\u001b[39;00m:\n\u001b[0;32m-> 1077\u001b[0m     \u001b[39mself\u001b[39;49m\u001b[39m.\u001b[39;49m_update_chunk_length()\n\u001b[1;32m   1078\u001b[0m     \u001b[39mif\u001b[39;00m \u001b[39mself\u001b[39m\u001b[39m.\u001b[39mchunk_left \u001b[39m==\u001b[39m \u001b[39m0\u001b[39m:\n\u001b[1;32m   1079\u001b[0m         \u001b[39mbreak\u001b[39;00m\n",
      "File \u001b[0;32m~/opt/anaconda3/envs/sr_2023/lib/python3.11/site-packages/urllib3/response.py:1005\u001b[0m, in \u001b[0;36mHTTPResponse._update_chunk_length\u001b[0;34m(self)\u001b[0m\n\u001b[1;32m   1003\u001b[0m \u001b[39mif\u001b[39;00m \u001b[39mself\u001b[39m\u001b[39m.\u001b[39mchunk_left \u001b[39mis\u001b[39;00m \u001b[39mnot\u001b[39;00m \u001b[39mNone\u001b[39;00m:\n\u001b[1;32m   1004\u001b[0m     \u001b[39mreturn\u001b[39;00m \u001b[39mNone\u001b[39;00m\n\u001b[0;32m-> 1005\u001b[0m line \u001b[39m=\u001b[39m \u001b[39mself\u001b[39m\u001b[39m.\u001b[39m_fp\u001b[39m.\u001b[39mfp\u001b[39m.\u001b[39mreadline()  \u001b[39m# type: ignore[union-attr]\u001b[39;00m\n\u001b[1;32m   1006\u001b[0m line \u001b[39m=\u001b[39m line\u001b[39m.\u001b[39msplit(\u001b[39mb\u001b[39m\u001b[39m\"\u001b[39m\u001b[39m;\u001b[39m\u001b[39m\"\u001b[39m, \u001b[39m1\u001b[39m)[\u001b[39m0\u001b[39m]\n\u001b[1;32m   1007\u001b[0m \u001b[39mtry\u001b[39;00m:\n",
      "File \u001b[0;32m~/opt/anaconda3/envs/sr_2023/lib/python3.11/socket.py:706\u001b[0m, in \u001b[0;36mSocketIO.readinto\u001b[0;34m(self, b)\u001b[0m\n\u001b[1;32m    704\u001b[0m \u001b[39mwhile\u001b[39;00m \u001b[39mTrue\u001b[39;00m:\n\u001b[1;32m    705\u001b[0m     \u001b[39mtry\u001b[39;00m:\n\u001b[0;32m--> 706\u001b[0m         \u001b[39mreturn\u001b[39;00m \u001b[39mself\u001b[39;49m\u001b[39m.\u001b[39;49m_sock\u001b[39m.\u001b[39;49mrecv_into(b)\n\u001b[1;32m    707\u001b[0m     \u001b[39mexcept\u001b[39;00m timeout:\n\u001b[1;32m    708\u001b[0m         \u001b[39mself\u001b[39m\u001b[39m.\u001b[39m_timeout_occurred \u001b[39m=\u001b[39m \u001b[39mTrue\u001b[39;00m\n",
      "File \u001b[0;32m~/opt/anaconda3/envs/sr_2023/lib/python3.11/ssl.py:1278\u001b[0m, in \u001b[0;36mSSLSocket.recv_into\u001b[0;34m(self, buffer, nbytes, flags)\u001b[0m\n\u001b[1;32m   1274\u001b[0m     \u001b[39mif\u001b[39;00m flags \u001b[39m!=\u001b[39m \u001b[39m0\u001b[39m:\n\u001b[1;32m   1275\u001b[0m         \u001b[39mraise\u001b[39;00m \u001b[39mValueError\u001b[39;00m(\n\u001b[1;32m   1276\u001b[0m           \u001b[39m\"\u001b[39m\u001b[39mnon-zero flags not allowed in calls to recv_into() on \u001b[39m\u001b[39m%s\u001b[39;00m\u001b[39m\"\u001b[39m \u001b[39m%\u001b[39m\n\u001b[1;32m   1277\u001b[0m           \u001b[39mself\u001b[39m\u001b[39m.\u001b[39m\u001b[39m__class__\u001b[39m)\n\u001b[0;32m-> 1278\u001b[0m     \u001b[39mreturn\u001b[39;00m \u001b[39mself\u001b[39;49m\u001b[39m.\u001b[39;49mread(nbytes, buffer)\n\u001b[1;32m   1279\u001b[0m \u001b[39melse\u001b[39;00m:\n\u001b[1;32m   1280\u001b[0m     \u001b[39mreturn\u001b[39;00m \u001b[39msuper\u001b[39m()\u001b[39m.\u001b[39mrecv_into(buffer, nbytes, flags)\n",
      "File \u001b[0;32m~/opt/anaconda3/envs/sr_2023/lib/python3.11/ssl.py:1134\u001b[0m, in \u001b[0;36mSSLSocket.read\u001b[0;34m(self, len, buffer)\u001b[0m\n\u001b[1;32m   1132\u001b[0m \u001b[39mtry\u001b[39;00m:\n\u001b[1;32m   1133\u001b[0m     \u001b[39mif\u001b[39;00m buffer \u001b[39mis\u001b[39;00m \u001b[39mnot\u001b[39;00m \u001b[39mNone\u001b[39;00m:\n\u001b[0;32m-> 1134\u001b[0m         \u001b[39mreturn\u001b[39;00m \u001b[39mself\u001b[39;49m\u001b[39m.\u001b[39;49m_sslobj\u001b[39m.\u001b[39;49mread(\u001b[39mlen\u001b[39;49m, buffer)\n\u001b[1;32m   1135\u001b[0m     \u001b[39melse\u001b[39;00m:\n\u001b[1;32m   1136\u001b[0m         \u001b[39mreturn\u001b[39;00m \u001b[39mself\u001b[39m\u001b[39m.\u001b[39m_sslobj\u001b[39m.\u001b[39mread(\u001b[39mlen\u001b[39m)\n",
      "\u001b[0;31mKeyboardInterrupt\u001b[0m: "
     ]
    }
   ],
   "source": [
    "path = \"data/lists.csv\"\n",
    "file = \"lists.csv\"\n",
    "\n",
    "#para cada usuario\n",
    "for user in users_list_links:\n",
    "    #tengo que ver todas sus páginas\n",
    "    for number in range(1, 10000):\n",
    "        r = requests.get(f\"{user}{number}\")\n",
    "        tree = lxml.html.fromstring(r.text)\n",
    "        table = tree.xpath('//*[@id=\"content\"]/div/div/section/section')\n",
    "        \n",
    "        if len(table[0].findall(\".//*[@class='list -overlapped -summary ']\")) != 0:\n",
    "            \n",
    "            list_link = [element.attrib[\"href\"] for element in table[0].findall(\".//*[@class='list-link']\")]\n",
    "            list_id = [element.attrib['data-film-list-id'] for element in table[0].findall(\".//*[@class='list -overlapped -summary ']\")]\n",
    "            user_id = [element.attrib['data-person'] for element in table[0].findall(\".//*[@class='list -overlapped -summary ']\")]\n",
    "            list_extension = [element.text for element in table[0].findall(\".//*[@class='value']\")]\n",
    "        \n",
    "            #armo el dataframe\n",
    "            df_to_append = pd.DataFrame()\n",
    "            df_to_append = pd.DataFrame(\n",
    "                {'user_id': user_id,\n",
    "                'list_id': list_id,\n",
    "                'list_link': list_link,\n",
    "                'list_extension': list_extension\n",
    "                })\n",
    "\n",
    "            #header del csv\n",
    "            header = [\"user_id\", \"list_id\", \"list_link\", \"list_extension\"]\n",
    "\n",
    "            # si no existe el csv, se crea con el header\n",
    "            if os.path.isfile(path)==False:\n",
    "                with open(path, 'a') as f:\n",
    "                    writer = csv.writer(f)\n",
    "                    writer.writerow(header)\n",
    "                    df_to_append.to_csv(f, header=False, index=False)\n",
    "                    f.flush()\n",
    "\n",
    "            # si existe el csv, se appendea el dataframe\n",
    "            else:\n",
    "                with open(path, 'a') as f:\n",
    "                    df_to_append.to_csv(f, header=False, index=False)\n",
    "                    f.flush()\n",
    "\n",
    "        else:\n",
    "            break    \n"
   ]
  },
  {
   "cell_type": "markdown",
   "metadata": {},
   "source": [
    "3. para cada lista, exportar a un csv con las interacciones: id_lista, id_pelicula, posicion, link_pelicula"
   ]
  },
  {
   "cell_type": "code",
   "execution_count": 43,
   "metadata": {},
   "outputs": [
    {
     "name": "stdout",
     "output_type": "stream",
     "text": [
      "https://a.ltrbxd.com/resized/film-poster/4/4/4/6/0/0/444600-jojo-rabbit-0-230-0-345-crop.jpg?v=a5ad083635\n"
     ]
    },
    {
     "data": {
      "text/plain": [
       "<script type=\"application/ld+json\">\n",
       "/* <![CDATA[ */\n",
       "{\"image\":\"https://a.ltrbxd.com/resized/film-poster/4/4/4/6/0/0/444600-jojo-rabbit-0-230-0-345-crop.jpg?v=a5ad083635\",\"@type\":\"Movie\",\"director\":[{\"@type\":\"Person\",\"name\":\"Taika Waititi\",\"sameAs\":\"/director/taika-waititi/\"}],\"dateModified\":\"2023-09-09\",\"productionCompany\":[{\"@type\":\"Organization\",\"name\":\"Fox Searchlight Pictures\",\"sameAs\":\"/studio/fox-searchlight-pictures/\"},{\"@type\":\"Organization\",\"name\":\"Defender Films\",\"sameAs\":\"/studio/defender-films/\"},{\"@type\":\"Organization\",\"name\":\"Piki Films\",\"sameAs\":\"/studio/piki-films/\"},{\"@type\":\"Organization\",\"name\":\"TSG Entertainment\",\"sameAs\":\"/studio/tsg-entertainment/\"},{\"@type\":\"Organization\",\"name\":\"Czech Anglo Productions\",\"sameAs\":\"/studio/czech-anglo-productions/\"}],\"releasedEvent\":[{\"@type\":\"PublicationEvent\",\"startDate\":\"2019\"}],\"@context\":\"http://schema.org\",\"url\":\"https://letterboxd.com/film/jojo-rabbit/\",\"actors\":[{\"@type\":\"Person\",\"name\":\"Roman Griffin Davis\",\"sameAs\":\"/actor/roman-griffin-davis/\"},{\"@type\":\"Person\",\"name\":\"Thomasin McKenzie\",\"sameAs\":\"/actor/thomasin-mckenzie/\"},{\"@type\":\"Person\",\"name\":\"Scarlett Johansson\",\"sameAs\":\"/actor/scarlett-johansson/\"},{\"@type\":\"Person\",\"name\":\"Taika Waititi\",\"sameAs\":\"/actor/taika-waititi/\"},{\"@type\":\"Person\",\"name\":\"Sam Rockwell\",\"sameAs\":\"/actor/sam-rockwell/\"},{\"@type\":\"Person\",\"name\":\"Rebel Wilson\",\"sameAs\":\"/actor/rebel-wilson/\"},{\"@type\":\"Person\",\"name\":\"Alfie Allen\",\"sameAs\":\"/actor/alfie-allen/\"},{\"@type\":\"Person\",\"name\":\"Stephen Merchant\",\"sameAs\":\"/actor/stephen-merchant/\"},{\"@type\":\"Person\",\"name\":\"Archie Yates\",\"sameAs\":\"/actor/archie-yates/\"},{\"@type\":\"Person\",\"name\":\"Luke Brandon Field\",\"sameAs\":\"/actor/luke-brandon-field/\"},{\"@type\":\"Person\",\"name\":\"Joe Weintraub\",\"sameAs\":\"/actor/joe-weintraub/\"},{\"@type\":\"Person\",\"name\":\"Brian Caspe\",\"sameAs\":\"/actor/brian-caspe/\"},{\"@type\":\"Person\",\"name\":\"James McVan\",\"sameAs\":\"/actor/james-mcvan/\"},{\"@type\":\"Person\",\"name\":\"Judith Georgi\",\"sameAs\":\"/actor/judith-georgi/\"},{\"@type\":\"Person\",\"name\":\"Victoria Hogan\",\"sameAs\":\"/actor/victoria-hogan/\"},{\"@type\":\"Person\",\"name\":\"Bethany Adams\",\"sameAs\":\"/actor/bethany-adams/\"},{\"@type\":\"Person\",\"name\":\"Iva Šindelková\",\"sameAs\":\"/actor/iva-sindelkova/\"},{\"@type\":\"Person\",\"name\":\"Matej Seifert\",\"sameAs\":\"/actor/matej-seifert/\"},{\"@type\":\"Person\",\"name\":\"Trish Osmond\",\"sameAs\":\"/actor/trish-osmond/\"},{\"@type\":\"Person\",\"name\":\"Odeta Cali\",\"sameAs\":\"/actor/odeta-cali/\"},{\"@type\":\"Person\",\"name\":\"Samuel Bogner\",\"sameAs\":\"/actor/samuel-bogner/\"},{\"@type\":\"Person\",\"name\":\"Robert East\",\"sameAs\":\"/actor/robert-east-1/\"},{\"@type\":\"Person\",\"name\":\"Curtis Matthew\",\"sameAs\":\"/actor/curtis-matthew/\"},{\"@type\":\"Person\",\"name\":\"Hardy Griffin Davis\",\"sameAs\":\"/actor/hardy-griffin-davis/\"},{\"@type\":\"Person\",\"name\":\"Christian Howlings\",\"sameAs\":\"/actor/christian-howlings/\"},{\"@type\":\"Person\",\"name\":\"Billy Rayner\",\"sameAs\":\"/actor/billy-rayner/\"},{\"@type\":\"Person\",\"name\":\"Gabriel Andrews\",\"sameAs\":\"/actor/gabriel-andrews/\"},{\"@type\":\"Person\",\"name\":\"Stanislav Callas\",\"sameAs\":\"/actor/stanislav-callas/\"},{\"@type\":\"Person\",\"name\":\"Sam Haygarth\",\"sameAs\":\"/actor/sam-haygarth/\"},{\"@type\":\"Person\",\"name\":\"Issy Stewart\",\"sameAs\":\"/actor/issy-stewart/\"},{\"@type\":\"Person\",\"name\":\"Gilby Griffin Davis\",\"sameAs\":\"/actor/gilby-griffin-davis/\"},{\"@type\":\"Person\",\"name\":\"Adolf Hitler\",\"sameAs\":\"/actor/adolf-hitler-1/\"}],\"dateCreated\":\"2018-03-30\",\"name\":\"Jojo Rabbit\",\"genre\":[\"Comedy\",\"Drama\",\"War\"],\"@id\":\"https://letterboxd.com/film/jojo-rabbit/\",\"countryOfOrigin\":[{\"@type\":\"Country\",\"name\":\"Czechia\"},{\"@type\":\"Country\",\"name\":\"New Zealand\"},{\"@type\":\"Country\",\"name\":\"USA\"}],\"aggregateRating\":{\"bestRating\":5,\"reviewCount\":122296,\"@type\":\"aggregateRating\",\"ratingValue\":4.04,\"description\":\"The Letterboxd rating is a weighted average score for a movie based on all ratings cast to date by our members.\",\"ratingCount\":1065958,\"worstRating\":0}}\n",
       "/* ]]> */\n",
       "</script>"
      ]
     },
     "execution_count": 43,
     "metadata": {},
     "output_type": "execute_result"
    }
   ],
   "source": [
    "#get photos from movies page\n",
    "\n",
    "# https://stackoverflow.com/questions/73803684/trying-to-scrape-posters-from-letterboxd-python\n",
    "\n",
    "\n",
    "from bs4 import BeautifulSoup as bs\n",
    "\n",
    "url = 'https://letterboxd.com/film/jojo-rabbit/'\n",
    "\n",
    "r = requests.get(url)\n",
    "soup = bs(r.text)\n",
    "\n",
    "script_w_data = soup.select_one('script[type=\"application/ld+json\"]')\n",
    "json_obj = json.loads(script_w_data.text.split(' */')[1].split('/* ]]>')[0])\n",
    "print(json_obj['image'])"
   ]
  },
  {
   "cell_type": "code",
   "execution_count": 53,
   "metadata": {},
   "outputs": [
    {
     "data": {
      "text/plain": [
       "['\\n/* <![CDATA[',\n",
       " '\\n{\"image\":\"https://a.ltrbxd.com/resized/film-poster/4/4/4/6/0/0/444600-jojo-rabbit-0-230-0-345-crop.jpg?v=a5ad083635\",\"@type\":\"Movie\",\"director\":[{\"@type\":\"Person\",\"name\":\"Taika Waititi\",\"sameAs\":\"/director/taika-waititi/\"}],\"dateModified\":\"2023-09-09\",\"productionCompany\":[{\"@type\":\"Organization\",\"name\":\"Fox Searchlight Pictures\",\"sameAs\":\"/studio/fox-searchlight-pictures/\"},{\"@type\":\"Organization\",\"name\":\"Defender Films\",\"sameAs\":\"/studio/defender-films/\"},{\"@type\":\"Organization\",\"name\":\"Piki Films\",\"sameAs\":\"/studio/piki-films/\"},{\"@type\":\"Organization\",\"name\":\"TSG Entertainment\",\"sameAs\":\"/studio/tsg-entertainment/\"},{\"@type\":\"Organization\",\"name\":\"Czech Anglo Productions\",\"sameAs\":\"/studio/czech-anglo-productions/\"}],\"releasedEvent\":[{\"@type\":\"PublicationEvent\",\"startDate\":\"2019\"}],\"@context\":\"http://schema.org\",\"url\":\"https://letterboxd.com/film/jojo-rabbit/\",\"actors\":[{\"@type\":\"Person\",\"name\":\"Roman Griffin Davis\",\"sameAs\":\"/actor/roman-griffin-davis/\"},{\"@type\":\"Person\",\"name\":\"Thomasin McKenzie\",\"sameAs\":\"/actor/thomasin-mckenzie/\"},{\"@type\":\"Person\",\"name\":\"Scarlett Johansson\",\"sameAs\":\"/actor/scarlett-johansson/\"},{\"@type\":\"Person\",\"name\":\"Taika Waititi\",\"sameAs\":\"/actor/taika-waititi/\"},{\"@type\":\"Person\",\"name\":\"Sam Rockwell\",\"sameAs\":\"/actor/sam-rockwell/\"},{\"@type\":\"Person\",\"name\":\"Rebel Wilson\",\"sameAs\":\"/actor/rebel-wilson/\"},{\"@type\":\"Person\",\"name\":\"Alfie Allen\",\"sameAs\":\"/actor/alfie-allen/\"},{\"@type\":\"Person\",\"name\":\"Stephen Merchant\",\"sameAs\":\"/actor/stephen-merchant/\"},{\"@type\":\"Person\",\"name\":\"Archie Yates\",\"sameAs\":\"/actor/archie-yates/\"},{\"@type\":\"Person\",\"name\":\"Luke Brandon Field\",\"sameAs\":\"/actor/luke-brandon-field/\"},{\"@type\":\"Person\",\"name\":\"Joe Weintraub\",\"sameAs\":\"/actor/joe-weintraub/\"},{\"@type\":\"Person\",\"name\":\"Brian Caspe\",\"sameAs\":\"/actor/brian-caspe/\"},{\"@type\":\"Person\",\"name\":\"James McVan\",\"sameAs\":\"/actor/james-mcvan/\"},{\"@type\":\"Person\",\"name\":\"Judith Georgi\",\"sameAs\":\"/actor/judith-georgi/\"},{\"@type\":\"Person\",\"name\":\"Victoria Hogan\",\"sameAs\":\"/actor/victoria-hogan/\"},{\"@type\":\"Person\",\"name\":\"Bethany Adams\",\"sameAs\":\"/actor/bethany-adams/\"},{\"@type\":\"Person\",\"name\":\"Iva Šindelková\",\"sameAs\":\"/actor/iva-sindelkova/\"},{\"@type\":\"Person\",\"name\":\"Matej Seifert\",\"sameAs\":\"/actor/matej-seifert/\"},{\"@type\":\"Person\",\"name\":\"Trish Osmond\",\"sameAs\":\"/actor/trish-osmond/\"},{\"@type\":\"Person\",\"name\":\"Odeta Cali\",\"sameAs\":\"/actor/odeta-cali/\"},{\"@type\":\"Person\",\"name\":\"Samuel Bogner\",\"sameAs\":\"/actor/samuel-bogner/\"},{\"@type\":\"Person\",\"name\":\"Robert East\",\"sameAs\":\"/actor/robert-east-1/\"},{\"@type\":\"Person\",\"name\":\"Curtis Matthew\",\"sameAs\":\"/actor/curtis-matthew/\"},{\"@type\":\"Person\",\"name\":\"Hardy Griffin Davis\",\"sameAs\":\"/actor/hardy-griffin-davis/\"},{\"@type\":\"Person\",\"name\":\"Christian Howlings\",\"sameAs\":\"/actor/christian-howlings/\"},{\"@type\":\"Person\",\"name\":\"Billy Rayner\",\"sameAs\":\"/actor/billy-rayner/\"},{\"@type\":\"Person\",\"name\":\"Gabriel Andrews\",\"sameAs\":\"/actor/gabriel-andrews/\"},{\"@type\":\"Person\",\"name\":\"Stanislav Callas\",\"sameAs\":\"/actor/stanislav-callas/\"},{\"@type\":\"Person\",\"name\":\"Sam Haygarth\",\"sameAs\":\"/actor/sam-haygarth/\"},{\"@type\":\"Person\",\"name\":\"Issy Stewart\",\"sameAs\":\"/actor/issy-stewart/\"},{\"@type\":\"Person\",\"name\":\"Gilby Griffin Davis\",\"sameAs\":\"/actor/gilby-griffin-davis/\"},{\"@type\":\"Person\",\"name\":\"Adolf Hitler\",\"sameAs\":\"/actor/adolf-hitler-1/\"}],\"dateCreated\":\"2018-03-30\",\"name\":\"Jojo Rabbit\",\"genre\":[\"Comedy\",\"Drama\",\"War\"],\"@id\":\"https://letterboxd.com/film/jojo-rabbit/\",\"countryOfOrigin\":[{\"@type\":\"Country\",\"name\":\"Czechia\"},{\"@type\":\"Country\",\"name\":\"New Zealand\"},{\"@type\":\"Country\",\"name\":\"USA\"}],\"aggregateRating\":{\"bestRating\":5,\"reviewCount\":122296,\"@type\":\"aggregateRating\",\"ratingValue\":4.04,\"description\":\"The Letterboxd rating is a weighted average score for a movie based on all ratings cast to date by our members.\",\"ratingCount\":1065958,\"worstRating\":0}}\\n/* ]]>',\n",
       " '\\n']"
      ]
     },
     "execution_count": 53,
     "metadata": {},
     "output_type": "execute_result"
    }
   ],
   "source": [
    "script_w_data = soup.select_one('script[type=\"application/ld+json\"]')\n",
    "script_w_data.text.split(' */')"
   ]
  },
  {
   "cell_type": "code",
   "execution_count": 21,
   "metadata": {},
   "outputs": [],
   "source": [
    "lists_links = \"data/lists_complete.csv\"\n",
    "\n",
    "#importar datos de listas\n",
    "lists = pd.read_csv(lists_links)\n",
    "\n",
    "users_list_links = \"https://letterboxd.com\" + lists.list_link + \"page/\""
   ]
  },
  {
   "cell_type": "code",
   "execution_count": 151,
   "metadata": {},
   "outputs": [],
   "source": [
    "user_agent_list = [\n",
    "    \"Mozilla/5.0 (Windows NT 10.0; WOW64) AppleWebKit/537.36 (KHTML, like Gecko) Chrome/68.0.3440.106 Safari/537.36\",\n",
    "    \"Mozilla/5.0 (Windows NT 10.0; WOW64) AppleWebKit/537.36 (KHTML, like Gecko) Chrome/67.0.3396.99 Safari/537.36\",\n",
    "    \"Mozilla/5.0 (Windows NT 10.0; WOW64) AppleWebKit/537.36 (KHTML, like Gecko) Chrome/64.0.3282.186 Safari/537.36\",\n",
    "    \"Mozilla/5.0 (X11; Linux x86_64) AppleWebKit/537.36 (KHTML, like Gecko) Chrome/62.0.3202.62 Safari/537.36\",\n",
    "    \"Mozilla/5.0 (Windows NT 6.1; WOW64) AppleWebKit/537.36 (KHTML, like Gecko) Chrome/45.0.2454.101 Safari/537.36\",\n",
    "    \"Mozilla/4.0 (compatible; MSIE 7.0; Windows NT 6.0)\",\n",
    "    \"Mozilla/5.0 (Macintosh; U; PPC Mac OS X 10.5; en-US; rv:1.9.2.15) Gecko/20110303 Firefox/3.6.15\"\n",
    "    ]\n",
    "\n",
    "\n",
    "headers = {\n",
    "    'User-Agent':'Mozilla/5.0',\n",
    "    'Content-Type':'application/json',\n",
    "    'method':'GET',\n",
    "    'Accept':'application/vnd.github.cloak-preview'\n",
    "}\n",
    "\n",
    "headers['User-Agent'] = random.choice(user_agent_list)\n"
   ]
  },
  {
   "cell_type": "code",
   "execution_count": 171,
   "metadata": {},
   "outputs": [
    {
     "data": {
      "text/plain": [
       "<Element ul at 0x13fb20050>"
      ]
     },
     "execution_count": 171,
     "metadata": {},
     "output_type": "execute_result"
    }
   ],
   "source": [
    "number = 1\n",
    "#list_link = \"https://letterboxd.com/thedude27/list/shahrukh-khan-filmography-ranked/detail/page/\"\n",
    "\n",
    "#failed\n",
    "list_link = \"https://letterboxd.com/themoviejunkiez/list/our-film-collection-updated-8-19-2023/detail/page/\"\n",
    "\n",
    "for attempt in range(3):\n",
    "    try:\n",
    "        r = requests.get(f\"{list_link}{number}\", allow_redirects=\"False\", headers=headers)\n",
    "        break\n",
    "    \n",
    "    except requests.exceptions.ChunkedEncodingError:\n",
    "        time.sleep(1)\n",
    "else:\n",
    "    print(\"Failed to retrieve url\")\n",
    "\n",
    "\n",
    "tree = lxml.html.fromstring(r.text)\n",
    "table = tree.xpath('//*[@id=\"content\"]/div/div/section/ul')\n",
    "table[0]"
   ]
  },
  {
   "cell_type": "code",
   "execution_count": 172,
   "metadata": {},
   "outputs": [
    {
     "name": "stdout",
     "output_type": "stream",
     "text": [
      "[]\n"
     ]
    }
   ],
   "source": [
    "details = [element for element in table[0].findall(\".//*[@class='film-detail-content']\")]\n",
    "\n",
    "stars = []\n",
    "for calif in details:\n",
    "        \n",
    "        try:\n",
    "            if calif[1].tag == \"p\":\n",
    "                stars.append((calif[1][0].text))\n",
    "            else:\n",
    "                stars.append(\"-\")\n",
    "\n",
    "        except:\n",
    "            stars.append(\"-\")\n",
    "\n",
    "print(stars)"
   ]
  },
  {
   "cell_type": "code",
   "execution_count": 97,
   "metadata": {},
   "outputs": [],
   "source": [
    "stars_interpreter = {\n",
    "    \"-\" : -1,\n",
    "    \" ½ \": 0.5,\n",
    "    \" ★ \" : 1,\n",
    "    \" ★½ \" : 1.5,\n",
    "    \" ★★ \" : 2,\n",
    "    \" ★★½ \" : 2.5,\n",
    "    \" ★★★ \" : 3,\n",
    "    \" ★★★½ \" : 3.5, \n",
    "    \" ★★★★ \" : 4,\n",
    "    \" ★★★★½ \" : 4.5,\n",
    "     \" ★★★★★ \": 5\n",
    "}\n"
   ]
  },
  {
   "cell_type": "code",
   "execution_count": 6,
   "metadata": {},
   "outputs": [
    {
     "data": {
      "text/plain": [
       "4"
      ]
     },
     "execution_count": 6,
     "metadata": {},
     "output_type": "execute_result"
    }
   ],
   "source": [
    "#get list likes\n",
    "\n",
    "list_id = 33470905\n",
    "r = requests.get(f\"https://letterboxd.com/ajax/letterboxd-metadata/?likeables=filmlist%3A{list_id}&likeCounts=filmlist%3A{list_id}\")\n",
    "list_likes = json.loads(r.text)[\"likeables\"][0][\"count\"]\n",
    "list_likes"
   ]
  },
  {
   "cell_type": "code",
   "execution_count": 173,
   "metadata": {},
   "outputs": [
    {
     "name": "stdout",
     "output_type": "stream",
     "text": [
      "0\n",
      "0\n",
      "0\n",
      "0\n"
     ]
    },
    {
     "ename": "ValueError",
     "evalue": "All arrays must be of the same length",
     "output_type": "error",
     "traceback": [
      "\u001b[0;31m---------------------------------------------------------------------------\u001b[0m",
      "\u001b[0;31mValueError\u001b[0m                                Traceback (most recent call last)",
      "Cell \u001b[0;32mIn[173], line 42\u001b[0m\n\u001b[1;32m     40\u001b[0m \u001b[39m#armo el dataframe\u001b[39;00m\n\u001b[1;32m     41\u001b[0m df_to_append \u001b[39m=\u001b[39m pd\u001b[39m.\u001b[39mDataFrame()\n\u001b[0;32m---> 42\u001b[0m df_to_append \u001b[39m=\u001b[39m pd\u001b[39m.\u001b[39;49mDataFrame(\n\u001b[1;32m     43\u001b[0m {\u001b[39m'\u001b[39;49m\u001b[39mlist_id\u001b[39;49m\u001b[39m'\u001b[39;49m: list_id_arr,\n\u001b[1;32m     44\u001b[0m \u001b[39m#'movie_id': movie_id,\u001b[39;49;00m\n\u001b[1;32m     45\u001b[0m \u001b[39m'\u001b[39;49m\u001b[39mmovie_link\u001b[39;49m\u001b[39m'\u001b[39;49m: movie_link,\n\u001b[1;32m     46\u001b[0m \u001b[39m'\u001b[39;49m\u001b[39mmovie_stars\u001b[39;49m\u001b[39m'\u001b[39;49m: movie_stars,\n\u001b[1;32m     47\u001b[0m \u001b[39m'\u001b[39;49m\u001b[39mmovie_calification\u001b[39;49m\u001b[39m'\u001b[39;49m: movie_calification,\n\u001b[1;32m     48\u001b[0m \u001b[39m'\u001b[39;49m\u001b[39mmovie_position\u001b[39;49m\u001b[39m'\u001b[39;49m: movie_position\n\u001b[1;32m     49\u001b[0m \n\u001b[1;32m     50\u001b[0m })\n",
      "File \u001b[0;32m~/opt/anaconda3/envs/sr_2023/lib/python3.11/site-packages/pandas/core/frame.py:664\u001b[0m, in \u001b[0;36mDataFrame.__init__\u001b[0;34m(self, data, index, columns, dtype, copy)\u001b[0m\n\u001b[1;32m    658\u001b[0m     mgr \u001b[39m=\u001b[39m \u001b[39mself\u001b[39m\u001b[39m.\u001b[39m_init_mgr(\n\u001b[1;32m    659\u001b[0m         data, axes\u001b[39m=\u001b[39m{\u001b[39m\"\u001b[39m\u001b[39mindex\u001b[39m\u001b[39m\"\u001b[39m: index, \u001b[39m\"\u001b[39m\u001b[39mcolumns\u001b[39m\u001b[39m\"\u001b[39m: columns}, dtype\u001b[39m=\u001b[39mdtype, copy\u001b[39m=\u001b[39mcopy\n\u001b[1;32m    660\u001b[0m     )\n\u001b[1;32m    662\u001b[0m \u001b[39melif\u001b[39;00m \u001b[39misinstance\u001b[39m(data, \u001b[39mdict\u001b[39m):\n\u001b[1;32m    663\u001b[0m     \u001b[39m# GH#38939 de facto copy defaults to False only in non-dict cases\u001b[39;00m\n\u001b[0;32m--> 664\u001b[0m     mgr \u001b[39m=\u001b[39m dict_to_mgr(data, index, columns, dtype\u001b[39m=\u001b[39;49mdtype, copy\u001b[39m=\u001b[39;49mcopy, typ\u001b[39m=\u001b[39;49mmanager)\n\u001b[1;32m    665\u001b[0m \u001b[39melif\u001b[39;00m \u001b[39misinstance\u001b[39m(data, ma\u001b[39m.\u001b[39mMaskedArray):\n\u001b[1;32m    666\u001b[0m     \u001b[39mimport\u001b[39;00m \u001b[39mnumpy\u001b[39;00m\u001b[39m.\u001b[39;00m\u001b[39mma\u001b[39;00m\u001b[39m.\u001b[39;00m\u001b[39mmrecords\u001b[39;00m \u001b[39mas\u001b[39;00m \u001b[39mmrecords\u001b[39;00m\n",
      "File \u001b[0;32m~/opt/anaconda3/envs/sr_2023/lib/python3.11/site-packages/pandas/core/internals/construction.py:493\u001b[0m, in \u001b[0;36mdict_to_mgr\u001b[0;34m(data, index, columns, dtype, typ, copy)\u001b[0m\n\u001b[1;32m    489\u001b[0m     \u001b[39melse\u001b[39;00m:\n\u001b[1;32m    490\u001b[0m         \u001b[39m# dtype check to exclude e.g. range objects, scalars\u001b[39;00m\n\u001b[1;32m    491\u001b[0m         arrays \u001b[39m=\u001b[39m [x\u001b[39m.\u001b[39mcopy() \u001b[39mif\u001b[39;00m \u001b[39mhasattr\u001b[39m(x, \u001b[39m\"\u001b[39m\u001b[39mdtype\u001b[39m\u001b[39m\"\u001b[39m) \u001b[39melse\u001b[39;00m x \u001b[39mfor\u001b[39;00m x \u001b[39min\u001b[39;00m arrays]\n\u001b[0;32m--> 493\u001b[0m \u001b[39mreturn\u001b[39;00m arrays_to_mgr(arrays, columns, index, dtype\u001b[39m=\u001b[39;49mdtype, typ\u001b[39m=\u001b[39;49mtyp, consolidate\u001b[39m=\u001b[39;49mcopy)\n",
      "File \u001b[0;32m~/opt/anaconda3/envs/sr_2023/lib/python3.11/site-packages/pandas/core/internals/construction.py:118\u001b[0m, in \u001b[0;36marrays_to_mgr\u001b[0;34m(arrays, columns, index, dtype, verify_integrity, typ, consolidate)\u001b[0m\n\u001b[1;32m    115\u001b[0m \u001b[39mif\u001b[39;00m verify_integrity:\n\u001b[1;32m    116\u001b[0m     \u001b[39m# figure out the index, if necessary\u001b[39;00m\n\u001b[1;32m    117\u001b[0m     \u001b[39mif\u001b[39;00m index \u001b[39mis\u001b[39;00m \u001b[39mNone\u001b[39;00m:\n\u001b[0;32m--> 118\u001b[0m         index \u001b[39m=\u001b[39m _extract_index(arrays)\n\u001b[1;32m    119\u001b[0m     \u001b[39melse\u001b[39;00m:\n\u001b[1;32m    120\u001b[0m         index \u001b[39m=\u001b[39m ensure_index(index)\n",
      "File \u001b[0;32m~/opt/anaconda3/envs/sr_2023/lib/python3.11/site-packages/pandas/core/internals/construction.py:666\u001b[0m, in \u001b[0;36m_extract_index\u001b[0;34m(data)\u001b[0m\n\u001b[1;32m    664\u001b[0m lengths \u001b[39m=\u001b[39m \u001b[39mlist\u001b[39m(\u001b[39mset\u001b[39m(raw_lengths))\n\u001b[1;32m    665\u001b[0m \u001b[39mif\u001b[39;00m \u001b[39mlen\u001b[39m(lengths) \u001b[39m>\u001b[39m \u001b[39m1\u001b[39m:\n\u001b[0;32m--> 666\u001b[0m     \u001b[39mraise\u001b[39;00m \u001b[39mValueError\u001b[39;00m(\u001b[39m\"\u001b[39m\u001b[39mAll arrays must be of the same length\u001b[39m\u001b[39m\"\u001b[39m)\n\u001b[1;32m    668\u001b[0m \u001b[39mif\u001b[39;00m have_dicts:\n\u001b[1;32m    669\u001b[0m     \u001b[39mraise\u001b[39;00m \u001b[39mValueError\u001b[39;00m(\n\u001b[1;32m    670\u001b[0m         \u001b[39m\"\u001b[39m\u001b[39mMixing dicts with non-Series may lead to ambiguous ordering.\u001b[39m\u001b[39m\"\u001b[39m\n\u001b[1;32m    671\u001b[0m     )\n",
      "\u001b[0;31mValueError\u001b[0m: All arrays must be of the same length"
     ]
    }
   ],
   "source": [
    "#films data\n",
    "list_id_arr = [list_id] * len(table[0].findall(\"li\"))\n",
    "\n",
    "#movie_id = set([element.attrib[\"data-film-id\"] for element in table[0].findall(\".//*[@data-film-id]\")])\n",
    "#print(len(movie_id))\n",
    "\n",
    "movie_link = [element.attrib[\"href\"] for element in table[0].findall(\".//*[@class='headline-2 prettify']/a\")]\n",
    "print(len(movie_link))\n",
    "\n",
    "#movie_stars = [element.text for element in table[0].findall(\".//*[@class='film-detail-meta rating-green']/span\")]\n",
    "#print((movie_stars))\n",
    "details = [element for element in table[0].findall(\".//*[@class='film-detail-content']\")]\n",
    "\n",
    "movie_stars = []\n",
    "\n",
    "for calif in details:\n",
    "    \n",
    "    try:\n",
    "        if calif[1].tag == \"p\":\n",
    "            movie_stars.append((calif[1][0].text))\n",
    "        else:\n",
    "            movie_stars.append(\"-\")\n",
    "\n",
    "    except:\n",
    "        movie_stars.append(\"-\")\n",
    "\n",
    "print(len(movie_stars))\n",
    "\n",
    "movie_calification = [stars_interpreter[x] for x in movie_stars]\n",
    "print(len(movie_calification))\n",
    "\n",
    "\n",
    "movie_position = [element.text for element in table[0].findall(\".//*[@class='list-number']\")] \n",
    "\n",
    "if len(movie_position) == 0:\n",
    "    movie_position = [0] * len(movie_link)\n",
    "print(len(movie_position))\n",
    "\n",
    "\n",
    "#armo el dataframe\n",
    "df_to_append = pd.DataFrame()\n",
    "df_to_append = pd.DataFrame(\n",
    "{'list_id': list_id_arr,\n",
    "#'movie_id': movie_id,\n",
    "'movie_link': movie_link,\n",
    "'movie_stars': movie_stars,\n",
    "'movie_calification': movie_calification,\n",
    "'movie_position': movie_position\n",
    "\n",
    "})"
   ]
  },
  {
   "cell_type": "code",
   "execution_count": 142,
   "metadata": {},
   "outputs": [
    {
     "data": {
      "text/plain": [
       "43"
      ]
     },
     "execution_count": 142,
     "metadata": {},
     "output_type": "execute_result"
    }
   ],
   "source": [
    "len([element.attrib[\"data-film-id\"] for element in table[0].findall(\".//*/div/[@data-film-id]\")])"
   ]
  },
  {
   "cell_type": "code",
   "execution_count": 99,
   "metadata": {},
   "outputs": [
    {
     "name": "stdout",
     "output_type": "stream",
     "text": [
      "{'class': 'really-lazy-load poster film-poster film-poster-50936 linked-film-poster', 'data-image-width': '125', 'data-image-height': '187', 'data-film-id': '50936', 'data-film-slug': 'cape-fear-1991', 'data-poster-url': '/film/cape-fear-1991/image-150/', 'data-linked': 'linked', 'data-target-link': '/film/cape-fear-1991/', 'data-target-link-target': '', 'data-cache-busting-key': '873e12ae', 'data-show-menu': 'true'}\n"
     ]
    }
   ],
   "source": [
    "for lista in tree.xpath('//*[@id=\"content\"]/div/div/section/ul/li[7]/div'):\n",
    "    print(lista.attrib)"
   ]
  },
  {
   "cell_type": "code",
   "execution_count": 175,
   "metadata": {},
   "outputs": [
    {
     "name": "stdout",
     "output_type": "stream",
     "text": [
      "68\n",
      "10\n",
      "34\n",
      "23\n",
      "10\n",
      "6\n",
      "33\n",
      "16\n",
      "6\n",
      "5\n",
      "61\n",
      "5\n",
      "8\n",
      "31\n",
      "20\n",
      "23\n",
      "59\n",
      "12\n",
      "9\n",
      "9\n"
     ]
    },
    {
     "ename": "KeyboardInterrupt",
     "evalue": "",
     "output_type": "error",
     "traceback": [
      "\u001b[0;31m---------------------------------------------------------------------------\u001b[0m",
      "\u001b[0;31mKeyboardInterrupt\u001b[0m                         Traceback (most recent call last)",
      "Cell \u001b[0;32mIn[175], line 31\u001b[0m\n\u001b[1;32m     29\u001b[0m \u001b[39m#tengo que ver todas sus páginas\u001b[39;00m\n\u001b[1;32m     30\u001b[0m \u001b[39mfor\u001b[39;00m number \u001b[39min\u001b[39;00m \u001b[39mrange\u001b[39m(\u001b[39m1\u001b[39m, \u001b[39m10000\u001b[39m):\n\u001b[0;32m---> 31\u001b[0m     r \u001b[39m=\u001b[39m requests\u001b[39m.\u001b[39;49mget(\u001b[39mf\u001b[39;49m\u001b[39m\"\u001b[39;49m\u001b[39m{\u001b[39;49;00mlist_link\u001b[39m}\u001b[39;49;00m\u001b[39m{\u001b[39;49;00mnumber\u001b[39m}\u001b[39;49;00m\u001b[39m\"\u001b[39;49m)\n\u001b[1;32m     32\u001b[0m     tree \u001b[39m=\u001b[39m lxml\u001b[39m.\u001b[39mhtml\u001b[39m.\u001b[39mfromstring(r\u001b[39m.\u001b[39mtext)\n\u001b[1;32m     33\u001b[0m     table \u001b[39m=\u001b[39m tree\u001b[39m.\u001b[39mxpath(\u001b[39m'\u001b[39m\u001b[39m//*[@id=\u001b[39m\u001b[39m\"\u001b[39m\u001b[39mcontent\u001b[39m\u001b[39m\"\u001b[39m\u001b[39m]/div/div/section/ul\u001b[39m\u001b[39m'\u001b[39m)\n",
      "File \u001b[0;32m~/opt/anaconda3/envs/sr_2023/lib/python3.11/site-packages/requests/api.py:73\u001b[0m, in \u001b[0;36mget\u001b[0;34m(url, params, **kwargs)\u001b[0m\n\u001b[1;32m     62\u001b[0m \u001b[39mdef\u001b[39;00m \u001b[39mget\u001b[39m(url, params\u001b[39m=\u001b[39m\u001b[39mNone\u001b[39;00m, \u001b[39m*\u001b[39m\u001b[39m*\u001b[39mkwargs):\n\u001b[1;32m     63\u001b[0m \u001b[39m    \u001b[39m\u001b[39mr\u001b[39m\u001b[39m\"\"\"Sends a GET request.\u001b[39;00m\n\u001b[1;32m     64\u001b[0m \n\u001b[1;32m     65\u001b[0m \u001b[39m    :param url: URL for the new :class:`Request` object.\u001b[39;00m\n\u001b[0;32m   (...)\u001b[0m\n\u001b[1;32m     70\u001b[0m \u001b[39m    :rtype: requests.Response\u001b[39;00m\n\u001b[1;32m     71\u001b[0m \u001b[39m    \"\"\"\u001b[39;00m\n\u001b[0;32m---> 73\u001b[0m     \u001b[39mreturn\u001b[39;00m request(\u001b[39m\"\u001b[39;49m\u001b[39mget\u001b[39;49m\u001b[39m\"\u001b[39;49m, url, params\u001b[39m=\u001b[39;49mparams, \u001b[39m*\u001b[39;49m\u001b[39m*\u001b[39;49mkwargs)\n",
      "File \u001b[0;32m~/opt/anaconda3/envs/sr_2023/lib/python3.11/site-packages/requests/api.py:59\u001b[0m, in \u001b[0;36mrequest\u001b[0;34m(method, url, **kwargs)\u001b[0m\n\u001b[1;32m     55\u001b[0m \u001b[39m# By using the 'with' statement we are sure the session is closed, thus we\u001b[39;00m\n\u001b[1;32m     56\u001b[0m \u001b[39m# avoid leaving sockets open which can trigger a ResourceWarning in some\u001b[39;00m\n\u001b[1;32m     57\u001b[0m \u001b[39m# cases, and look like a memory leak in others.\u001b[39;00m\n\u001b[1;32m     58\u001b[0m \u001b[39mwith\u001b[39;00m sessions\u001b[39m.\u001b[39mSession() \u001b[39mas\u001b[39;00m session:\n\u001b[0;32m---> 59\u001b[0m     \u001b[39mreturn\u001b[39;00m session\u001b[39m.\u001b[39;49mrequest(method\u001b[39m=\u001b[39;49mmethod, url\u001b[39m=\u001b[39;49murl, \u001b[39m*\u001b[39;49m\u001b[39m*\u001b[39;49mkwargs)\n",
      "File \u001b[0;32m~/opt/anaconda3/envs/sr_2023/lib/python3.11/site-packages/requests/sessions.py:589\u001b[0m, in \u001b[0;36mSession.request\u001b[0;34m(self, method, url, params, data, headers, cookies, files, auth, timeout, allow_redirects, proxies, hooks, stream, verify, cert, json)\u001b[0m\n\u001b[1;32m    584\u001b[0m send_kwargs \u001b[39m=\u001b[39m {\n\u001b[1;32m    585\u001b[0m     \u001b[39m\"\u001b[39m\u001b[39mtimeout\u001b[39m\u001b[39m\"\u001b[39m: timeout,\n\u001b[1;32m    586\u001b[0m     \u001b[39m\"\u001b[39m\u001b[39mallow_redirects\u001b[39m\u001b[39m\"\u001b[39m: allow_redirects,\n\u001b[1;32m    587\u001b[0m }\n\u001b[1;32m    588\u001b[0m send_kwargs\u001b[39m.\u001b[39mupdate(settings)\n\u001b[0;32m--> 589\u001b[0m resp \u001b[39m=\u001b[39m \u001b[39mself\u001b[39;49m\u001b[39m.\u001b[39;49msend(prep, \u001b[39m*\u001b[39;49m\u001b[39m*\u001b[39;49msend_kwargs)\n\u001b[1;32m    591\u001b[0m \u001b[39mreturn\u001b[39;00m resp\n",
      "File \u001b[0;32m~/opt/anaconda3/envs/sr_2023/lib/python3.11/site-packages/requests/sessions.py:703\u001b[0m, in \u001b[0;36mSession.send\u001b[0;34m(self, request, **kwargs)\u001b[0m\n\u001b[1;32m    700\u001b[0m start \u001b[39m=\u001b[39m preferred_clock()\n\u001b[1;32m    702\u001b[0m \u001b[39m# Send the request\u001b[39;00m\n\u001b[0;32m--> 703\u001b[0m r \u001b[39m=\u001b[39m adapter\u001b[39m.\u001b[39;49msend(request, \u001b[39m*\u001b[39;49m\u001b[39m*\u001b[39;49mkwargs)\n\u001b[1;32m    705\u001b[0m \u001b[39m# Total elapsed time of the request (approximately)\u001b[39;00m\n\u001b[1;32m    706\u001b[0m elapsed \u001b[39m=\u001b[39m preferred_clock() \u001b[39m-\u001b[39m start\n",
      "File \u001b[0;32m~/opt/anaconda3/envs/sr_2023/lib/python3.11/site-packages/requests/adapters.py:486\u001b[0m, in \u001b[0;36mHTTPAdapter.send\u001b[0;34m(self, request, stream, timeout, verify, cert, proxies)\u001b[0m\n\u001b[1;32m    483\u001b[0m     timeout \u001b[39m=\u001b[39m TimeoutSauce(connect\u001b[39m=\u001b[39mtimeout, read\u001b[39m=\u001b[39mtimeout)\n\u001b[1;32m    485\u001b[0m \u001b[39mtry\u001b[39;00m:\n\u001b[0;32m--> 486\u001b[0m     resp \u001b[39m=\u001b[39m conn\u001b[39m.\u001b[39;49murlopen(\n\u001b[1;32m    487\u001b[0m         method\u001b[39m=\u001b[39;49mrequest\u001b[39m.\u001b[39;49mmethod,\n\u001b[1;32m    488\u001b[0m         url\u001b[39m=\u001b[39;49murl,\n\u001b[1;32m    489\u001b[0m         body\u001b[39m=\u001b[39;49mrequest\u001b[39m.\u001b[39;49mbody,\n\u001b[1;32m    490\u001b[0m         headers\u001b[39m=\u001b[39;49mrequest\u001b[39m.\u001b[39;49mheaders,\n\u001b[1;32m    491\u001b[0m         redirect\u001b[39m=\u001b[39;49m\u001b[39mFalse\u001b[39;49;00m,\n\u001b[1;32m    492\u001b[0m         assert_same_host\u001b[39m=\u001b[39;49m\u001b[39mFalse\u001b[39;49;00m,\n\u001b[1;32m    493\u001b[0m         preload_content\u001b[39m=\u001b[39;49m\u001b[39mFalse\u001b[39;49;00m,\n\u001b[1;32m    494\u001b[0m         decode_content\u001b[39m=\u001b[39;49m\u001b[39mFalse\u001b[39;49;00m,\n\u001b[1;32m    495\u001b[0m         retries\u001b[39m=\u001b[39;49m\u001b[39mself\u001b[39;49m\u001b[39m.\u001b[39;49mmax_retries,\n\u001b[1;32m    496\u001b[0m         timeout\u001b[39m=\u001b[39;49mtimeout,\n\u001b[1;32m    497\u001b[0m         chunked\u001b[39m=\u001b[39;49mchunked,\n\u001b[1;32m    498\u001b[0m     )\n\u001b[1;32m    500\u001b[0m \u001b[39mexcept\u001b[39;00m (ProtocolError, \u001b[39mOSError\u001b[39;00m) \u001b[39mas\u001b[39;00m err:\n\u001b[1;32m    501\u001b[0m     \u001b[39mraise\u001b[39;00m \u001b[39mConnectionError\u001b[39;00m(err, request\u001b[39m=\u001b[39mrequest)\n",
      "File \u001b[0;32m~/opt/anaconda3/envs/sr_2023/lib/python3.11/site-packages/urllib3/connectionpool.py:790\u001b[0m, in \u001b[0;36mHTTPConnectionPool.urlopen\u001b[0;34m(self, method, url, body, headers, retries, redirect, assert_same_host, timeout, pool_timeout, release_conn, chunked, body_pos, preload_content, decode_content, **response_kw)\u001b[0m\n\u001b[1;32m    787\u001b[0m response_conn \u001b[39m=\u001b[39m conn \u001b[39mif\u001b[39;00m \u001b[39mnot\u001b[39;00m release_conn \u001b[39melse\u001b[39;00m \u001b[39mNone\u001b[39;00m\n\u001b[1;32m    789\u001b[0m \u001b[39m# Make the request on the HTTPConnection object\u001b[39;00m\n\u001b[0;32m--> 790\u001b[0m response \u001b[39m=\u001b[39m \u001b[39mself\u001b[39;49m\u001b[39m.\u001b[39;49m_make_request(\n\u001b[1;32m    791\u001b[0m     conn,\n\u001b[1;32m    792\u001b[0m     method,\n\u001b[1;32m    793\u001b[0m     url,\n\u001b[1;32m    794\u001b[0m     timeout\u001b[39m=\u001b[39;49mtimeout_obj,\n\u001b[1;32m    795\u001b[0m     body\u001b[39m=\u001b[39;49mbody,\n\u001b[1;32m    796\u001b[0m     headers\u001b[39m=\u001b[39;49mheaders,\n\u001b[1;32m    797\u001b[0m     chunked\u001b[39m=\u001b[39;49mchunked,\n\u001b[1;32m    798\u001b[0m     retries\u001b[39m=\u001b[39;49mretries,\n\u001b[1;32m    799\u001b[0m     response_conn\u001b[39m=\u001b[39;49mresponse_conn,\n\u001b[1;32m    800\u001b[0m     preload_content\u001b[39m=\u001b[39;49mpreload_content,\n\u001b[1;32m    801\u001b[0m     decode_content\u001b[39m=\u001b[39;49mdecode_content,\n\u001b[1;32m    802\u001b[0m     \u001b[39m*\u001b[39;49m\u001b[39m*\u001b[39;49mresponse_kw,\n\u001b[1;32m    803\u001b[0m )\n\u001b[1;32m    805\u001b[0m \u001b[39m# Everything went great!\u001b[39;00m\n\u001b[1;32m    806\u001b[0m clean_exit \u001b[39m=\u001b[39m \u001b[39mTrue\u001b[39;00m\n",
      "File \u001b[0;32m~/opt/anaconda3/envs/sr_2023/lib/python3.11/site-packages/urllib3/connectionpool.py:536\u001b[0m, in \u001b[0;36mHTTPConnectionPool._make_request\u001b[0;34m(self, conn, method, url, body, headers, retries, timeout, chunked, response_conn, preload_content, decode_content, enforce_content_length)\u001b[0m\n\u001b[1;32m    534\u001b[0m \u001b[39m# Receive the response from the server\u001b[39;00m\n\u001b[1;32m    535\u001b[0m \u001b[39mtry\u001b[39;00m:\n\u001b[0;32m--> 536\u001b[0m     response \u001b[39m=\u001b[39m conn\u001b[39m.\u001b[39;49mgetresponse()\n\u001b[1;32m    537\u001b[0m \u001b[39mexcept\u001b[39;00m (BaseSSLError, \u001b[39mOSError\u001b[39;00m) \u001b[39mas\u001b[39;00m e:\n\u001b[1;32m    538\u001b[0m     \u001b[39mself\u001b[39m\u001b[39m.\u001b[39m_raise_timeout(err\u001b[39m=\u001b[39me, url\u001b[39m=\u001b[39murl, timeout_value\u001b[39m=\u001b[39mread_timeout)\n",
      "File \u001b[0;32m~/opt/anaconda3/envs/sr_2023/lib/python3.11/site-packages/urllib3/connection.py:461\u001b[0m, in \u001b[0;36mHTTPConnection.getresponse\u001b[0;34m(self)\u001b[0m\n\u001b[1;32m    458\u001b[0m \u001b[39mfrom\u001b[39;00m \u001b[39m.\u001b[39;00m\u001b[39mresponse\u001b[39;00m \u001b[39mimport\u001b[39;00m HTTPResponse\n\u001b[1;32m    460\u001b[0m \u001b[39m# Get the response from http.client.HTTPConnection\u001b[39;00m\n\u001b[0;32m--> 461\u001b[0m httplib_response \u001b[39m=\u001b[39m \u001b[39msuper\u001b[39;49m()\u001b[39m.\u001b[39;49mgetresponse()\n\u001b[1;32m    463\u001b[0m \u001b[39mtry\u001b[39;00m:\n\u001b[1;32m    464\u001b[0m     assert_header_parsing(httplib_response\u001b[39m.\u001b[39mmsg)\n",
      "File \u001b[0;32m~/opt/anaconda3/envs/sr_2023/lib/python3.11/http/client.py:1378\u001b[0m, in \u001b[0;36mHTTPConnection.getresponse\u001b[0;34m(self)\u001b[0m\n\u001b[1;32m   1376\u001b[0m \u001b[39mtry\u001b[39;00m:\n\u001b[1;32m   1377\u001b[0m     \u001b[39mtry\u001b[39;00m:\n\u001b[0;32m-> 1378\u001b[0m         response\u001b[39m.\u001b[39;49mbegin()\n\u001b[1;32m   1379\u001b[0m     \u001b[39mexcept\u001b[39;00m \u001b[39mConnectionError\u001b[39;00m:\n\u001b[1;32m   1380\u001b[0m         \u001b[39mself\u001b[39m\u001b[39m.\u001b[39mclose()\n",
      "File \u001b[0;32m~/opt/anaconda3/envs/sr_2023/lib/python3.11/http/client.py:318\u001b[0m, in \u001b[0;36mHTTPResponse.begin\u001b[0;34m(self)\u001b[0m\n\u001b[1;32m    316\u001b[0m \u001b[39m# read until we get a non-100 response\u001b[39;00m\n\u001b[1;32m    317\u001b[0m \u001b[39mwhile\u001b[39;00m \u001b[39mTrue\u001b[39;00m:\n\u001b[0;32m--> 318\u001b[0m     version, status, reason \u001b[39m=\u001b[39m \u001b[39mself\u001b[39;49m\u001b[39m.\u001b[39;49m_read_status()\n\u001b[1;32m    319\u001b[0m     \u001b[39mif\u001b[39;00m status \u001b[39m!=\u001b[39m CONTINUE:\n\u001b[1;32m    320\u001b[0m         \u001b[39mbreak\u001b[39;00m\n",
      "File \u001b[0;32m~/opt/anaconda3/envs/sr_2023/lib/python3.11/http/client.py:279\u001b[0m, in \u001b[0;36mHTTPResponse._read_status\u001b[0;34m(self)\u001b[0m\n\u001b[1;32m    278\u001b[0m \u001b[39mdef\u001b[39;00m \u001b[39m_read_status\u001b[39m(\u001b[39mself\u001b[39m):\n\u001b[0;32m--> 279\u001b[0m     line \u001b[39m=\u001b[39m \u001b[39mstr\u001b[39m(\u001b[39mself\u001b[39m\u001b[39m.\u001b[39mfp\u001b[39m.\u001b[39mreadline(_MAXLINE \u001b[39m+\u001b[39m \u001b[39m1\u001b[39m), \u001b[39m\"\u001b[39m\u001b[39miso-8859-1\u001b[39m\u001b[39m\"\u001b[39m)\n\u001b[1;32m    280\u001b[0m     \u001b[39mif\u001b[39;00m \u001b[39mlen\u001b[39m(line) \u001b[39m>\u001b[39m _MAXLINE:\n\u001b[1;32m    281\u001b[0m         \u001b[39mraise\u001b[39;00m LineTooLong(\u001b[39m\"\u001b[39m\u001b[39mstatus line\u001b[39m\u001b[39m\"\u001b[39m)\n",
      "File \u001b[0;32m~/opt/anaconda3/envs/sr_2023/lib/python3.11/socket.py:706\u001b[0m, in \u001b[0;36mSocketIO.readinto\u001b[0;34m(self, b)\u001b[0m\n\u001b[1;32m    704\u001b[0m \u001b[39mwhile\u001b[39;00m \u001b[39mTrue\u001b[39;00m:\n\u001b[1;32m    705\u001b[0m     \u001b[39mtry\u001b[39;00m:\n\u001b[0;32m--> 706\u001b[0m         \u001b[39mreturn\u001b[39;00m \u001b[39mself\u001b[39;49m\u001b[39m.\u001b[39;49m_sock\u001b[39m.\u001b[39;49mrecv_into(b)\n\u001b[1;32m    707\u001b[0m     \u001b[39mexcept\u001b[39;00m timeout:\n\u001b[1;32m    708\u001b[0m         \u001b[39mself\u001b[39m\u001b[39m.\u001b[39m_timeout_occurred \u001b[39m=\u001b[39m \u001b[39mTrue\u001b[39;00m\n",
      "File \u001b[0;32m~/opt/anaconda3/envs/sr_2023/lib/python3.11/ssl.py:1278\u001b[0m, in \u001b[0;36mSSLSocket.recv_into\u001b[0;34m(self, buffer, nbytes, flags)\u001b[0m\n\u001b[1;32m   1274\u001b[0m     \u001b[39mif\u001b[39;00m flags \u001b[39m!=\u001b[39m \u001b[39m0\u001b[39m:\n\u001b[1;32m   1275\u001b[0m         \u001b[39mraise\u001b[39;00m \u001b[39mValueError\u001b[39;00m(\n\u001b[1;32m   1276\u001b[0m           \u001b[39m\"\u001b[39m\u001b[39mnon-zero flags not allowed in calls to recv_into() on \u001b[39m\u001b[39m%s\u001b[39;00m\u001b[39m\"\u001b[39m \u001b[39m%\u001b[39m\n\u001b[1;32m   1277\u001b[0m           \u001b[39mself\u001b[39m\u001b[39m.\u001b[39m\u001b[39m__class__\u001b[39m)\n\u001b[0;32m-> 1278\u001b[0m     \u001b[39mreturn\u001b[39;00m \u001b[39mself\u001b[39;49m\u001b[39m.\u001b[39;49mread(nbytes, buffer)\n\u001b[1;32m   1279\u001b[0m \u001b[39melse\u001b[39;00m:\n\u001b[1;32m   1280\u001b[0m     \u001b[39mreturn\u001b[39;00m \u001b[39msuper\u001b[39m()\u001b[39m.\u001b[39mrecv_into(buffer, nbytes, flags)\n",
      "File \u001b[0;32m~/opt/anaconda3/envs/sr_2023/lib/python3.11/ssl.py:1134\u001b[0m, in \u001b[0;36mSSLSocket.read\u001b[0;34m(self, len, buffer)\u001b[0m\n\u001b[1;32m   1132\u001b[0m \u001b[39mtry\u001b[39;00m:\n\u001b[1;32m   1133\u001b[0m     \u001b[39mif\u001b[39;00m buffer \u001b[39mis\u001b[39;00m \u001b[39mnot\u001b[39;00m \u001b[39mNone\u001b[39;00m:\n\u001b[0;32m-> 1134\u001b[0m         \u001b[39mreturn\u001b[39;00m \u001b[39mself\u001b[39;49m\u001b[39m.\u001b[39;49m_sslobj\u001b[39m.\u001b[39;49mread(\u001b[39mlen\u001b[39;49m, buffer)\n\u001b[1;32m   1135\u001b[0m     \u001b[39melse\u001b[39;00m:\n\u001b[1;32m   1136\u001b[0m         \u001b[39mreturn\u001b[39;00m \u001b[39mself\u001b[39m\u001b[39m.\u001b[39m_sslobj\u001b[39m.\u001b[39mread(\u001b[39mlen\u001b[39m)\n",
      "\u001b[0;31mKeyboardInterrupt\u001b[0m: "
     ]
    }
   ],
   "source": [
    "#argumentos para el .py\n",
    "\n",
    "path_movies = \"data/movies_lists.csv\"\n",
    "path_lists = \"data/lists_data.csv\"\n",
    "listas = pd.read_csv(\"data/lists copy.csv\")\n",
    "\n",
    "#dictionary for stars\n",
    "stars_interpreter = {\n",
    "    \"-\" : -1,\n",
    "    \" ½ \": 0.5,\n",
    "    \" ★ \" : 1,\n",
    "    \" ★½ \" : 1.5,\n",
    "    \" ★★ \" : 2,\n",
    "    \" ★★½ \" : 2.5,\n",
    "    \" ★★★ \" : 3,\n",
    "    \" ★★★½ \" : 3.5, \n",
    "    \" ★★★★ \" : 4,\n",
    "    \" ★★★★½ \" : 4.5,\n",
    "     \" ★★★★★ \": 5\n",
    "}\n",
    "\n",
    "\n",
    "\n",
    "#para cada lista del archivo de listas\n",
    "for i in range(0, len(listas)):\n",
    "    list_link = \"https://letterboxd.com\" + listas[\"list_link\"][i] + \"detail/page/\"\n",
    "    list_id = listas[\"list_id\"][i]\n",
    "\n",
    "    #tengo que ver todas sus páginas\n",
    "    for number in range(1, 10000):\n",
    "        r = requests.get(f\"{list_link}{number}\")\n",
    "        tree = lxml.html.fromstring(r.text)\n",
    "        table = tree.xpath('//*[@id=\"content\"]/div/div/section/ul')\n",
    "\n",
    "        #si es la página 1, guardo data de la lista\n",
    "        if number == 1:\n",
    "            #list data\n",
    "            list_title = [title.text for title in tree.xpath('//*[@id=\"content\"]/div/div/section/div[2]/h1')]\n",
    "            list_description = ' '.join([str(element.text) for element in tree.xpath('//*[@id=\"content\"]/div/div/section/div[2]/div/p')])\n",
    "            #get list likes\n",
    "            r = requests.get(f\"https://letterboxd.com/ajax/letterboxd-metadata/?likeables=filmlist%3A{list_id}&likeCounts=filmlist%3A{list_id}\")\n",
    "            list_likes = json.loads(r.text)[\"likeables\"][0][\"count\"]\n",
    "\n",
    "            #armo el dataframe\n",
    "            df_to_append = pd.DataFrame()\n",
    "            df_to_append = pd.DataFrame(\n",
    "                {'list_id': list_id,\n",
    "                'list_title': list_title,\n",
    "                'list_description': list_description,\n",
    "                'list_likes': list_likes\n",
    "                })\n",
    "\n",
    "            #header del csv\n",
    "            header = [\"list_id\",\"list_title\", \"list_description\", \"list_likes\"]\n",
    "\n",
    "            # si no existe el csv, se crea con el header\n",
    "            if os.path.isfile(path_lists)==False:\n",
    "                with open(path_lists, 'a') as f:\n",
    "                    writer = csv.writer(f)\n",
    "                    writer.writerow(header)\n",
    "                    df_to_append.to_csv(f, header=False, index=False)\n",
    "                    f.flush()\n",
    "\n",
    "            # si existe el csv, se appendea el dataframe\n",
    "            else:\n",
    "                with open(path_lists, 'a') as f:\n",
    "                    df_to_append.to_csv(f, header=False, index=False)\n",
    "                    f.flush()\n",
    "\n",
    "\n",
    "                \n",
    "        if len(table[0].findall(\"li\")) != 0:\n",
    "            \n",
    "           #films data\n",
    "            list_id_arr = [list_id] * len(table[0].findall(\"li\"))\n",
    "                \n",
    "            movie_id = [element.attrib[\"data-film-id\"] for element in table[0].findall(\".//*[@data-film-id]\")]\n",
    "\n",
    "            movie_link = [element.attrib[\"href\"] for element in table[0].findall(\".//*[@class='headline-2 prettify']/a\")]\n",
    "   \n",
    "            #movie_stars = [element.text for element in table[0].findall(\".//*[@class='film-detail-meta rating-green']/span\")]\n",
    "            #print((movie_stars))\n",
    "            details = [element for element in table[0].findall(\".//*[@class='film-detail-content']\")]\n",
    "\n",
    "            movie_stars = []\n",
    "            for calif in details:\n",
    "                    \n",
    "                    try:\n",
    "                        if calif[1].tag == \"p\":\n",
    "                            movie_stars.append((calif[1][0].text))\n",
    "                        else:\n",
    "                            movie_stars.append(\"-\")\n",
    "\n",
    "                    except:\n",
    "                        movie_stars.append(\"-\")\n",
    "\n",
    "\n",
    "            movie_calification = [stars_interpreter[x] for x in movie_stars]\n",
    "\n",
    "            movie_position = [element.text for element in table[0].findall(\".//*[@class='list-number']\")] \n",
    "\n",
    "            if len(movie_position) == 0:\n",
    "                movie_position = [0] * len(movie_id)\n",
    "\n",
    "            print(len(movie_position))\n",
    "\n",
    "\n",
    "            #armo el dataframe\n",
    "            df_to_append = pd.DataFrame()\n",
    "            df_to_append = pd.DataFrame(\n",
    "                {'list_id': list_id_arr,\n",
    "                'movie_id': movie_id,\n",
    "                'movie_link': movie_link,\n",
    "                'movie_stars': movie_stars,\n",
    "                'movie_calification': movie_calification,\n",
    "                'movie_position': movie_position\n",
    "\n",
    "                })\n",
    "\n",
    "            #header del csv\n",
    "            header = [\"list_id\",\"movie_id\", \"movie_link\", \"movie_stars\", \"movie_calification\", \"movie_position\"]\n",
    "\n",
    "            # si no existe el csv, se crea con el header\n",
    "            if os.path.isfile(path_movies)==False:\n",
    "                with open(path_movies, 'a') as f:\n",
    "                    writer = csv.writer(f)\n",
    "                    writer.writerow(header)\n",
    "                    df_to_append.to_csv(f, header=False, index=False)\n",
    "                    f.flush()\n",
    "\n",
    "            # si existe el csv, se appendea el dataframe\n",
    "            else:\n",
    "                with open(path_movies, 'a') as f:\n",
    "                    df_to_append.to_csv(f, header=False, index=False)\n",
    "                    f.flush()\n",
    "\n",
    "        else:\n",
    "            break "
   ]
  }
 ],
 "metadata": {
  "kernelspec": {
   "display_name": "sr_2023",
   "language": "python",
   "name": "python3"
  },
  "language_info": {
   "codemirror_mode": {
    "name": "ipython",
    "version": 3
   },
   "file_extension": ".py",
   "mimetype": "text/x-python",
   "name": "python",
   "nbconvert_exporter": "python",
   "pygments_lexer": "ipython3",
   "version": "3.11.4"
  },
  "orig_nbformat": 4
 },
 "nbformat": 4,
 "nbformat_minor": 2
}
