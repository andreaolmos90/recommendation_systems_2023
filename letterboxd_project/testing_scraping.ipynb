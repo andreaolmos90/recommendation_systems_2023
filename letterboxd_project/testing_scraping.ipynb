{
 "cells": [
  {
   "cell_type": "code",
   "execution_count": 13,
   "metadata": {},
   "outputs": [
    {
     "name": "stdout",
     "output_type": "stream",
     "text": [
      "/schaffrillas/\n"
     ]
    }
   ],
   "source": [
    "import requests\n",
    "import lxml\n",
    "from lxml import etree\n",
    "from lxml import html\n",
    "\n",
    "r = requests.get(f\"https://letterboxd.com/members/popular/this/week\")\n",
    "\n",
    "#if r.status_code == 200:\n",
    "    #print(r.text)\n",
    "\n",
    "tree = lxml.html.fromstring(r.text)\n",
    "\n",
    "for e in tree.xpath('//*[@id=\"content\"]/div/div/section/table/tbody/tr[1]/td[1]/div/h3/a/@href'):\n",
    "#if \"href\" in e.attrib and e.attrib[\"href\"].startswith(\"https://quelibroleo.com/usuarios/\"):\n",
    "    print (e)\n"
   ]
  },
  {
   "cell_type": "code",
   "execution_count": null,
   "metadata": {},
   "outputs": [],
   "source": []
  }
 ],
 "metadata": {
  "kernelspec": {
   "display_name": "sr_2023",
   "language": "python",
   "name": "python3"
  },
  "language_info": {
   "codemirror_mode": {
    "name": "ipython",
    "version": 3
   },
   "file_extension": ".py",
   "mimetype": "text/x-python",
   "name": "python",
   "nbconvert_exporter": "python",
   "pygments_lexer": "ipython3",
   "version": "3.11.4"
  },
  "orig_nbformat": 4
 },
 "nbformat": 4,
 "nbformat_minor": 2
}
