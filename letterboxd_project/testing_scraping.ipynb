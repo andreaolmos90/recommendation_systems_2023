{
 "cells": [
  {
   "cell_type": "markdown",
   "metadata": {},
   "source": [
    "# Scrapping de letterboxd\n",
    "\n",
    "Pasos a seguir:\n",
    "1. extraer todos los usuarios que tengan listas armadas y armar un csv de usuarios: id_usuario, link_usuario\n",
    "2. para cada usuario, extraer los links a sus las listas y armar un csv de listas: id_usuario, id_lista, link_lista\n",
    "3. para cada lista, exportar a un csv con las interacciones: id_lista, id_pelicula, posicion, link_pelicula\n",
    "4. para cada link_pelicula, obtener los datos de las peliculas\n",
    "\n",
    "al final hay que tener 3 archivos:\n",
    "interacciones (listas-peliculas)\n",
    "peliculas\n",
    "listas"
   ]
  },
  {
   "cell_type": "code",
   "execution_count": 24,
   "metadata": {},
   "outputs": [],
   "source": [
    "import requests\n",
    "import lxml\n",
    "from lxml import etree\n",
    "from lxml import html\n",
    "import xml.etree.ElementTree as ET\n"
   ]
  },
  {
   "cell_type": "markdown",
   "metadata": {},
   "source": [
    " Paso 1: extraer todos los usuarios que tengan listas armadas y armar un csv de usuarios: id_usuario, link_usuario\n"
   ]
  },
  {
   "cell_type": "code",
   "execution_count": 113,
   "metadata": {},
   "outputs": [],
   "source": [
    "r = requests.get(\"https://letterboxd.com/members/popular/this/week/page/1/\")"
   ]
  },
  {
   "cell_type": "code",
   "execution_count": 148,
   "metadata": {},
   "outputs": [],
   "source": [
    "table = tree.xpath('//*[@id=\"content\"]/div/div/section/table/tbody')\n",
    "\n",
    "user_link = [element.attrib[\"href\"] for element in table[0].findall(\".//*[@class='title-3']/a\")]\n",
    "user_lists_link = [element.attrib[\"href\"] for element in table[0].findall(\".//*[@class='has-icon icon-16 icon-list']\")]\n",
    "user_watched_num = [element.text for element in table[0].findall(\".//*[@class='has-icon icon-16 icon-watched']\")]\n",
    "user_lists_num = [element.text for element in table[0].findall(\".//*[@class='has-icon icon-16 icon-list']\")]\n",
    "user_likes_num = [element.text for element in table[0].findall(\".//*[@class='has-icon icon-16 icon-liked']\")]\n"
   ]
  }
 ],
 "metadata": {
  "kernelspec": {
   "display_name": "sr_2023",
   "language": "python",
   "name": "python3"
  },
  "language_info": {
   "codemirror_mode": {
    "name": "ipython",
    "version": 3
   },
   "file_extension": ".py",
   "mimetype": "text/x-python",
   "name": "python",
   "nbconvert_exporter": "python",
   "pygments_lexer": "ipython3",
   "version": "3.11.4"
  },
  "orig_nbformat": 4
 },
 "nbformat": 4,
 "nbformat_minor": 2
}
