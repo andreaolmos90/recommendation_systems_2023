{
 "cells": [
  {
   "cell_type": "code",
   "execution_count": 1,
   "metadata": {},
   "outputs": [],
   "source": [
    "import csv\n",
    "import pandas as pd\n",
    "import os \n",
    "import glob\n",
    "import numpy as np"
   ]
  },
  {
   "cell_type": "markdown",
   "metadata": {},
   "source": [
    "# Unión de la data de todas las películas"
   ]
  },
  {
   "cell_type": "markdown",
   "metadata": {},
   "source": [
    "traigo y trato las listas originales"
   ]
  },
  {
   "cell_type": "code",
   "execution_count": 3,
   "metadata": {},
   "outputs": [],
   "source": [
    "all_the_lists = pd.read_csv(\"letterboxd_project/data/lists_data/all_the_lists/lists_complete.csv\")"
   ]
  },
  {
   "cell_type": "code",
   "execution_count": 4,
   "metadata": {},
   "outputs": [],
   "source": [
    "#tratamiento de la extensión de la lista\n",
    "all_the_lists[\"extension\"] = all_the_lists[\"list_extension\"].replace('films', '', regex=True)\n",
    "all_the_lists[\"extension\"] = all_the_lists[\"extension\"].replace(' film', '', regex=True)\n",
    "all_the_lists[\"extension\"] = all_the_lists[\"extension\"].replace(',', '', regex=True)\n",
    "all_the_lists[\"extension\"] = all_the_lists[\"extension\"].replace('\\xa0film', '', regex=True)\n",
    "\n",
    "extensions = []\n",
    "for i in range(0, len(all_the_lists[\"extension\"])):\n",
    "    try:\n",
    "       extensions.append(int(all_the_lists[\"extension\"][i]))\n",
    "\n",
    "    except:\n",
    "       extensions.append(0)\n",
    "\n",
    "all_the_lists[\"extension\"] = extensions\n"
   ]
  },
  {
   "cell_type": "markdown",
   "metadata": {},
   "source": [
    "uno todos los archivos con datos de las listas"
   ]
  },
  {
   "cell_type": "code",
   "execution_count": 5,
   "metadata": {},
   "outputs": [
    {
     "data": {
      "text/plain": [
       "['letterboxd_project/data/lists_data/lists_data_2_b.csv',\n",
       " 'letterboxd_project/data/lists_data/lists_data_4_b.csv',\n",
       " 'letterboxd_project/data/lists_data/lists_data_8.csv',\n",
       " 'letterboxd_project/data/lists_data/lists_data_6.csv',\n",
       " 'letterboxd_project/data/lists_data/lists_data_4.csv',\n",
       " 'letterboxd_project/data/lists_data/lists_data_1.csv',\n",
       " 'letterboxd_project/data/lists_data/lists_data_3.csv',\n",
       " 'letterboxd_project/data/lists_data/lists_data_2.csv',\n",
       " 'letterboxd_project/data/lists_data/lists_data_recovered.csv']"
      ]
     },
     "execution_count": 5,
     "metadata": {},
     "output_type": "execute_result"
    }
   ],
   "source": [
    "glob.glob(\"letterboxd_project/data/lists_data/*.csv\")"
   ]
  },
  {
   "cell_type": "code",
   "execution_count": 6,
   "metadata": {},
   "outputs": [
    {
     "name": "stdout",
     "output_type": "stream",
     "text": [
      "letterboxd_project/data/lists_data/lists_data_2_b.csv\n",
      "letterboxd_project/data/lists_data/lists_data_4_b.csv\n",
      "letterboxd_project/data/lists_data/lists_data_8.csv\n",
      "letterboxd_project/data/lists_data/lists_data_6.csv\n",
      "letterboxd_project/data/lists_data/lists_data_4.csv\n",
      "letterboxd_project/data/lists_data/lists_data_1.csv\n",
      "letterboxd_project/data/lists_data/lists_data_3.csv\n",
      "letterboxd_project/data/lists_data/lists_data_2.csv\n",
      "letterboxd_project/data/lists_data/lists_data_recovered.csv\n"
     ]
    }
   ],
   "source": [
    "csv_files = glob.glob(\"letterboxd_project/data/lists_data/*.csv\")\n",
    "df = pd.DataFrame()  \n",
    "  \n",
    "# loop over the list of csv files\n",
    "for f in csv_files:\n",
    "    print(f)\n",
    "    # read the csv file\n",
    "    temp_df = pd.read_csv(f)\n",
    "    #print(temp_df.head())\n",
    "    df = pd.concat([df, temp_df])\n",
    "      "
   ]
  },
  {
   "cell_type": "code",
   "execution_count": 7,
   "metadata": {},
   "outputs": [
    {
     "data": {
      "text/plain": [
       "(391295, 4)"
      ]
     },
     "execution_count": 7,
     "metadata": {},
     "output_type": "execute_result"
    }
   ],
   "source": [
    "df.shape"
   ]
  },
  {
   "cell_type": "code",
   "execution_count": 8,
   "metadata": {},
   "outputs": [],
   "source": [
    "#limpio repetidos\n",
    "df = df.drop_duplicates()"
   ]
  },
  {
   "cell_type": "code",
   "execution_count": 9,
   "metadata": {},
   "outputs": [],
   "source": [
    "#busco los que no están en las listas (ids de listas que no se descargaron)\n",
    "df_to_recover = all_the_lists[~all_the_lists['list_id'].isin(df.list_id)]"
   ]
  },
  {
   "cell_type": "code",
   "execution_count": 10,
   "metadata": {},
   "outputs": [
    {
     "data": {
      "text/html": [
       "<div>\n",
       "<style scoped>\n",
       "    .dataframe tbody tr th:only-of-type {\n",
       "        vertical-align: middle;\n",
       "    }\n",
       "\n",
       "    .dataframe tbody tr th {\n",
       "        vertical-align: top;\n",
       "    }\n",
       "\n",
       "    .dataframe thead th {\n",
       "        text-align: right;\n",
       "    }\n",
       "</style>\n",
       "<table border=\"1\" class=\"dataframe\">\n",
       "  <thead>\n",
       "    <tr style=\"text-align: right;\">\n",
       "      <th></th>\n",
       "      <th>Unnamed: 0</th>\n",
       "      <th>user_id</th>\n",
       "      <th>list_id</th>\n",
       "      <th>list_link</th>\n",
       "      <th>list_extension</th>\n",
       "      <th>extension</th>\n",
       "    </tr>\n",
       "  </thead>\n",
       "  <tbody>\n",
       "    <tr>\n",
       "      <th>2504</th>\n",
       "      <td>2504</td>\n",
       "      <td>augustleaves</td>\n",
       "      <td>36670583</td>\n",
       "      <td>/augustleaves/list/list-of-only-good-blockbust...</td>\n",
       "      <td>18 films</td>\n",
       "      <td>18</td>\n",
       "    </tr>\n",
       "    <tr>\n",
       "      <th>2519</th>\n",
       "      <td>2519</td>\n",
       "      <td>georgecarmi</td>\n",
       "      <td>25625991</td>\n",
       "      <td>/georgecarmi/list/horror-ranked/</td>\n",
       "      <td>235 films</td>\n",
       "      <td>235</td>\n",
       "    </tr>\n",
       "    <tr>\n",
       "      <th>2521</th>\n",
       "      <td>2521</td>\n",
       "      <td>georgecarmi</td>\n",
       "      <td>31957671</td>\n",
       "      <td>/georgecarmi/list/wed-be-so-incredibly-fucked-...</td>\n",
       "      <td>16 films</td>\n",
       "      <td>16</td>\n",
       "    </tr>\n",
       "    <tr>\n",
       "      <th>2532</th>\n",
       "      <td>2532</td>\n",
       "      <td>georgecarmi</td>\n",
       "      <td>13382561</td>\n",
       "      <td>/georgecarmi/list/2019-ranked/</td>\n",
       "      <td>50 films</td>\n",
       "      <td>50</td>\n",
       "    </tr>\n",
       "    <tr>\n",
       "      <th>2533</th>\n",
       "      <td>2533</td>\n",
       "      <td>georgecarmi</td>\n",
       "      <td>13383436</td>\n",
       "      <td>/georgecarmi/list/animation-ranked/</td>\n",
       "      <td>171 films</td>\n",
       "      <td>171</td>\n",
       "    </tr>\n",
       "    <tr>\n",
       "      <th>...</th>\n",
       "      <td>...</td>\n",
       "      <td>...</td>\n",
       "      <td>...</td>\n",
       "      <td>...</td>\n",
       "      <td>...</td>\n",
       "      <td>...</td>\n",
       "    </tr>\n",
       "    <tr>\n",
       "      <th>343370</th>\n",
       "      <td>23308</td>\n",
       "      <td>colinsonline</td>\n",
       "      <td>28245423</td>\n",
       "      <td>/colinsonline/list/around-the-world/</td>\n",
       "      <td>39 films</td>\n",
       "      <td>39</td>\n",
       "    </tr>\n",
       "    <tr>\n",
       "      <th>343376</th>\n",
       "      <td>23314</td>\n",
       "      <td>colinsonline</td>\n",
       "      <td>31034168</td>\n",
       "      <td>/colinsonline/list/discs-and-things-of-that-na...</td>\n",
       "      <td>13 films</td>\n",
       "      <td>13</td>\n",
       "    </tr>\n",
       "    <tr>\n",
       "      <th>343378</th>\n",
       "      <td>23316</td>\n",
       "      <td>colinsonline</td>\n",
       "      <td>30738078</td>\n",
       "      <td>/colinsonline/list/criterion-challenger/</td>\n",
       "      <td>52 films</td>\n",
       "      <td>52</td>\n",
       "    </tr>\n",
       "    <tr>\n",
       "      <th>343607</th>\n",
       "      <td>23545</td>\n",
       "      <td>tgland</td>\n",
       "      <td>21441811</td>\n",
       "      <td>/tgland/list/a-list-of-silent-films-for-veronica/</td>\n",
       "      <td>102 films</td>\n",
       "      <td>102</td>\n",
       "    </tr>\n",
       "    <tr>\n",
       "      <th>343712</th>\n",
       "      <td>23650</td>\n",
       "      <td>acorns13</td>\n",
       "      <td>28456342</td>\n",
       "      <td>/acorns13/list/top-20-films-of-2024/</td>\n",
       "      <td>28 films</td>\n",
       "      <td>28</td>\n",
       "    </tr>\n",
       "  </tbody>\n",
       "</table>\n",
       "<p>2650 rows × 6 columns</p>\n",
       "</div>"
      ],
      "text/plain": [
       "        Unnamed: 0       user_id   list_id  \\\n",
       "2504          2504  augustleaves  36670583   \n",
       "2519          2519   georgecarmi  25625991   \n",
       "2521          2521   georgecarmi  31957671   \n",
       "2532          2532   georgecarmi  13382561   \n",
       "2533          2533   georgecarmi  13383436   \n",
       "...            ...           ...       ...   \n",
       "343370       23308  colinsonline  28245423   \n",
       "343376       23314  colinsonline  31034168   \n",
       "343378       23316  colinsonline  30738078   \n",
       "343607       23545        tgland  21441811   \n",
       "343712       23650      acorns13  28456342   \n",
       "\n",
       "                                                list_link list_extension  \\\n",
       "2504    /augustleaves/list/list-of-only-good-blockbust...       18 films   \n",
       "2519                     /georgecarmi/list/horror-ranked/      235 films   \n",
       "2521    /georgecarmi/list/wed-be-so-incredibly-fucked-...       16 films   \n",
       "2532                       /georgecarmi/list/2019-ranked/       50 films   \n",
       "2533                  /georgecarmi/list/animation-ranked/      171 films   \n",
       "...                                                   ...            ...   \n",
       "343370               /colinsonline/list/around-the-world/       39 films   \n",
       "343376  /colinsonline/list/discs-and-things-of-that-na...       13 films   \n",
       "343378           /colinsonline/list/criterion-challenger/       52 films   \n",
       "343607  /tgland/list/a-list-of-silent-films-for-veronica/      102 films   \n",
       "343712               /acorns13/list/top-20-films-of-2024/       28 films   \n",
       "\n",
       "        extension  \n",
       "2504           18  \n",
       "2519          235  \n",
       "2521           16  \n",
       "2532           50  \n",
       "2533          171  \n",
       "...           ...  \n",
       "343370         39  \n",
       "343376         13  \n",
       "343378         52  \n",
       "343607        102  \n",
       "343712         28  \n",
       "\n",
       "[2650 rows x 6 columns]"
      ]
     },
     "execution_count": 10,
     "metadata": {},
     "output_type": "execute_result"
    }
   ],
   "source": [
    "df_to_recover"
   ]
  },
  {
   "cell_type": "markdown",
   "metadata": {},
   "source": [
    "guardo la data de las listas en un solo archivo"
   ]
  },
  {
   "cell_type": "code",
   "execution_count": 11,
   "metadata": {},
   "outputs": [],
   "source": [
    "df.to_csv(\"letterboxd_project/data/lists_data/all_the_lists/all_the_lists_data.csv\")"
   ]
  },
  {
   "cell_type": "markdown",
   "metadata": {},
   "source": [
    "# movies and lists ( interacciones )"
   ]
  },
  {
   "cell_type": "markdown",
   "metadata": {},
   "source": [
    "uno todos los archivos de películas en listas"
   ]
  },
  {
   "cell_type": "code",
   "execution_count": 13,
   "metadata": {},
   "outputs": [
    {
     "data": {
      "text/plain": [
       "['letterboxd_project/data/movies_lists_data/movies_lists_6.csv',\n",
       " 'letterboxd_project/data/movies_lists_data/movies_lists_4.csv',\n",
       " 'letterboxd_project/data/movies_lists_data/movies_lists_1.csv',\n",
       " 'letterboxd_project/data/movies_lists_data/movies_lists_2.csv',\n",
       " 'letterboxd_project/data/movies_lists_data/movies_lists_3.csv',\n",
       " 'letterboxd_project/data/movies_lists_data/movies_lists_recovered.csv',\n",
       " 'letterboxd_project/data/movies_lists_data/movies_lists_2_b.csv',\n",
       " 'letterboxd_project/data/movies_lists_data/movies_lists_8.csv',\n",
       " 'letterboxd_project/data/movies_lists_data/movies_lists_4_b.csv',\n",
       " 'letterboxd_project/data/movies_lists_data/movies_lists_3_b.csv']"
      ]
     },
     "execution_count": 13,
     "metadata": {},
     "output_type": "execute_result"
    }
   ],
   "source": [
    "glob.glob(\"letterboxd_project/data/movies_lists_data/*.csv\")"
   ]
  },
  {
   "cell_type": "code",
   "execution_count": 14,
   "metadata": {},
   "outputs": [
    {
     "name": "stdout",
     "output_type": "stream",
     "text": [
      "letterboxd_project/data/movies_lists_data/movies_lists_6.csv\n",
      "letterboxd_project/data/movies_lists_data/movies_lists_4.csv\n",
      "letterboxd_project/data/movies_lists_data/movies_lists_1.csv\n",
      "letterboxd_project/data/movies_lists_data/movies_lists_2.csv\n",
      "letterboxd_project/data/movies_lists_data/movies_lists_3.csv\n",
      "letterboxd_project/data/movies_lists_data/movies_lists_recovered.csv\n",
      "letterboxd_project/data/movies_lists_data/movies_lists_2_b.csv\n",
      "letterboxd_project/data/movies_lists_data/movies_lists_8.csv\n",
      "letterboxd_project/data/movies_lists_data/movies_lists_4_b.csv\n",
      "letterboxd_project/data/movies_lists_data/movies_lists_3_b.csv\n"
     ]
    }
   ],
   "source": [
    "csv_files = glob.glob(\"letterboxd_project/data/movies_lists_data/*.csv\")\n",
    "movies = pd.DataFrame()  \n",
    "  \n",
    "# loop over the list of csv files\n",
    "for f in csv_files:\n",
    "    print(f)\n",
    "    # read the csv file\n",
    "    temp_df = pd.read_csv(f)\n",
    "    #print(temp_df.head())\n",
    "    movies = pd.concat([movies, temp_df])\n",
    "      "
   ]
  },
  {
   "cell_type": "code",
   "execution_count": 15,
   "metadata": {},
   "outputs": [
    {
     "data": {
      "text/plain": [
       "(25630749, 5)"
      ]
     },
     "execution_count": 15,
     "metadata": {},
     "output_type": "execute_result"
    }
   ],
   "source": [
    "movies.shape"
   ]
  },
  {
   "cell_type": "code",
   "execution_count": 16,
   "metadata": {},
   "outputs": [],
   "source": [
    "movies = movies.drop_duplicates()"
   ]
  },
  {
   "cell_type": "code",
   "execution_count": 17,
   "metadata": {},
   "outputs": [
    {
     "data": {
      "text/plain": [
       "(19236207, 5)"
      ]
     },
     "execution_count": 17,
     "metadata": {},
     "output_type": "execute_result"
    }
   ],
   "source": [
    "movies.shape"
   ]
  },
  {
   "cell_type": "code",
   "execution_count": 18,
   "metadata": {},
   "outputs": [
    {
     "data": {
      "text/html": [
       "<div>\n",
       "<style scoped>\n",
       "    .dataframe tbody tr th:only-of-type {\n",
       "        vertical-align: middle;\n",
       "    }\n",
       "\n",
       "    .dataframe tbody tr th {\n",
       "        vertical-align: top;\n",
       "    }\n",
       "\n",
       "    .dataframe thead th {\n",
       "        text-align: right;\n",
       "    }\n",
       "</style>\n",
       "<table border=\"1\" class=\"dataframe\">\n",
       "  <thead>\n",
       "    <tr style=\"text-align: right;\">\n",
       "      <th></th>\n",
       "      <th>list_id</th>\n",
       "      <th>movie_link</th>\n",
       "      <th>movie_stars</th>\n",
       "      <th>movie_calification</th>\n",
       "      <th>movie_position</th>\n",
       "    </tr>\n",
       "  </thead>\n",
       "  <tbody>\n",
       "    <tr>\n",
       "      <th>0</th>\n",
       "      <td>5679698</td>\n",
       "      <td>/film/do-the-right-thing/</td>\n",
       "      <td>★★★★★</td>\n",
       "      <td>5.0</td>\n",
       "      <td>1.0</td>\n",
       "    </tr>\n",
       "    <tr>\n",
       "      <th>1</th>\n",
       "      <td>5679698</td>\n",
       "      <td>/film/singin-in-the-rain/</td>\n",
       "      <td>★★★★★</td>\n",
       "      <td>5.0</td>\n",
       "      <td>2.0</td>\n",
       "    </tr>\n",
       "    <tr>\n",
       "      <th>2</th>\n",
       "      <td>5679698</td>\n",
       "      <td>/film/nashville/</td>\n",
       "      <td>★★★★★</td>\n",
       "      <td>5.0</td>\n",
       "      <td>3.0</td>\n",
       "    </tr>\n",
       "    <tr>\n",
       "      <th>3</th>\n",
       "      <td>5679698</td>\n",
       "      <td>/film/the-wizard-of-oz-1939/</td>\n",
       "      <td>★★★★★</td>\n",
       "      <td>5.0</td>\n",
       "      <td>4.0</td>\n",
       "    </tr>\n",
       "    <tr>\n",
       "      <th>4</th>\n",
       "      <td>5679698</td>\n",
       "      <td>/film/the-apartment/</td>\n",
       "      <td>★★★★★</td>\n",
       "      <td>5.0</td>\n",
       "      <td>5.0</td>\n",
       "    </tr>\n",
       "  </tbody>\n",
       "</table>\n",
       "</div>"
      ],
      "text/plain": [
       "   list_id                    movie_link movie_stars  movie_calification  \\\n",
       "0  5679698     /film/do-the-right-thing/      ★★★★★                  5.0   \n",
       "1  5679698     /film/singin-in-the-rain/      ★★★★★                  5.0   \n",
       "2  5679698              /film/nashville/      ★★★★★                  5.0   \n",
       "3  5679698  /film/the-wizard-of-oz-1939/      ★★★★★                  5.0   \n",
       "4  5679698          /film/the-apartment/      ★★★★★                  5.0   \n",
       "\n",
       "   movie_position  \n",
       "0             1.0  \n",
       "1             2.0  \n",
       "2             3.0  \n",
       "3             4.0  \n",
       "4             5.0  "
      ]
     },
     "execution_count": 18,
     "metadata": {},
     "output_type": "execute_result"
    }
   ],
   "source": [
    "movies.head()"
   ]
  },
  {
   "cell_type": "markdown",
   "metadata": {},
   "source": [
    "guardo el archivo de interacciones"
   ]
  },
  {
   "cell_type": "code",
   "execution_count": 19,
   "metadata": {},
   "outputs": [],
   "source": [
    "movies.to_csv(\"letterboxd_project/data/movies_lists_data/all_movies_lists_interactions.csv\")"
   ]
  },
  {
   "cell_type": "markdown",
   "metadata": {},
   "source": [
    "control: están todas las películas de las listas?"
   ]
  },
  {
   "cell_type": "code",
   "execution_count": 20,
   "metadata": {},
   "outputs": [],
   "source": [
    "# tengo que ver si bajé todas las películas de las listas\n",
    "# voy a contar las películas que tengo por lista y ver si coinciden con la extension de la lista\n",
    "movies_counts = pd.DataFrame(movies[\"list_id\"].value_counts()).reset_index()\n",
    "movies_counts.columns = ['list_id', 'counts']\n",
    "merged_count = all_the_lists.merge(movies_counts, how=\"left\")"
   ]
  },
  {
   "cell_type": "code",
   "execution_count": 22,
   "metadata": {},
   "outputs": [
    {
     "data": {
      "text/html": [
       "<div>\n",
       "<style scoped>\n",
       "    .dataframe tbody tr th:only-of-type {\n",
       "        vertical-align: middle;\n",
       "    }\n",
       "\n",
       "    .dataframe tbody tr th {\n",
       "        vertical-align: top;\n",
       "    }\n",
       "\n",
       "    .dataframe thead th {\n",
       "        text-align: right;\n",
       "    }\n",
       "</style>\n",
       "<table border=\"1\" class=\"dataframe\">\n",
       "  <thead>\n",
       "    <tr style=\"text-align: right;\">\n",
       "      <th></th>\n",
       "      <th>Unnamed: 0</th>\n",
       "      <th>user_id</th>\n",
       "      <th>list_id</th>\n",
       "      <th>list_link</th>\n",
       "      <th>list_extension</th>\n",
       "      <th>extension</th>\n",
       "      <th>counts</th>\n",
       "    </tr>\n",
       "  </thead>\n",
       "  <tbody>\n",
       "    <tr>\n",
       "      <th>84</th>\n",
       "      <td>84</td>\n",
       "      <td>jay</td>\n",
       "      <td>19977378</td>\n",
       "      <td>/jay/list/its-a-game-within-a-game/</td>\n",
       "      <td>151 films</td>\n",
       "      <td>151</td>\n",
       "      <td>152.0</td>\n",
       "    </tr>\n",
       "    <tr>\n",
       "      <th>285</th>\n",
       "      <td>285</td>\n",
       "      <td>filmgraphy</td>\n",
       "      <td>30961314</td>\n",
       "      <td>/filmgraphy/list/2023/</td>\n",
       "      <td>47 films</td>\n",
       "      <td>47</td>\n",
       "      <td>53.0</td>\n",
       "    </tr>\n",
       "    <tr>\n",
       "      <th>290</th>\n",
       "      <td>290</td>\n",
       "      <td>filmgraphy</td>\n",
       "      <td>7359638</td>\n",
       "      <td>/filmgraphy/list/nothing-but-love-for-my-final...</td>\n",
       "      <td>23 films</td>\n",
       "      <td>23</td>\n",
       "      <td>24.0</td>\n",
       "    </tr>\n",
       "    <tr>\n",
       "      <th>313</th>\n",
       "      <td>313</td>\n",
       "      <td>JAragon23</td>\n",
       "      <td>28850018</td>\n",
       "      <td>/jaragon23/list/2023-movies-ranked/</td>\n",
       "      <td>82 films</td>\n",
       "      <td>82</td>\n",
       "      <td>83.0</td>\n",
       "    </tr>\n",
       "    <tr>\n",
       "      <th>485</th>\n",
       "      <td>485</td>\n",
       "      <td>thejoshl</td>\n",
       "      <td>2018796</td>\n",
       "      <td>/thejoshl/list/sleazoids-podcast/</td>\n",
       "      <td>582 films</td>\n",
       "      <td>582</td>\n",
       "      <td>587.0</td>\n",
       "    </tr>\n",
       "    <tr>\n",
       "      <th>...</th>\n",
       "      <td>...</td>\n",
       "      <td>...</td>\n",
       "      <td>...</td>\n",
       "      <td>...</td>\n",
       "      <td>...</td>\n",
       "      <td>...</td>\n",
       "      <td>...</td>\n",
       "    </tr>\n",
       "    <tr>\n",
       "      <th>343698</th>\n",
       "      <td>23636</td>\n",
       "      <td>acorns13</td>\n",
       "      <td>23919769</td>\n",
       "      <td>/acorns13/list/top-20-films-of-2023/</td>\n",
       "      <td>246 films</td>\n",
       "      <td>246</td>\n",
       "      <td>505.0</td>\n",
       "    </tr>\n",
       "    <tr>\n",
       "      <th>343712</th>\n",
       "      <td>23650</td>\n",
       "      <td>acorns13</td>\n",
       "      <td>28456342</td>\n",
       "      <td>/acorns13/list/top-20-films-of-2024/</td>\n",
       "      <td>28 films</td>\n",
       "      <td>28</td>\n",
       "      <td>NaN</td>\n",
       "    </tr>\n",
       "    <tr>\n",
       "      <th>344239</th>\n",
       "      <td>24177</td>\n",
       "      <td>filmboyjake</td>\n",
       "      <td>30452247</td>\n",
       "      <td>/filmboyjake/list/2023-movies-seen/</td>\n",
       "      <td>54 films</td>\n",
       "      <td>54</td>\n",
       "      <td>56.0</td>\n",
       "    </tr>\n",
       "    <tr>\n",
       "      <th>344240</th>\n",
       "      <td>24178</td>\n",
       "      <td>filmboyjake</td>\n",
       "      <td>22953729</td>\n",
       "      <td>/filmboyjake/list/nolan-ranked-1/</td>\n",
       "      <td>11 films</td>\n",
       "      <td>11</td>\n",
       "      <td>19.0</td>\n",
       "    </tr>\n",
       "    <tr>\n",
       "      <th>344255</th>\n",
       "      <td>24193</td>\n",
       "      <td>filmboyjake</td>\n",
       "      <td>36394273</td>\n",
       "      <td>/filmboyjake/list/conjuring-universe-ranked/</td>\n",
       "      <td>6 films</td>\n",
       "      <td>6</td>\n",
       "      <td>9.0</td>\n",
       "    </tr>\n",
       "  </tbody>\n",
       "</table>\n",
       "<p>17185 rows × 7 columns</p>\n",
       "</div>"
      ],
      "text/plain": [
       "        Unnamed: 0      user_id   list_id  \\\n",
       "84              84          jay  19977378   \n",
       "285            285   filmgraphy  30961314   \n",
       "290            290   filmgraphy   7359638   \n",
       "313            313    JAragon23  28850018   \n",
       "485            485     thejoshl   2018796   \n",
       "...            ...          ...       ...   \n",
       "343698       23636     acorns13  23919769   \n",
       "343712       23650     acorns13  28456342   \n",
       "344239       24177  filmboyjake  30452247   \n",
       "344240       24178  filmboyjake  22953729   \n",
       "344255       24193  filmboyjake  36394273   \n",
       "\n",
       "                                                list_link list_extension  \\\n",
       "84                    /jay/list/its-a-game-within-a-game/      151 films   \n",
       "285                                /filmgraphy/list/2023/       47 films   \n",
       "290     /filmgraphy/list/nothing-but-love-for-my-final...       23 films   \n",
       "313                   /jaragon23/list/2023-movies-ranked/       82 films   \n",
       "485                     /thejoshl/list/sleazoids-podcast/      582 films   \n",
       "...                                                   ...            ...   \n",
       "343698               /acorns13/list/top-20-films-of-2023/      246 films   \n",
       "343712               /acorns13/list/top-20-films-of-2024/       28 films   \n",
       "344239                /filmboyjake/list/2023-movies-seen/       54 films   \n",
       "344240                  /filmboyjake/list/nolan-ranked-1/       11 films   \n",
       "344255       /filmboyjake/list/conjuring-universe-ranked/        6 films   \n",
       "\n",
       "        extension  counts  \n",
       "84            151   152.0  \n",
       "285            47    53.0  \n",
       "290            23    24.0  \n",
       "313            82    83.0  \n",
       "485           582   587.0  \n",
       "...           ...     ...  \n",
       "343698        246   505.0  \n",
       "343712         28     NaN  \n",
       "344239         54    56.0  \n",
       "344240         11    19.0  \n",
       "344255          6     9.0  \n",
       "\n",
       "[17185 rows x 7 columns]"
      ]
     },
     "execution_count": 22,
     "metadata": {},
     "output_type": "execute_result"
    }
   ],
   "source": [
    "volver_a_descargar = merged_count[merged_count[\"extension\"] != merged_count[\"counts\"]]\n",
    "volver_a_descargar"
   ]
  },
  {
   "cell_type": "markdown",
   "metadata": {},
   "source": [
    "uno las listas que no se descargaron + las listas incompletas"
   ]
  },
  {
   "cell_type": "code",
   "execution_count": 254,
   "metadata": {},
   "outputs": [],
   "source": [
    "recover = pd.concat([volver_a_descargar.iloc[:,:-2], df_to_recover]).drop_duplicates()"
   ]
  },
  {
   "cell_type": "code",
   "execution_count": 255,
   "metadata": {},
   "outputs": [],
   "source": [
    "recover.to_csv(\"letterboxd_project/data/volver_a_descargar.csv\")"
   ]
  },
  {
   "cell_type": "markdown",
   "metadata": {},
   "source": [
    "veo cuántas películas hay y guardo esa data para empezar a descargar"
   ]
  },
  {
   "cell_type": "code",
   "execution_count": 23,
   "metadata": {},
   "outputs": [],
   "source": [
    "movies_to_download = movies[\"movie_link\"].drop_duplicates()\n",
    "movies_to_download.to_csv(\"letterboxd_project/data/all_the_movies.csv\", index=False)"
   ]
  },
  {
   "cell_type": "code",
   "execution_count": 39,
   "metadata": {},
   "outputs": [],
   "source": [
    "movies_to_download = pd.read_csv(\"letterboxd_project/data/movies_data/all_the_movies.csv\")"
   ]
  },
  {
   "cell_type": "code",
   "execution_count": 40,
   "metadata": {},
   "outputs": [],
   "source": [
    "movies_to_download=movies_to_download.reset_index()"
   ]
  },
  {
   "cell_type": "code",
   "execution_count": 41,
   "metadata": {},
   "outputs": [],
   "source": [
    "#divido las peliculas en 4 archivos para descargar simultaneamente\n",
    "df_chunks = np.array_split(movies_to_download, 4)"
   ]
  },
  {
   "cell_type": "code",
   "execution_count": 42,
   "metadata": {},
   "outputs": [],
   "source": [
    "for i in range(0, len(df_chunks)):\n",
    "      df_chunks[i].to_csv(f\"letterboxd_project/data/movies_to_download_{i}.csv\", index=False)\n",
    "    "
   ]
  }
 ],
 "metadata": {
  "kernelspec": {
   "display_name": "sr_2023",
   "language": "python",
   "name": "python3"
  },
  "language_info": {
   "codemirror_mode": {
    "name": "ipython",
    "version": 3
   },
   "file_extension": ".py",
   "mimetype": "text/x-python",
   "name": "python",
   "nbconvert_exporter": "python",
   "pygments_lexer": "ipython3",
   "version": "3.11.4"
  },
  "orig_nbformat": 4
 },
 "nbformat": 4,
 "nbformat_minor": 2
}
