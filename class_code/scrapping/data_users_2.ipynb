{
 "cells": [
  {
   "cell_type": "code",
   "execution_count": null,
   "metadata": {},
   "outputs": [],
   "source": [
    "import requests\n",
    "import csv\n",
    "import lxml\n",
    "from lxml import html\n",
    "import time\n",
    "\n",
    "with open(\"lectores.txt\", \"rt\") as lectores, open('datos_lectores.csv', 'wt', newline='', encoding='utf8') as csvfile:\n",
    "    fieldnames = ['id_lector', 'nombre', 'genero', 'vive_en', 'edad', 'puntuaciones_url', 'criticas_url']\n",
    "    writer = csv.DictWriter(csvfile, fieldnames=fieldnames)\n",
    "    _ = writer.writeheader()\n",
    "\n",
    "    for url in lectores:\n",
    "        url = url.strip()\n",
    "        print(url)\n",
    "\n",
    "        r = requests.get(url)\n",
    "        tree = lxml.html.fromstring(r.text)\n",
    "\n",
    "        try:\n",
    "            genero = tree.xpath(\"/html/body/section/div/div/div[2]/div/div/div[2]/div/div[1]/span[1]/text()\")[0].strip()\n",
    "        except:\n",
    "            genero = \"\"\n",
    "\n",
    "        try:\n",
    "            vive_en = tree.xpath(\"/html/body/section/div/div/div[2]/div/div/div[2]/div/div[1]/span[2]/text()\")[1].strip()\n",
    "        except:\n",
    "            vive_en = \"\"\n",
    "\n",
    "        try:\n",
    "            edad = tree.xpath(\"/html/body/section/div/div/div[2]/div/div/div[2]/div/div[1]/span[3]/text()\")[1].strip()\n",
    "        except:\n",
    "            edad = \"\"\n",
    "\n",
    "        lector = {\n",
    "            \"id_lector\": url.replace(\"https://quelibroleo.com/usuarios/\", \"\"),\n",
    "            \"nombre\": tree.xpath(\"/html/body/section/div/div/div[2]/div/div/div[2]/div/h4/span\")[0].text.strip(),\n",
    "            \"genero\": genero,\n",
    "            \"vive_en\": vive_en,\n",
    "            \"edad\": edad,\n",
    "            \"puntuaciones_url\": tree.xpath(\"/html/body/section/div/div/div[1]/div/div/div[2]/ul/li[2]/a\")[0].attrib[\"href\"],\n",
    "            \"criticas_url\": tree.xpath(\"/html/body/section/div/div/div[1]/div/div/div[2]/ul/li[3]/a\")[0].attrib[\"href\"],\n",
    "        }\n",
    "\n",
    "        _ = writer.writerow(lector)\n",
    "        time.sleep(2)"
   ]
  }
 ],
 "metadata": {
  "language_info": {
   "name": "python"
  },
  "orig_nbformat": 4
 },
 "nbformat": 4,
 "nbformat_minor": 2
}
