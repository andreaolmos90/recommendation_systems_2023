{
 "cells": [
  {
   "cell_type": "code",
   "execution_count": null,
   "metadata": {},
   "outputs": [],
   "source": [
    "from selenium import webdriver\n",
    "from selenium.webdriver.common.keys import Keys\n",
    "from selenium.webdriver.common.by import By\n",
    "\n",
    "driver = webdriver.Chrome()\n",
    "\n",
    "driver.get(\"https://www.ratebeer.com/beer/naerke-kaggen-stormaktsporter/58057/\")\n",
    "\n",
    "for a in driver.find_elements(By.XPATH, '//*[@id=\"root\"]/div[2]/div[2]/div/div/div/div[2]/div[4]/div/div[3]//a'):\n",
    "    print(a.get_attribute(\"href\"))"
   ]
  }
 ],
 "metadata": {
  "language_info": {
   "name": "python"
  },
  "orig_nbformat": 4
 },
 "nbformat": 4,
 "nbformat_minor": 2
}
