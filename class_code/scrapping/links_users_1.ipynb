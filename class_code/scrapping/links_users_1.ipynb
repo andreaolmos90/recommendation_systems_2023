{
 "cells": [
  {
   "cell_type": "code",
   "execution_count": null,
   "metadata": {},
   "outputs": [],
   "source": [
    "import requests\n",
    "#from lxml import etree\n",
    "from lxml import html\n",
    "\n",
    "with open(\"lectores.txt\", \"wt\") as f:\n",
    "    for page in range(1, 13+1):\n",
    "        print(page)\n",
    "        r = requests.get(f\"https://quelibroleo.com/lectores?sort=&page={page}\")\n",
    "\n",
    "        #if r.status_code == 200:\n",
    "        #print(r.text)\n",
    "\n",
    "        tree = lxml.html.fromstring(r.text)\n",
    "\n",
    "        for e in tree.xpath(\"//a[@class='header']\"):\n",
    "            #if \"href\" in e.attrib and e.attrib[\"href\"].startswith(\"https://quelibroleo.com/usuarios/\"):\n",
    "            _ = f.write(e.attrib[\"href\"] + \"\\n\")\n",
    "        f.flush()"
   ]
  }
 ],
 "metadata": {
  "language_info": {
   "name": "python"
  },
  "orig_nbformat": 4
 },
 "nbformat": 4,
 "nbformat_minor": 2
}
