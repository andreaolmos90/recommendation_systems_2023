{
  "nbformat": 4,
  "nbformat_minor": 0,
  "metadata": {
    "colab": {
      "provenance": [],
      "collapsed_sections": [
        "QvOHVrRwP3CX"
      ]
    },
    "kernelspec": {
      "name": "python3",
      "display_name": "Python 3"
    },
    "language_info": {
      "name": "python"
    }
  },
  "cells": [
    {
      "cell_type": "code",
      "source": [
        "import math"
      ],
      "metadata": {
        "id": "M5zioJQVVDWH"
      },
      "execution_count": null,
      "outputs": []
    },
    {
      "cell_type": "code",
      "execution_count": null,
      "metadata": {
        "id": "5Eo7F9KdPtm6"
      },
      "outputs": [],
      "source": [
        "GT = [1, 2, 3, 4, 5, 6, 7, 8, 9, 10]\n",
        "\n",
        "# recomendaciones\n",
        "R1 = [1, 2,  3,  4, 5, 6, 7, 8, 9, 10] # perfecta\n",
        "R2 = [11, 2, 3,  4, 5, 6, 7, 8, 9, 10] # error en posicion 1\n",
        "R3 = [1, 12, 3,  4, 5, 6, 7, 8, 9, 10] # error en posicion 2\n",
        "R4 = [1, 2, 13,  4, 5, 6, 7, 8, 9, 10] # error en posicion 3\n",
        "R5 = [1, 2,  3, 14, 5, 6, 7, 8, 9, 10] # error en posicion 4\n",
        "R6 = [11,12,13,  4, 5, 6, 7, 8, 9, 10] # error en posiciones 1,2 y 3\n",
        "R7 = [11,12,13,14,15,16,17,18,19,20] # todo mal"
      ]
    },
    {
      "cell_type": "markdown",
      "source": [
        "# Precision@10"
      ],
      "metadata": {
        "id": "QvOHVrRwP3CX"
      }
    },
    {
      "cell_type": "code",
      "source": [
        "def precision_at(verdad, recomendacion):\n",
        "    assert len(verdad) == len(recomendacion), \"la verdad tiene que ser del mismo tamaño que la recomendación\"\n",
        "\n",
        "    return len(set(verdad).intersection(set(recomendacion))) / len(verdad)"
      ],
      "metadata": {
        "id": "xxrF5ASWP5uX"
      },
      "execution_count": null,
      "outputs": []
    },
    {
      "cell_type": "code",
      "source": [
        "print(precision_at(GT, R1))\n",
        "print(precision_at(GT, R2))\n",
        "print(precision_at(GT, R3))\n",
        "print(precision_at(GT, R4))\n",
        "print(precision_at(GT, R5))\n",
        "print(precision_at(GT, R6))\n",
        "print(precision_at(GT, R7))"
      ],
      "metadata": {
        "colab": {
          "base_uri": "https://localhost:8080/"
        },
        "id": "eSvcCg7jQqZq",
        "outputId": "9f8e2648-dbfe-4229-9872-362e16e348bd"
      },
      "execution_count": null,
      "outputs": [
        {
          "output_type": "stream",
          "name": "stdout",
          "text": [
            "1.0\n",
            "0.9\n",
            "0.9\n",
            "0.9\n",
            "0.9\n",
            "0.7\n",
            "0.0\n"
          ]
        }
      ]
    },
    {
      "cell_type": "markdown",
      "source": [
        "# Mean Reciprocal Rank (MRR)"
      ],
      "metadata": {
        "id": "Q3nGZafeSB_2"
      }
    },
    {
      "cell_type": "code",
      "source": [
        "def mrr(verdad, recomendacion):\n",
        "    assert len(verdad) == len(recomendacion), \"la verdad tiene que ser del mismo tamaño que la recomendación\"\n",
        "    suma = 0\n",
        "    for v in verdad:\n",
        "        if v in recomendacion:\n",
        "            i = recomendacion.index(v)\n",
        "            suma += 1/(i+1)\n",
        "    return suma"
      ],
      "metadata": {
        "id": "ovBWATDvSFar"
      },
      "execution_count": null,
      "outputs": []
    },
    {
      "cell_type": "code",
      "source": [
        "print(mrr(GT, R1))\n",
        "print(mrr(GT, R2))\n",
        "print(mrr(GT, R3))\n",
        "print(mrr(GT, R4))\n",
        "print(mrr(GT, R5))\n",
        "print(mrr(GT, R6))\n",
        "print(mrr(GT, R7))"
      ],
      "metadata": {
        "colab": {
          "base_uri": "https://localhost:8080/"
        },
        "id": "H4ESFXH9ThmW",
        "outputId": "3d0c1786-b555-4679-9c41-bd707aa69935"
      },
      "execution_count": null,
      "outputs": [
        {
          "output_type": "stream",
          "name": "stdout",
          "text": [
            "2.9289682539682538\n",
            "1.928968253968254\n",
            "2.428968253968254\n",
            "2.5956349206349207\n",
            "2.6789682539682538\n",
            "1.0956349206349207\n",
            "0\n"
          ]
        }
      ]
    },
    {
      "cell_type": "markdown",
      "source": [
        "# NDCG@10"
      ],
      "metadata": {
        "id": "ZOZiwihyUkKP"
      }
    },
    {
      "cell_type": "code",
      "source": [
        "def ndcg(verdad, recomendacion):\n",
        "    assert len(verdad) == len(recomendacion), \"la verdad tiene que ser del mismo tamaño que la recomendación\"\n",
        "\n",
        "    dcg = 0\n",
        "    idcg = 0\n",
        "    for i, r in enumerate(recomendacion):\n",
        "        if r in verdad: # es relevante?\n",
        "            dcg += 1 / math.log2(i+1+1)\n",
        "\n",
        "        idcg += 1 / math.log2(i+1+1)\n",
        "    return dcg / idcg"
      ],
      "metadata": {
        "id": "nO47kZv1UjkH"
      },
      "execution_count": null,
      "outputs": []
    },
    {
      "cell_type": "code",
      "source": [
        "print(ndcg(GT, R1))\n",
        "print(ndcg(GT, R2))\n",
        "print(ndcg(GT, R3))\n",
        "print(ndcg(GT, R4))\n",
        "print(ndcg(GT, R5))\n",
        "print(ndcg(GT, R6))\n",
        "print(ndcg(GT, R7))"
      ],
      "metadata": {
        "colab": {
          "base_uri": "https://localhost:8080/"
        },
        "id": "EPNgNolzVGtY",
        "outputId": "a997917e-8cc8-4700-c607-385877692218"
      },
      "execution_count": null,
      "outputs": [
        {
          "output_type": "stream",
          "name": "stdout",
          "text": [
            "1.0\n",
            "0.7799082337019199\n",
            "0.8611375561264454\n",
            "0.8899541168509599\n",
            "0.9052116356304493\n",
            "0.5309999066793252\n",
            "0.0\n"
          ]
        }
      ]
    }
  ]
}